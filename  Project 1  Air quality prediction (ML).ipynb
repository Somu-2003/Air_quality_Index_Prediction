{
 "cells": [
  {
   "cell_type": "markdown",
   "id": "90bc1573",
   "metadata": {},
   "source": [
    "### Importing Libraries and Make Dataframe"
   ]
  },
  {
   "cell_type": "code",
   "execution_count": 1,
   "id": "8280724c",
   "metadata": {},
   "outputs": [],
   "source": [
    " import numpy as np\n",
    "import pandas as pd\n",
    "import matplotlib.pyplot as plt\n",
    "import seaborn as sns"
   ]
  },
  {
   "cell_type": "code",
   "execution_count": 2,
   "id": "e1e61971",
   "metadata": {},
   "outputs": [],
   "source": [
    "dataframe=pd.read_csv('city_day.csv')"
   ]
  },
  {
   "cell_type": "code",
   "execution_count": 3,
   "id": "6f47dcac",
   "metadata": {},
   "outputs": [
    {
     "data": {
      "text/html": [
       "<div>\n",
       "<style scoped>\n",
       "    .dataframe tbody tr th:only-of-type {\n",
       "        vertical-align: middle;\n",
       "    }\n",
       "\n",
       "    .dataframe tbody tr th {\n",
       "        vertical-align: top;\n",
       "    }\n",
       "\n",
       "    .dataframe thead th {\n",
       "        text-align: right;\n",
       "    }\n",
       "</style>\n",
       "<table border=\"1\" class=\"dataframe\">\n",
       "  <thead>\n",
       "    <tr style=\"text-align: right;\">\n",
       "      <th></th>\n",
       "      <th>City</th>\n",
       "      <th>Date</th>\n",
       "      <th>PM2.5</th>\n",
       "      <th>PM10</th>\n",
       "      <th>NO</th>\n",
       "      <th>NO2</th>\n",
       "      <th>NOx</th>\n",
       "      <th>NH3</th>\n",
       "      <th>CO</th>\n",
       "      <th>SO2</th>\n",
       "      <th>O3</th>\n",
       "      <th>Benzene</th>\n",
       "      <th>Toluene</th>\n",
       "      <th>Xylene</th>\n",
       "      <th>AQI</th>\n",
       "      <th>AQI_Bucket</th>\n",
       "    </tr>\n",
       "  </thead>\n",
       "  <tbody>\n",
       "    <tr>\n",
       "      <th>0</th>\n",
       "      <td>Ahmedabad</td>\n",
       "      <td>2015-01-01</td>\n",
       "      <td>NaN</td>\n",
       "      <td>NaN</td>\n",
       "      <td>0.92</td>\n",
       "      <td>18.22</td>\n",
       "      <td>17.15</td>\n",
       "      <td>NaN</td>\n",
       "      <td>0.92</td>\n",
       "      <td>27.64</td>\n",
       "      <td>133.36</td>\n",
       "      <td>0.00</td>\n",
       "      <td>0.02</td>\n",
       "      <td>0.00</td>\n",
       "      <td>NaN</td>\n",
       "      <td>NaN</td>\n",
       "    </tr>\n",
       "    <tr>\n",
       "      <th>1</th>\n",
       "      <td>Ahmedabad</td>\n",
       "      <td>2015-01-02</td>\n",
       "      <td>NaN</td>\n",
       "      <td>NaN</td>\n",
       "      <td>0.97</td>\n",
       "      <td>15.69</td>\n",
       "      <td>16.46</td>\n",
       "      <td>NaN</td>\n",
       "      <td>0.97</td>\n",
       "      <td>24.55</td>\n",
       "      <td>34.06</td>\n",
       "      <td>3.68</td>\n",
       "      <td>5.50</td>\n",
       "      <td>3.77</td>\n",
       "      <td>NaN</td>\n",
       "      <td>NaN</td>\n",
       "    </tr>\n",
       "    <tr>\n",
       "      <th>2</th>\n",
       "      <td>Ahmedabad</td>\n",
       "      <td>2015-01-03</td>\n",
       "      <td>NaN</td>\n",
       "      <td>NaN</td>\n",
       "      <td>17.40</td>\n",
       "      <td>19.30</td>\n",
       "      <td>29.70</td>\n",
       "      <td>NaN</td>\n",
       "      <td>17.40</td>\n",
       "      <td>29.07</td>\n",
       "      <td>30.70</td>\n",
       "      <td>6.80</td>\n",
       "      <td>16.40</td>\n",
       "      <td>2.25</td>\n",
       "      <td>NaN</td>\n",
       "      <td>NaN</td>\n",
       "    </tr>\n",
       "    <tr>\n",
       "      <th>3</th>\n",
       "      <td>Ahmedabad</td>\n",
       "      <td>2015-01-04</td>\n",
       "      <td>NaN</td>\n",
       "      <td>NaN</td>\n",
       "      <td>1.70</td>\n",
       "      <td>18.48</td>\n",
       "      <td>17.97</td>\n",
       "      <td>NaN</td>\n",
       "      <td>1.70</td>\n",
       "      <td>18.59</td>\n",
       "      <td>36.08</td>\n",
       "      <td>4.43</td>\n",
       "      <td>10.14</td>\n",
       "      <td>1.00</td>\n",
       "      <td>NaN</td>\n",
       "      <td>NaN</td>\n",
       "    </tr>\n",
       "    <tr>\n",
       "      <th>4</th>\n",
       "      <td>Ahmedabad</td>\n",
       "      <td>2015-01-05</td>\n",
       "      <td>NaN</td>\n",
       "      <td>NaN</td>\n",
       "      <td>22.10</td>\n",
       "      <td>21.42</td>\n",
       "      <td>37.76</td>\n",
       "      <td>NaN</td>\n",
       "      <td>22.10</td>\n",
       "      <td>39.33</td>\n",
       "      <td>39.31</td>\n",
       "      <td>7.01</td>\n",
       "      <td>18.89</td>\n",
       "      <td>2.78</td>\n",
       "      <td>NaN</td>\n",
       "      <td>NaN</td>\n",
       "    </tr>\n",
       "    <tr>\n",
       "      <th>...</th>\n",
       "      <td>...</td>\n",
       "      <td>...</td>\n",
       "      <td>...</td>\n",
       "      <td>...</td>\n",
       "      <td>...</td>\n",
       "      <td>...</td>\n",
       "      <td>...</td>\n",
       "      <td>...</td>\n",
       "      <td>...</td>\n",
       "      <td>...</td>\n",
       "      <td>...</td>\n",
       "      <td>...</td>\n",
       "      <td>...</td>\n",
       "      <td>...</td>\n",
       "      <td>...</td>\n",
       "      <td>...</td>\n",
       "    </tr>\n",
       "    <tr>\n",
       "      <th>29526</th>\n",
       "      <td>Visakhapatnam</td>\n",
       "      <td>2020-06-27</td>\n",
       "      <td>15.02</td>\n",
       "      <td>50.94</td>\n",
       "      <td>7.68</td>\n",
       "      <td>25.06</td>\n",
       "      <td>19.54</td>\n",
       "      <td>12.47</td>\n",
       "      <td>0.47</td>\n",
       "      <td>8.55</td>\n",
       "      <td>23.30</td>\n",
       "      <td>2.24</td>\n",
       "      <td>12.07</td>\n",
       "      <td>0.73</td>\n",
       "      <td>41.0</td>\n",
       "      <td>Good</td>\n",
       "    </tr>\n",
       "    <tr>\n",
       "      <th>29527</th>\n",
       "      <td>Visakhapatnam</td>\n",
       "      <td>2020-06-28</td>\n",
       "      <td>24.38</td>\n",
       "      <td>74.09</td>\n",
       "      <td>3.42</td>\n",
       "      <td>26.06</td>\n",
       "      <td>16.53</td>\n",
       "      <td>11.99</td>\n",
       "      <td>0.52</td>\n",
       "      <td>12.72</td>\n",
       "      <td>30.14</td>\n",
       "      <td>0.74</td>\n",
       "      <td>2.21</td>\n",
       "      <td>0.38</td>\n",
       "      <td>70.0</td>\n",
       "      <td>Satisfactory</td>\n",
       "    </tr>\n",
       "    <tr>\n",
       "      <th>29528</th>\n",
       "      <td>Visakhapatnam</td>\n",
       "      <td>2020-06-29</td>\n",
       "      <td>22.91</td>\n",
       "      <td>65.73</td>\n",
       "      <td>3.45</td>\n",
       "      <td>29.53</td>\n",
       "      <td>18.33</td>\n",
       "      <td>10.71</td>\n",
       "      <td>0.48</td>\n",
       "      <td>8.42</td>\n",
       "      <td>30.96</td>\n",
       "      <td>0.01</td>\n",
       "      <td>0.01</td>\n",
       "      <td>0.00</td>\n",
       "      <td>68.0</td>\n",
       "      <td>Satisfactory</td>\n",
       "    </tr>\n",
       "    <tr>\n",
       "      <th>29529</th>\n",
       "      <td>Visakhapatnam</td>\n",
       "      <td>2020-06-30</td>\n",
       "      <td>16.64</td>\n",
       "      <td>49.97</td>\n",
       "      <td>4.05</td>\n",
       "      <td>29.26</td>\n",
       "      <td>18.80</td>\n",
       "      <td>10.03</td>\n",
       "      <td>0.52</td>\n",
       "      <td>9.84</td>\n",
       "      <td>28.30</td>\n",
       "      <td>0.00</td>\n",
       "      <td>0.00</td>\n",
       "      <td>0.00</td>\n",
       "      <td>54.0</td>\n",
       "      <td>Satisfactory</td>\n",
       "    </tr>\n",
       "    <tr>\n",
       "      <th>29530</th>\n",
       "      <td>Visakhapatnam</td>\n",
       "      <td>2020-07-01</td>\n",
       "      <td>15.00</td>\n",
       "      <td>66.00</td>\n",
       "      <td>0.40</td>\n",
       "      <td>26.85</td>\n",
       "      <td>14.05</td>\n",
       "      <td>5.20</td>\n",
       "      <td>0.59</td>\n",
       "      <td>2.10</td>\n",
       "      <td>17.05</td>\n",
       "      <td>NaN</td>\n",
       "      <td>NaN</td>\n",
       "      <td>NaN</td>\n",
       "      <td>50.0</td>\n",
       "      <td>Good</td>\n",
       "    </tr>\n",
       "  </tbody>\n",
       "</table>\n",
       "<p>29531 rows × 16 columns</p>\n",
       "</div>"
      ],
      "text/plain": [
       "                City        Date  PM2.5   PM10     NO    NO2    NOx    NH3  \\\n",
       "0          Ahmedabad  2015-01-01    NaN    NaN   0.92  18.22  17.15    NaN   \n",
       "1          Ahmedabad  2015-01-02    NaN    NaN   0.97  15.69  16.46    NaN   \n",
       "2          Ahmedabad  2015-01-03    NaN    NaN  17.40  19.30  29.70    NaN   \n",
       "3          Ahmedabad  2015-01-04    NaN    NaN   1.70  18.48  17.97    NaN   \n",
       "4          Ahmedabad  2015-01-05    NaN    NaN  22.10  21.42  37.76    NaN   \n",
       "...              ...         ...    ...    ...    ...    ...    ...    ...   \n",
       "29526  Visakhapatnam  2020-06-27  15.02  50.94   7.68  25.06  19.54  12.47   \n",
       "29527  Visakhapatnam  2020-06-28  24.38  74.09   3.42  26.06  16.53  11.99   \n",
       "29528  Visakhapatnam  2020-06-29  22.91  65.73   3.45  29.53  18.33  10.71   \n",
       "29529  Visakhapatnam  2020-06-30  16.64  49.97   4.05  29.26  18.80  10.03   \n",
       "29530  Visakhapatnam  2020-07-01  15.00  66.00   0.40  26.85  14.05   5.20   \n",
       "\n",
       "          CO    SO2      O3  Benzene  Toluene  Xylene   AQI    AQI_Bucket  \n",
       "0       0.92  27.64  133.36     0.00     0.02    0.00   NaN           NaN  \n",
       "1       0.97  24.55   34.06     3.68     5.50    3.77   NaN           NaN  \n",
       "2      17.40  29.07   30.70     6.80    16.40    2.25   NaN           NaN  \n",
       "3       1.70  18.59   36.08     4.43    10.14    1.00   NaN           NaN  \n",
       "4      22.10  39.33   39.31     7.01    18.89    2.78   NaN           NaN  \n",
       "...      ...    ...     ...      ...      ...     ...   ...           ...  \n",
       "29526   0.47   8.55   23.30     2.24    12.07    0.73  41.0          Good  \n",
       "29527   0.52  12.72   30.14     0.74     2.21    0.38  70.0  Satisfactory  \n",
       "29528   0.48   8.42   30.96     0.01     0.01    0.00  68.0  Satisfactory  \n",
       "29529   0.52   9.84   28.30     0.00     0.00    0.00  54.0  Satisfactory  \n",
       "29530   0.59   2.10   17.05      NaN      NaN     NaN  50.0          Good  \n",
       "\n",
       "[29531 rows x 16 columns]"
      ]
     },
     "execution_count": 3,
     "metadata": {},
     "output_type": "execute_result"
    }
   ],
   "source": [
    "dataframe"
   ]
  },
  {
   "cell_type": "markdown",
   "id": "c1092b68",
   "metadata": {},
   "source": [
    "### Data Preprocessing and EDA"
   ]
  },
  {
   "cell_type": "code",
   "execution_count": 4,
   "id": "0e15ba13",
   "metadata": {},
   "outputs": [
    {
     "data": {
      "text/plain": [
       "<Axes: xlabel='City'>"
      ]
     },
     "execution_count": 4,
     "metadata": {},
     "output_type": "execute_result"
    },
    {
     "data": {
      "image/png": "[encoded data removed]",
      "text/plain": [
       "<Figure size 640x480 with 1 Axes>"
      ]
     },
     "metadata": {},
     "output_type": "display_data"
    }
   ],
   "source": [
    "# Check which is most polluted city in India \n",
    "dataframe[['City','AQI']].groupby('City').mean().plot(kind='bar')"
   ]
  },
  {
   "cell_type": "markdown",
   "id": "da54964e",
   "metadata": {},
   "source": [
    "- Ahmedabad is the most polluted city followed by Delhi"
   ]
  },
  {
   "cell_type": "code",
   "execution_count": 5,
   "id": "3e5ec123",
   "metadata": {},
   "outputs": [
    {
     "data": {
      "text/html": [
       "<div>\n",
       "<style scoped>\n",
       "    .dataframe tbody tr th:only-of-type {\n",
       "        vertical-align: middle;\n",
       "    }\n",
       "\n",
       "    .dataframe tbody tr th {\n",
       "        vertical-align: top;\n",
       "    }\n",
       "\n",
       "    .dataframe thead th {\n",
       "        text-align: right;\n",
       "    }\n",
       "</style>\n",
       "<table border=\"1\" class=\"dataframe\">\n",
       "  <thead>\n",
       "    <tr style=\"text-align: right;\">\n",
       "      <th></th>\n",
       "      <th>PM2.5</th>\n",
       "      <th>PM10</th>\n",
       "      <th>NO</th>\n",
       "      <th>NO2</th>\n",
       "      <th>NOx</th>\n",
       "      <th>NH3</th>\n",
       "      <th>CO</th>\n",
       "      <th>SO2</th>\n",
       "      <th>O3</th>\n",
       "      <th>Benzene</th>\n",
       "      <th>Toluene</th>\n",
       "      <th>Xylene</th>\n",
       "      <th>AQI</th>\n",
       "      <th>AQI_Bucket</th>\n",
       "    </tr>\n",
       "  </thead>\n",
       "  <tbody>\n",
       "    <tr>\n",
       "      <th>0</th>\n",
       "      <td>NaN</td>\n",
       "      <td>NaN</td>\n",
       "      <td>0.92</td>\n",
       "      <td>18.22</td>\n",
       "      <td>17.15</td>\n",
       "      <td>NaN</td>\n",
       "      <td>0.92</td>\n",
       "      <td>27.64</td>\n",
       "      <td>133.36</td>\n",
       "      <td>0.00</td>\n",
       "      <td>0.02</td>\n",
       "      <td>0.00</td>\n",
       "      <td>NaN</td>\n",
       "      <td>NaN</td>\n",
       "    </tr>\n",
       "    <tr>\n",
       "      <th>1</th>\n",
       "      <td>NaN</td>\n",
       "      <td>NaN</td>\n",
       "      <td>0.97</td>\n",
       "      <td>15.69</td>\n",
       "      <td>16.46</td>\n",
       "      <td>NaN</td>\n",
       "      <td>0.97</td>\n",
       "      <td>24.55</td>\n",
       "      <td>34.06</td>\n",
       "      <td>3.68</td>\n",
       "      <td>5.50</td>\n",
       "      <td>3.77</td>\n",
       "      <td>NaN</td>\n",
       "      <td>NaN</td>\n",
       "    </tr>\n",
       "    <tr>\n",
       "      <th>2</th>\n",
       "      <td>NaN</td>\n",
       "      <td>NaN</td>\n",
       "      <td>17.40</td>\n",
       "      <td>19.30</td>\n",
       "      <td>29.70</td>\n",
       "      <td>NaN</td>\n",
       "      <td>17.40</td>\n",
       "      <td>29.07</td>\n",
       "      <td>30.70</td>\n",
       "      <td>6.80</td>\n",
       "      <td>16.40</td>\n",
       "      <td>2.25</td>\n",
       "      <td>NaN</td>\n",
       "      <td>NaN</td>\n",
       "    </tr>\n",
       "    <tr>\n",
       "      <th>3</th>\n",
       "      <td>NaN</td>\n",
       "      <td>NaN</td>\n",
       "      <td>1.70</td>\n",
       "      <td>18.48</td>\n",
       "      <td>17.97</td>\n",
       "      <td>NaN</td>\n",
       "      <td>1.70</td>\n",
       "      <td>18.59</td>\n",
       "      <td>36.08</td>\n",
       "      <td>4.43</td>\n",
       "      <td>10.14</td>\n",
       "      <td>1.00</td>\n",
       "      <td>NaN</td>\n",
       "      <td>NaN</td>\n",
       "    </tr>\n",
       "    <tr>\n",
       "      <th>4</th>\n",
       "      <td>NaN</td>\n",
       "      <td>NaN</td>\n",
       "      <td>22.10</td>\n",
       "      <td>21.42</td>\n",
       "      <td>37.76</td>\n",
       "      <td>NaN</td>\n",
       "      <td>22.10</td>\n",
       "      <td>39.33</td>\n",
       "      <td>39.31</td>\n",
       "      <td>7.01</td>\n",
       "      <td>18.89</td>\n",
       "      <td>2.78</td>\n",
       "      <td>NaN</td>\n",
       "      <td>NaN</td>\n",
       "    </tr>\n",
       "    <tr>\n",
       "      <th>...</th>\n",
       "      <td>...</td>\n",
       "      <td>...</td>\n",
       "      <td>...</td>\n",
       "      <td>...</td>\n",
       "      <td>...</td>\n",
       "      <td>...</td>\n",
       "      <td>...</td>\n",
       "      <td>...</td>\n",
       "      <td>...</td>\n",
       "      <td>...</td>\n",
       "      <td>...</td>\n",
       "      <td>...</td>\n",
       "      <td>...</td>\n",
       "      <td>...</td>\n",
       "    </tr>\n",
       "    <tr>\n",
       "      <th>29526</th>\n",
       "      <td>15.02</td>\n",
       "      <td>50.94</td>\n",
       "      <td>7.68</td>\n",
       "      <td>25.06</td>\n",
       "      <td>19.54</td>\n",
       "      <td>12.47</td>\n",
       "      <td>0.47</td>\n",
       "      <td>8.55</td>\n",
       "      <td>23.30</td>\n",
       "      <td>2.24</td>\n",
       "      <td>12.07</td>\n",
       "      <td>0.73</td>\n",
       "      <td>41.0</td>\n",
       "      <td>Good</td>\n",
       "    </tr>\n",
       "    <tr>\n",
       "      <th>29527</th>\n",
       "      <td>24.38</td>\n",
       "      <td>74.09</td>\n",
       "      <td>3.42</td>\n",
       "      <td>26.06</td>\n",
       "      <td>16.53</td>\n",
       "      <td>11.99</td>\n",
       "      <td>0.52</td>\n",
       "      <td>12.72</td>\n",
       "      <td>30.14</td>\n",
       "      <td>0.74</td>\n",
       "      <td>2.21</td>\n",
       "      <td>0.38</td>\n",
       "      <td>70.0</td>\n",
       "      <td>Satisfactory</td>\n",
       "    </tr>\n",
       "    <tr>\n",
       "      <th>29528</th>\n",
       "      <td>22.91</td>\n",
       "      <td>65.73</td>\n",
       "      <td>3.45</td>\n",
       "      <td>29.53</td>\n",
       "      <td>18.33</td>\n",
       "      <td>10.71</td>\n",
       "      <td>0.48</td>\n",
       "      <td>8.42</td>\n",
       "      <td>30.96</td>\n",
       "      <td>0.01</td>\n",
       "      <td>0.01</td>\n",
       "      <td>0.00</td>\n",
       "      <td>68.0</td>\n",
       "      <td>Satisfactory</td>\n",
       "    </tr>\n",
       "    <tr>\n",
       "      <th>29529</th>\n",
       "      <td>16.64</td>\n",
       "      <td>49.97</td>\n",
       "      <td>4.05</td>\n",
       "      <td>29.26</td>\n",
       "      <td>18.80</td>\n",
       "      <td>10.03</td>\n",
       "      <td>0.52</td>\n",
       "      <td>9.84</td>\n",
       "      <td>28.30</td>\n",
       "      <td>0.00</td>\n",
       "      <td>0.00</td>\n",
       "      <td>0.00</td>\n",
       "      <td>54.0</td>\n",
       "      <td>Satisfactory</td>\n",
       "    </tr>\n",
       "    <tr>\n",
       "      <th>29530</th>\n",
       "      <td>15.00</td>\n",
       "      <td>66.00</td>\n",
       "      <td>0.40</td>\n",
       "      <td>26.85</td>\n",
       "      <td>14.05</td>\n",
       "      <td>5.20</td>\n",
       "      <td>0.59</td>\n",
       "      <td>2.10</td>\n",
       "      <td>17.05</td>\n",
       "      <td>NaN</td>\n",
       "      <td>NaN</td>\n",
       "      <td>NaN</td>\n",
       "      <td>50.0</td>\n",
       "      <td>Good</td>\n",
       "    </tr>\n",
       "  </tbody>\n",
       "</table>\n",
       "<p>29531 rows × 14 columns</p>\n",
       "</div>"
      ],
      "text/plain": [
       "       PM2.5   PM10     NO    NO2    NOx    NH3     CO    SO2      O3  \\\n",
       "0        NaN    NaN   0.92  18.22  17.15    NaN   0.92  27.64  133.36   \n",
       "1        NaN    NaN   0.97  15.69  16.46    NaN   0.97  24.55   34.06   \n",
       "2        NaN    NaN  17.40  19.30  29.70    NaN  17.40  29.07   30.70   \n",
       "3        NaN    NaN   1.70  18.48  17.97    NaN   1.70  18.59   36.08   \n",
       "4        NaN    NaN  22.10  21.42  37.76    NaN  22.10  39.33   39.31   \n",
       "...      ...    ...    ...    ...    ...    ...    ...    ...     ...   \n",
       "29526  15.02  50.94   7.68  25.06  19.54  12.47   0.47   8.55   23.30   \n",
       "29527  24.38  74.09   3.42  26.06  16.53  11.99   0.52  12.72   30.14   \n",
       "29528  22.91  65.73   3.45  29.53  18.33  10.71   0.48   8.42   30.96   \n",
       "29529  16.64  49.97   4.05  29.26  18.80  10.03   0.52   9.84   28.30   \n",
       "29530  15.00  66.00   0.40  26.85  14.05   5.20   0.59   2.10   17.05   \n",
       "\n",
       "       Benzene  Toluene  Xylene   AQI    AQI_Bucket  \n",
       "0         0.00     0.02    0.00   NaN           NaN  \n",
       "1         3.68     5.50    3.77   NaN           NaN  \n",
       "2         6.80    16.40    2.25   NaN           NaN  \n",
       "3         4.43    10.14    1.00   NaN           NaN  \n",
       "4         7.01    18.89    2.78   NaN           NaN  \n",
       "...        ...      ...     ...   ...           ...  \n",
       "29526     2.24    12.07    0.73  41.0          Good  \n",
       "29527     0.74     2.21    0.38  70.0  Satisfactory  \n",
       "29528     0.01     0.01    0.00  68.0  Satisfactory  \n",
       "29529     0.00     0.00    0.00  54.0  Satisfactory  \n",
       "29530      NaN      NaN     NaN  50.0          Good  \n",
       "\n",
       "[29531 rows x 14 columns]"
      ]
     },
     "execution_count": 5,
     "metadata": {},
     "output_type": "execute_result"
    }
   ],
   "source": [
    "# Feature selection\n",
    "df=dataframe.drop(columns=['City','Date'],axis=1)\n",
    "df"
   ]
  },
  {
   "cell_type": "code",
   "execution_count": 6,
   "id": "3b8a60d3",
   "metadata": {},
   "outputs": [
    {
     "data": {
      "text/plain": [
       "PM2.5          4598\n",
       "PM10          11140\n",
       "NO             3582\n",
       "NO2            3585\n",
       "NOx            4185\n",
       "NH3           10328\n",
       "CO             2059\n",
       "SO2            3854\n",
       "O3             4022\n",
       "Benzene        5623\n",
       "Toluene        8041\n",
       "Xylene        18109\n",
       "AQI            4681\n",
       "AQI_Bucket     4681\n",
       "dtype: int64"
      ]
     },
     "execution_count": 6,
     "metadata": {},
     "output_type": "execute_result"
    }
   ],
   "source": [
    "# Handling Missing Values\n",
    "\n",
    "df.isnull().sum()"
   ]
  },
  {
   "cell_type": "code",
   "execution_count": 7,
   "id": "c46c3248",
   "metadata": {},
   "outputs": [
    {
     "data": {
      "text/plain": [
       "<Axes: >"
      ]
     },
     "execution_count": 7,
     "metadata": {},
     "output_type": "execute_result"
    },
    {
     "data": {
      "image/png": "[encoded data removed]",
      "text/plain": [
       "<Figure size 640x480 with 2 Axes>"
      ]
     },
     "metadata": {},
     "output_type": "display_data"
    }
   ],
   "source": [
    "sns.heatmap(df.isnull(),yticklabels=False,cbar=True,cmap='viridis')"
   ]
  },
  {
   "cell_type": "code",
   "execution_count": 8,
   "id": "aca937de",
   "metadata": {},
   "outputs": [
    {
     "name": "stderr",
     "output_type": "stream",
     "text": [
      "C:\\Users\\monda\\AppData\\Local\\Temp\\ipykernel_7300\\1510522600.py:1: UserWarning: \n",
      "\n",
      "`distplot` is a deprecated function and will be removed in seaborn v0.14.0.\n",
      "\n",
      "Please adapt your code to use either `displot` (a figure-level function with\n",
      "similar flexibility) or `histplot` (an axes-level function for histograms).\n",
      "\n",
      "For a guide to updating your code to use the new functions, please see\n",
      "https://gist.github.com/mwaskom/de44147ed2974457ad6372750bbe5751\n",
      "\n",
      "  sns.distplot(df.PM10)\n"
     ]
    },
    {
     "data": {
      "text/plain": [
       "<Axes: xlabel='PM10', ylabel='Density'>"
      ]
     },
     "execution_count": 8,
     "metadata": {},
     "output_type": "execute_result"
    },
    {
     "data": {
      "image/png": "[encoded data removed]",
      "text/plain": [
       "<Figure size 640x480 with 1 Axes>"
      ]
     },
     "metadata": {},
     "output_type": "display_data"
    }
   ],
   "source": [
    "sns.distplot(df.PM10)"
   ]
  },
  {
   "cell_type": "code",
   "execution_count": 9,
   "id": "7d95c05d",
   "metadata": {},
   "outputs": [
    {
     "name": "stderr",
     "output_type": "stream",
     "text": [
      "C:\\Users\\monda\\AppData\\Local\\Temp\\ipykernel_7300\\2767170908.py:1: UserWarning: \n",
      "\n",
      "`distplot` is a deprecated function and will be removed in seaborn v0.14.0.\n",
      "\n",
      "Please adapt your code to use either `displot` (a figure-level function with\n",
      "similar flexibility) or `histplot` (an axes-level function for histograms).\n",
      "\n",
      "For a guide to updating your code to use the new functions, please see\n",
      "https://gist.github.com/mwaskom/de44147ed2974457ad6372750bbe5751\n",
      "\n",
      "  sns.distplot(df.NO)\n"
     ]
    },
    {
     "data": {
      "text/plain": [
       "<Axes: xlabel='NO', ylabel='Density'>"
      ]
     },
     "execution_count": 9,
     "metadata": {},
     "output_type": "execute_result"
    },
    {
     "data": {
      "image/png": "[encoded data removed]",
      "text/plain": [
       "<Figure size 640x480 with 1 Axes>"
      ]
     },
     "metadata": {},
     "output_type": "display_data"
    }
   ],
   "source": [
    "sns.distplot(df.NO)"
   ]
  },
  {
   "cell_type": "markdown",
   "id": "b94ad30e",
   "metadata": {},
   "source": [
    "- uneven distribution for all the features of the datasets such as PM2.5,PM10,NO,NO2,NOx,NH3,CO,SO2,O3,Benxene,Tolune,Xylene\n",
    "- So we have to replace all missing values either by median or mode instead of mean "
   ]
  },
  {
   "cell_type": "code",
   "execution_count": 10,
   "id": "8b809170",
   "metadata": {},
   "outputs": [
    {
     "data": {
      "text/plain": [
       "<bound method DataFrame.info of        PM2.5   PM10     NO    NO2    NOx    NH3     CO    SO2      O3  \\\n",
       "0        NaN    NaN   0.92  18.22  17.15    NaN   0.92  27.64  133.36   \n",
       "1        NaN    NaN   0.97  15.69  16.46    NaN   0.97  24.55   34.06   \n",
       "2        NaN    NaN  17.40  19.30  29.70    NaN  17.40  29.07   30.70   \n",
       "3        NaN    NaN   1.70  18.48  17.97    NaN   1.70  18.59   36.08   \n",
       "4        NaN    NaN  22.10  21.42  37.76    NaN  22.10  39.33   39.31   \n",
       "...      ...    ...    ...    ...    ...    ...    ...    ...     ...   \n",
       "29526  15.02  50.94   7.68  25.06  19.54  12.47   0.47   8.55   23.30   \n",
       "29527  24.38  74.09   3.42  26.06  16.53  11.99   0.52  12.72   30.14   \n",
       "29528  22.91  65.73   3.45  29.53  18.33  10.71   0.48   8.42   30.96   \n",
       "29529  16.64  49.97   4.05  29.26  18.80  10.03   0.52   9.84   28.30   \n",
       "29530  15.00  66.00   0.40  26.85  14.05   5.20   0.59   2.10   17.05   \n",
       "\n",
       "       Benzene  Toluene  Xylene   AQI    AQI_Bucket  \n",
       "0         0.00     0.02    0.00   NaN           NaN  \n",
       "1         3.68     5.50    3.77   NaN           NaN  \n",
       "2         6.80    16.40    2.25   NaN           NaN  \n",
       "3         4.43    10.14    1.00   NaN           NaN  \n",
       "4         7.01    18.89    2.78   NaN           NaN  \n",
       "...        ...      ...     ...   ...           ...  \n",
       "29526     2.24    12.07    0.73  41.0          Good  \n",
       "29527     0.74     2.21    0.38  70.0  Satisfactory  \n",
       "29528     0.01     0.01    0.00  68.0  Satisfactory  \n",
       "29529     0.00     0.00    0.00  54.0  Satisfactory  \n",
       "29530      NaN      NaN     NaN  50.0          Good  \n",
       "\n",
       "[29531 rows x 14 columns]>"
      ]
     },
     "execution_count": 10,
     "metadata": {},
     "output_type": "execute_result"
    }
   ],
   "source": [
    "df.info"
   ]
  },
  {
   "cell_type": "code",
   "execution_count": 11,
   "id": "60afb719",
   "metadata": {},
   "outputs": [
    {
     "data": {
      "text/html": [
       "<div>\n",
       "<style scoped>\n",
       "    .dataframe tbody tr th:only-of-type {\n",
       "        vertical-align: middle;\n",
       "    }\n",
       "\n",
       "    .dataframe tbody tr th {\n",
       "        vertical-align: top;\n",
       "    }\n",
       "\n",
       "    .dataframe thead th {\n",
       "        text-align: right;\n",
       "    }\n",
       "</style>\n",
       "<table border=\"1\" class=\"dataframe\">\n",
       "  <thead>\n",
       "    <tr style=\"text-align: right;\">\n",
       "      <th></th>\n",
       "      <th>PM2.5</th>\n",
       "      <th>PM10</th>\n",
       "      <th>NO</th>\n",
       "      <th>NO2</th>\n",
       "      <th>NOx</th>\n",
       "      <th>NH3</th>\n",
       "      <th>CO</th>\n",
       "      <th>SO2</th>\n",
       "      <th>O3</th>\n",
       "      <th>Benzene</th>\n",
       "      <th>Toluene</th>\n",
       "      <th>Xylene</th>\n",
       "      <th>AQI</th>\n",
       "    </tr>\n",
       "  </thead>\n",
       "  <tbody>\n",
       "    <tr>\n",
       "      <th>count</th>\n",
       "      <td>24933.000000</td>\n",
       "      <td>18391.000000</td>\n",
       "      <td>25949.000000</td>\n",
       "      <td>25946.000000</td>\n",
       "      <td>25346.000000</td>\n",
       "      <td>19203.000000</td>\n",
       "      <td>27472.000000</td>\n",
       "      <td>25677.000000</td>\n",
       "      <td>25509.000000</td>\n",
       "      <td>23908.000000</td>\n",
       "      <td>21490.000000</td>\n",
       "      <td>11422.000000</td>\n",
       "      <td>24850.000000</td>\n",
       "    </tr>\n",
       "    <tr>\n",
       "      <th>mean</th>\n",
       "      <td>67.450578</td>\n",
       "      <td>118.127103</td>\n",
       "      <td>17.574730</td>\n",
       "      <td>28.560659</td>\n",
       "      <td>32.309123</td>\n",
       "      <td>23.483476</td>\n",
       "      <td>2.248598</td>\n",
       "      <td>14.531977</td>\n",
       "      <td>34.491430</td>\n",
       "      <td>3.280840</td>\n",
       "      <td>8.700972</td>\n",
       "      <td>3.070128</td>\n",
       "      <td>166.463581</td>\n",
       "    </tr>\n",
       "    <tr>\n",
       "      <th>std</th>\n",
       "      <td>64.661449</td>\n",
       "      <td>90.605110</td>\n",
       "      <td>22.785846</td>\n",
       "      <td>24.474746</td>\n",
       "      <td>31.646011</td>\n",
       "      <td>25.684275</td>\n",
       "      <td>6.962884</td>\n",
       "      <td>18.133775</td>\n",
       "      <td>21.694928</td>\n",
       "      <td>15.811136</td>\n",
       "      <td>19.969164</td>\n",
       "      <td>6.323247</td>\n",
       "      <td>140.696585</td>\n",
       "    </tr>\n",
       "    <tr>\n",
       "      <th>min</th>\n",
       "      <td>0.040000</td>\n",
       "      <td>0.010000</td>\n",
       "      <td>0.020000</td>\n",
       "      <td>0.010000</td>\n",
       "      <td>0.000000</td>\n",
       "      <td>0.010000</td>\n",
       "      <td>0.000000</td>\n",
       "      <td>0.010000</td>\n",
       "      <td>0.010000</td>\n",
       "      <td>0.000000</td>\n",
       "      <td>0.000000</td>\n",
       "      <td>0.000000</td>\n",
       "      <td>13.000000</td>\n",
       "    </tr>\n",
       "    <tr>\n",
       "      <th>25%</th>\n",
       "      <td>28.820000</td>\n",
       "      <td>56.255000</td>\n",
       "      <td>5.630000</td>\n",
       "      <td>11.750000</td>\n",
       "      <td>12.820000</td>\n",
       "      <td>8.580000</td>\n",
       "      <td>0.510000</td>\n",
       "      <td>5.670000</td>\n",
       "      <td>18.860000</td>\n",
       "      <td>0.120000</td>\n",
       "      <td>0.600000</td>\n",
       "      <td>0.140000</td>\n",
       "      <td>81.000000</td>\n",
       "    </tr>\n",
       "    <tr>\n",
       "      <th>50%</th>\n",
       "      <td>48.570000</td>\n",
       "      <td>95.680000</td>\n",
       "      <td>9.890000</td>\n",
       "      <td>21.690000</td>\n",
       "      <td>23.520000</td>\n",
       "      <td>15.850000</td>\n",
       "      <td>0.890000</td>\n",
       "      <td>9.160000</td>\n",
       "      <td>30.840000</td>\n",
       "      <td>1.070000</td>\n",
       "      <td>2.970000</td>\n",
       "      <td>0.980000</td>\n",
       "      <td>118.000000</td>\n",
       "    </tr>\n",
       "    <tr>\n",
       "      <th>75%</th>\n",
       "      <td>80.590000</td>\n",
       "      <td>149.745000</td>\n",
       "      <td>19.950000</td>\n",
       "      <td>37.620000</td>\n",
       "      <td>40.127500</td>\n",
       "      <td>30.020000</td>\n",
       "      <td>1.450000</td>\n",
       "      <td>15.220000</td>\n",
       "      <td>45.570000</td>\n",
       "      <td>3.080000</td>\n",
       "      <td>9.150000</td>\n",
       "      <td>3.350000</td>\n",
       "      <td>208.000000</td>\n",
       "    </tr>\n",
       "    <tr>\n",
       "      <th>max</th>\n",
       "      <td>949.990000</td>\n",
       "      <td>1000.000000</td>\n",
       "      <td>390.680000</td>\n",
       "      <td>362.210000</td>\n",
       "      <td>467.630000</td>\n",
       "      <td>352.890000</td>\n",
       "      <td>175.810000</td>\n",
       "      <td>193.860000</td>\n",
       "      <td>257.730000</td>\n",
       "      <td>455.030000</td>\n",
       "      <td>454.850000</td>\n",
       "      <td>170.370000</td>\n",
       "      <td>2049.000000</td>\n",
       "    </tr>\n",
       "  </tbody>\n",
       "</table>\n",
       "</div>"
      ],
      "text/plain": [
       "              PM2.5          PM10            NO           NO2           NOx  \\\n",
       "count  24933.000000  18391.000000  25949.000000  25946.000000  25346.000000   \n",
       "mean      67.450578    118.127103     17.574730     28.560659     32.309123   \n",
       "std       64.661449     90.605110     22.785846     24.474746     31.646011   \n",
       "min        0.040000      0.010000      0.020000      0.010000      0.000000   \n",
       "25%       28.820000     56.255000      5.630000     11.750000     12.820000   \n",
       "50%       48.570000     95.680000      9.890000     21.690000     23.520000   \n",
       "75%       80.590000    149.745000     19.950000     37.620000     40.127500   \n",
       "max      949.990000   1000.000000    390.680000    362.210000    467.630000   \n",
       "\n",
       "                NH3            CO           SO2            O3       Benzene  \\\n",
       "count  19203.000000  27472.000000  25677.000000  25509.000000  23908.000000   \n",
       "mean      23.483476      2.248598     14.531977     34.491430      3.280840   \n",
       "std       25.684275      6.962884     18.133775     21.694928     15.811136   \n",
       "min        0.010000      0.000000      0.010000      0.010000      0.000000   \n",
       "25%        8.580000      0.510000      5.670000     18.860000      0.120000   \n",
       "50%       15.850000      0.890000      9.160000     30.840000      1.070000   \n",
       "75%       30.020000      1.450000     15.220000     45.570000      3.080000   \n",
       "max      352.890000    175.810000    193.860000    257.730000    455.030000   \n",
       "\n",
       "            Toluene        Xylene           AQI  \n",
       "count  21490.000000  11422.000000  24850.000000  \n",
       "mean       8.700972      3.070128    166.463581  \n",
       "std       19.969164      6.323247    140.696585  \n",
       "min        0.000000      0.000000     13.000000  \n",
       "25%        0.600000      0.140000     81.000000  \n",
       "50%        2.970000      0.980000    118.000000  \n",
       "75%        9.150000      3.350000    208.000000  \n",
       "max      454.850000    170.370000   2049.000000  "
      ]
     },
     "execution_count": 11,
     "metadata": {},
     "output_type": "execute_result"
    }
   ],
   "source": [
    "df.describe()"
   ]
  },
  {
   "cell_type": "code",
   "execution_count": 12,
   "id": "00ca18cf",
   "metadata": {},
   "outputs": [
    {
     "data": {
      "text/plain": [
       "PM2.5            0\n",
       "PM10             0\n",
       "NO               0\n",
       "NO2              0\n",
       "NOx              0\n",
       "NH3              0\n",
       "CO               0\n",
       "SO2              0\n",
       "O3               0\n",
       "Benzene          0\n",
       "Toluene          0\n",
       "Xylene           0\n",
       "AQI           4681\n",
       "AQI_Bucket    4681\n",
       "dtype: int64"
      ]
     },
     "execution_count": 12,
     "metadata": {},
     "output_type": "execute_result"
    }
   ],
   "source": [
    "df['PM2.5'].fillna(df['PM2.5'].median(),inplace=True)\n",
    "df['PM10'].fillna(df['PM10'].median(),inplace=True)\n",
    "df['NO'].fillna(df['NO'].median(),inplace=True)\n",
    "df['NO2'].fillna(df['NO2'].median(),inplace=True)\n",
    "df['NOx'].fillna(df['NOx'].median(),inplace=True)\n",
    "df['NH3'].fillna(df['NH3'].median(),inplace=True)\n",
    "df['CO'].fillna(df['CO'].median(),inplace=True)\n",
    "df['SO2'].fillna(df['SO2'].median(),inplace=True)\n",
    "df['O3'].fillna(df['O3'].median(),inplace=True)\n",
    "df['Benzene'].fillna(df['Benzene'].median(),inplace=True)\n",
    "df['Toluene'].fillna(df['Toluene'].median(),inplace=True)\n",
    "df['Xylene'].fillna(df['Xylene'].median(),inplace=True)\n",
    "df.isnull().sum()"
   ]
  },
  {
   "cell_type": "code",
   "execution_count": 13,
   "id": "da6fda05",
   "metadata": {},
   "outputs": [
    {
     "data": {
      "text/plain": [
       "<Axes: >"
      ]
     },
     "execution_count": 13,
     "metadata": {},
     "output_type": "execute_result"
    },
    {
     "data": {
      "image/png": "[encoded data removed]",
      "text/plain": [
       "<Figure size 640x480 with 2 Axes>"
      ]
     },
     "metadata": {},
     "output_type": "display_data"
    }
   ],
   "source": [
    "sns.heatmap(df.isnull(),yticklabels=False,cbar=True,cmap='viridis')"
   ]
  },
  {
   "cell_type": "markdown",
   "id": "ee468548",
   "metadata": {},
   "source": [
    "- We cannot replace AQI and AQI_Buckets by any unknown value so we have to remove those specific rows"
   ]
  },
  {
   "cell_type": "code",
   "execution_count": 14,
   "id": "75cabc80",
   "metadata": {},
   "outputs": [
    {
     "name": "stdout",
     "output_type": "stream",
     "text": [
      "PM2.5         0\n",
      "PM10          0\n",
      "NO            0\n",
      "NO2           0\n",
      "NOx           0\n",
      "NH3           0\n",
      "CO            0\n",
      "SO2           0\n",
      "O3            0\n",
      "Benzene       0\n",
      "Toluene       0\n",
      "Xylene        0\n",
      "AQI           0\n",
      "AQI_Bucket    0\n",
      "dtype: int64\n"
     ]
    },
    {
     "data": {
      "text/plain": [
       "(24850, 14)"
      ]
     },
     "execution_count": 14,
     "metadata": {},
     "output_type": "execute_result"
    }
   ],
   "source": [
    "df = df.dropna(how='any')\n",
    "print(df.isnull().sum())\n",
    "df.shape"
   ]
  },
  {
   "cell_type": "code",
   "execution_count": 15,
   "id": "06eb23ce",
   "metadata": {},
   "outputs": [
    {
     "name": "stderr",
     "output_type": "stream",
     "text": [
      "C:\\Users\\monda\\AppData\\Local\\Temp\\ipykernel_7300\\2627959052.py:2: FutureWarning: The default value of numeric_only in DataFrame.corr is deprecated. In a future version, it will default to False. Select only valid columns or specify the value of numeric_only to silence this warning.\n",
      "  correlation = df.corr()\n"
     ]
    },
    {
     "data": {
      "text/plain": [
       "<Axes: >"
      ]
     },
     "execution_count": 15,
     "metadata": {},
     "output_type": "execute_result"
    },
    {
     "data": {
      "image/png": "[encoded data removed]",
      "text/plain": [
       "<Figure size 1000x1000 with 2 Axes>"
      ]
     },
     "metadata": {},
     "output_type": "display_data"
    }
   ],
   "source": [
    "# Check correlation between differnent polutant components\n",
    "correlation = df.corr()\n",
    "# constructing a Heat Map\n",
    "plt.figure(figsize=(10,10))\n",
    "sns.heatmap(data=correlation,cbar=True, square=True, fmt='.1f', annot=True,  cmap='Blues')"
   ]
  },
  {
   "cell_type": "code",
   "execution_count": 16,
   "id": "1864b550",
   "metadata": {},
   "outputs": [
    {
     "data": {
      "text/plain": [
       "Moderate        8829\n",
       "Satisfactory    8224\n",
       "Poor            2781\n",
       "Very Poor       2337\n",
       "Good            1341\n",
       "Severe          1338\n",
       "Name: AQI_Bucket, dtype: int64"
      ]
     },
     "execution_count": 16,
     "metadata": {},
     "output_type": "execute_result"
    }
   ],
   "source": [
    "# label encoding\n",
    "from sklearn.preprocessing import LabelEncoder\n",
    "df['AQI_Bucket'].value_counts()"
   ]
  },
  {
   "cell_type": "code",
   "execution_count": 17,
   "id": "cca2424a",
   "metadata": {},
   "outputs": [
    {
     "data": {
      "text/html": [
       "<div>\n",
       "<style scoped>\n",
       "    .dataframe tbody tr th:only-of-type {\n",
       "        vertical-align: middle;\n",
       "    }\n",
       "\n",
       "    .dataframe tbody tr th {\n",
       "        vertical-align: top;\n",
       "    }\n",
       "\n",
       "    .dataframe thead th {\n",
       "        text-align: right;\n",
       "    }\n",
       "</style>\n",
       "<table border=\"1\" class=\"dataframe\">\n",
       "  <thead>\n",
       "    <tr style=\"text-align: right;\">\n",
       "      <th></th>\n",
       "      <th>PM2.5</th>\n",
       "      <th>PM10</th>\n",
       "      <th>NO</th>\n",
       "      <th>NO2</th>\n",
       "      <th>NOx</th>\n",
       "      <th>NH3</th>\n",
       "      <th>CO</th>\n",
       "      <th>SO2</th>\n",
       "      <th>O3</th>\n",
       "      <th>Benzene</th>\n",
       "      <th>Toluene</th>\n",
       "      <th>Xylene</th>\n",
       "      <th>AQI</th>\n",
       "      <th>AQI_Bucket</th>\n",
       "    </tr>\n",
       "  </thead>\n",
       "  <tbody>\n",
       "    <tr>\n",
       "      <th>28</th>\n",
       "      <td>83.13</td>\n",
       "      <td>95.68</td>\n",
       "      <td>6.93</td>\n",
       "      <td>28.71</td>\n",
       "      <td>33.72</td>\n",
       "      <td>15.85</td>\n",
       "      <td>6.93</td>\n",
       "      <td>49.52</td>\n",
       "      <td>59.76</td>\n",
       "      <td>0.02</td>\n",
       "      <td>0.00</td>\n",
       "      <td>3.14</td>\n",
       "      <td>209.0</td>\n",
       "      <td>2</td>\n",
       "    </tr>\n",
       "    <tr>\n",
       "      <th>29</th>\n",
       "      <td>79.84</td>\n",
       "      <td>95.68</td>\n",
       "      <td>13.85</td>\n",
       "      <td>28.68</td>\n",
       "      <td>41.08</td>\n",
       "      <td>15.85</td>\n",
       "      <td>13.85</td>\n",
       "      <td>48.49</td>\n",
       "      <td>97.07</td>\n",
       "      <td>0.04</td>\n",
       "      <td>0.00</td>\n",
       "      <td>4.81</td>\n",
       "      <td>328.0</td>\n",
       "      <td>5</td>\n",
       "    </tr>\n",
       "    <tr>\n",
       "      <th>30</th>\n",
       "      <td>94.52</td>\n",
       "      <td>95.68</td>\n",
       "      <td>24.39</td>\n",
       "      <td>32.66</td>\n",
       "      <td>52.61</td>\n",
       "      <td>15.85</td>\n",
       "      <td>24.39</td>\n",
       "      <td>67.39</td>\n",
       "      <td>111.33</td>\n",
       "      <td>0.24</td>\n",
       "      <td>0.01</td>\n",
       "      <td>7.67</td>\n",
       "      <td>514.0</td>\n",
       "      <td>4</td>\n",
       "    </tr>\n",
       "    <tr>\n",
       "      <th>31</th>\n",
       "      <td>135.99</td>\n",
       "      <td>95.68</td>\n",
       "      <td>43.48</td>\n",
       "      <td>42.08</td>\n",
       "      <td>84.57</td>\n",
       "      <td>15.85</td>\n",
       "      <td>43.48</td>\n",
       "      <td>75.23</td>\n",
       "      <td>102.70</td>\n",
       "      <td>0.40</td>\n",
       "      <td>0.04</td>\n",
       "      <td>25.87</td>\n",
       "      <td>782.0</td>\n",
       "      <td>4</td>\n",
       "    </tr>\n",
       "    <tr>\n",
       "      <th>32</th>\n",
       "      <td>178.33</td>\n",
       "      <td>95.68</td>\n",
       "      <td>54.56</td>\n",
       "      <td>35.31</td>\n",
       "      <td>72.80</td>\n",
       "      <td>15.85</td>\n",
       "      <td>54.56</td>\n",
       "      <td>55.04</td>\n",
       "      <td>107.38</td>\n",
       "      <td>0.46</td>\n",
       "      <td>0.06</td>\n",
       "      <td>35.61</td>\n",
       "      <td>914.0</td>\n",
       "      <td>4</td>\n",
       "    </tr>\n",
       "  </tbody>\n",
       "</table>\n",
       "</div>"
      ],
      "text/plain": [
       "     PM2.5   PM10     NO    NO2    NOx    NH3     CO    SO2      O3  Benzene  \\\n",
       "28   83.13  95.68   6.93  28.71  33.72  15.85   6.93  49.52   59.76     0.02   \n",
       "29   79.84  95.68  13.85  28.68  41.08  15.85  13.85  48.49   97.07     0.04   \n",
       "30   94.52  95.68  24.39  32.66  52.61  15.85  24.39  67.39  111.33     0.24   \n",
       "31  135.99  95.68  43.48  42.08  84.57  15.85  43.48  75.23  102.70     0.40   \n",
       "32  178.33  95.68  54.56  35.31  72.80  15.85  54.56  55.04  107.38     0.46   \n",
       "\n",
       "    Toluene  Xylene    AQI  AQI_Bucket  \n",
       "28     0.00    3.14  209.0           2  \n",
       "29     0.00    4.81  328.0           5  \n",
       "30     0.01    7.67  514.0           4  \n",
       "31     0.04   25.87  782.0           4  \n",
       "32     0.06   35.61  914.0           4  "
      ]
     },
     "execution_count": 17,
     "metadata": {},
     "output_type": "execute_result"
    }
   ],
   "source": [
    "label_encode = LabelEncoder()\n",
    "labels = label_encode.fit_transform(df.AQI_Bucket)\n",
    "df=df.drop(columns='AQI_Bucket',axis=0)\n",
    "df['AQI_Bucket'] = labels       ##0 -->Moderate ,1 -->Satisfactory ,2-->Poor,3-->Very Poor,4-->Good ,5-->Severe\n",
    "df.head()"
   ]
  },
  {
   "cell_type": "code",
   "execution_count": 18,
   "id": "db578308",
   "metadata": {},
   "outputs": [
    {
     "name": "stdout",
     "output_type": "stream",
     "text": [
      "        PM2.5   PM10     NO    NO2    NOx    NH3     CO    SO2      O3  \\\n",
      "28      83.13  95.68   6.93  28.71  33.72  15.85   6.93  49.52   59.76   \n",
      "29      79.84  95.68  13.85  28.68  41.08  15.85  13.85  48.49   97.07   \n",
      "30      94.52  95.68  24.39  32.66  52.61  15.85  24.39  67.39  111.33   \n",
      "31     135.99  95.68  43.48  42.08  84.57  15.85  43.48  75.23  102.70   \n",
      "32     178.33  95.68  54.56  35.31  72.80  15.85  54.56  55.04  107.38   \n",
      "...       ...    ...    ...    ...    ...    ...    ...    ...     ...   \n",
      "29526   15.02  50.94   7.68  25.06  19.54  12.47   0.47   8.55   23.30   \n",
      "29527   24.38  74.09   3.42  26.06  16.53  11.99   0.52  12.72   30.14   \n",
      "29528   22.91  65.73   3.45  29.53  18.33  10.71   0.48   8.42   30.96   \n",
      "29529   16.64  49.97   4.05  29.26  18.80  10.03   0.52   9.84   28.30   \n",
      "29530   15.00  66.00   0.40  26.85  14.05   5.20   0.59   2.10   17.05   \n",
      "\n",
      "       Benzene  Toluene  Xylene  \n",
      "28        0.02     0.00    3.14  \n",
      "29        0.04     0.00    4.81  \n",
      "30        0.24     0.01    7.67  \n",
      "31        0.40     0.04   25.87  \n",
      "32        0.46     0.06   35.61  \n",
      "...        ...      ...     ...  \n",
      "29526     2.24    12.07    0.73  \n",
      "29527     0.74     2.21    0.38  \n",
      "29528     0.01     0.01    0.00  \n",
      "29529     0.00     0.00    0.00  \n",
      "29530     1.07     2.97    0.98  \n",
      "\n",
      "[24850 rows x 12 columns]\n",
      "28       209.0\n",
      "29       328.0\n",
      "30       514.0\n",
      "31       782.0\n",
      "32       914.0\n",
      "         ...  \n",
      "29526     41.0\n",
      "29527     70.0\n",
      "29528     68.0\n",
      "29529     54.0\n",
      "29530     50.0\n",
      "Name: AQI, Length: 24850, dtype: float64\n",
      "28       2\n",
      "29       5\n",
      "30       4\n",
      "31       4\n",
      "32       4\n",
      "        ..\n",
      "29526    0\n",
      "29527    3\n",
      "29528    3\n",
      "29529    3\n",
      "29530    0\n",
      "Name: AQI_Bucket, Length: 24850, dtype: int32\n"
     ]
    }
   ],
   "source": [
    "# separate dependent and independent feature\n",
    "X=df.drop(columns=['AQI','AQI_Bucket'],axis=1)\n",
    "y=df['AQI']\n",
    "y1=df['AQI_Bucket']\n",
    "print(X)\n",
    "print(y)\n",
    "print(y1)"
   ]
  },
  {
   "cell_type": "code",
   "execution_count": 19,
   "id": "72fc8dec",
   "metadata": {},
   "outputs": [
    {
     "name": "stdout",
     "output_type": "stream",
     "text": [
      "(24850, 12) (19880, 12) (4970, 12)\n"
     ]
    }
   ],
   "source": [
    "# train test split\n",
    "from sklearn.model_selection import train_test_split\n",
    "X_train, X_test, y_train, y_test = train_test_split(X, y, test_size=0.2, random_state=2)    ## random state controll the suffling of data so mention it carefully it often effect the accuracy score or r2 score of the model \n",
    "print(X.shape, X_train.shape, X_test.shape)"
   ]
  },
  {
   "cell_type": "code",
   "execution_count": 20,
   "id": "5d4d3e63",
   "metadata": {},
   "outputs": [
    {
     "name": "stdout",
     "output_type": "stream",
     "text": [
      "[[-5.47599977e-01 -2.13324884e-01 -5.61729801e-01 ... -2.18169481e-01\n",
      "  -4.39699053e-01 -4.63165962e-01]\n",
      " [ 8.97729372e-01 -2.13324884e-01 -3.92713366e-01 ... -2.10474564e-01\n",
      "  -2.76514586e-01 -2.33850313e-01]\n",
      " [ 1.80340807e-01  1.24520221e+00 -2.24593570e-01 ... -7.60856576e-03\n",
      "   1.16336908e-01 -2.33850313e-01]\n",
      " ...\n",
      " [ 1.16053441e-01 -2.13324884e-01 -3.04394433e-01 ... -1.43318923e-01\n",
      "  -2.76514586e-01 -2.33850313e-01]\n",
      " [-3.61393893e-01  3.55245912e-02  2.48908410e+00 ...  6.80037214e-01\n",
      "   4.04509186e-04  1.19352260e+00]\n",
      " [-5.34450288e-01 -1.29143566e-01 -4.08852866e-01 ...  1.76369908e-01\n",
      "   1.78423928e-01  4.61116499e-01]]\n",
      "[[-0.10453981  0.38204769 -0.35380885 ... -0.17999336 -0.25378614\n",
      "  -0.20853691]\n",
      " [-0.32043546 -0.21293087 -0.38230792 ... -0.18352345 -0.23128733\n",
      "  -0.37283124]\n",
      " [ 0.10673609  0.41641009 -0.65463234 ...  0.03298898  0.93813954\n",
      "   0.62787063]\n",
      " ...\n",
      " [-0.54911237 -0.21293087 -0.20362329 ... -0.12057011 -0.25378614\n",
      "  -0.20853691]\n",
      " [-0.91176162 -1.26072947 -0.40175966 ... -0.18293511 -0.40360777\n",
      "  -0.20853691]\n",
      " [-0.86263843 -1.15827862 -0.7446532  ... -0.18352345 -0.25378614\n",
      "  -0.20853691]]\n"
     ]
    }
   ],
   "source": [
    "# Feature Scaling \n",
    "from sklearn.preprocessing import StandardScaler\n",
    "scaler = StandardScaler()\n",
    "scaler.fit(X_train)\n",
    "X_train = scaler.transform(X_train)\n",
    "print(X_train)\n",
    "scaler.fit(X_test)\n",
    "X_test= scaler.transform(X_test)\n",
    "print(X_test)"
   ]
  },
  {
   "cell_type": "markdown",
   "id": "2b736097",
   "metadata": {},
   "source": [
    "# Random Forest Regression(to calculate AQI value) "
   ]
  },
  {
   "cell_type": "code",
   "execution_count": 21,
   "id": "f1dd56f1",
   "metadata": {},
   "outputs": [],
   "source": [
    "# to avoid warning during running the code \n",
    "import warnings\n",
    "warnings.filterwarnings('ignore')"
   ]
  },
  {
   "cell_type": "code",
   "execution_count": 22,
   "id": "74f9b7fe",
   "metadata": {},
   "outputs": [
    {
     "data": {
      "text/html": [
       "<style>#sk-container-id-1 {color: black;background-color: white;}#sk-container-id-1 pre{padding: 0;}#sk-container-id-1 div.sk-toggleable {background-color: white;}#sk-container-id-1 label.sk-toggleable__label {cursor: pointer;display: block;width: 100%;margin-bottom: 0;padding: 0.3em;box-sizing: border-box;text-align: center;}#sk-container-id-1 label.sk-toggleable__label-arrow:before {content: \"▸\";float: left;margin-right: 0.25em;color: #696969;}#sk-container-id-1 label.sk-toggleable__label-arrow:hover:before {color: black;}#sk-container-id-1 div.sk-estimator:hover label.sk-toggleable__label-arrow:before {color: black;}#sk-container-id-1 div.sk-toggleable__content {max-height: 0;max-width: 0;overflow: hidden;text-align: left;background-color: #f0f8ff;}#sk-container-id-1 div.sk-toggleable__content pre {margin: 0.2em;color: black;border-radius: 0.25em;background-color: #f0f8ff;}#sk-container-id-1 input.sk-toggleable__control:checked~div.sk-toggleable__content {max-height: 200px;max-width: 100%;overflow: auto;}#sk-container-id-1 input.sk-toggleable__control:checked~label.sk-toggleable__label-arrow:before {content: \"▾\";}#sk-container-id-1 div.sk-estimator input.sk-toggleable__control:checked~label.sk-toggleable__label {background-color: #d4ebff;}#sk-container-id-1 div.sk-label input.sk-toggleable__control:checked~label.sk-toggleable__label {background-color: #d4ebff;}#sk-container-id-1 input.sk-hidden--visually {border: 0;clip: rect(1px 1px 1px 1px);clip: rect(1px, 1px, 1px, 1px);height: 1px;margin: -1px;overflow: hidden;padding: 0;position: absolute;width: 1px;}#sk-container-id-1 div.sk-estimator {font-family: monospace;background-color: #f0f8ff;border: 1px dotted black;border-radius: 0.25em;box-sizing: border-box;margin-bottom: 0.5em;}#sk-container-id-1 div.sk-estimator:hover {background-color: #d4ebff;}#sk-container-id-1 div.sk-parallel-item::after {content: \"\";width: 100%;border-bottom: 1px solid gray;flex-grow: 1;}#sk-container-id-1 div.sk-label:hover label.sk-toggleable__label {background-color: #d4ebff;}#sk-container-id-1 div.sk-serial::before {content: \"\";position: absolute;border-left: 1px solid gray;box-sizing: border-box;top: 0;bottom: 0;left: 50%;z-index: 0;}#sk-container-id-1 div.sk-serial {display: flex;flex-direction: column;align-items: center;background-color: white;padding-right: 0.2em;padding-left: 0.2em;position: relative;}#sk-container-id-1 div.sk-item {position: relative;z-index: 1;}#sk-container-id-1 div.sk-parallel {display: flex;align-items: stretch;justify-content: center;background-color: white;position: relative;}#sk-container-id-1 div.sk-item::before, #sk-container-id-1 div.sk-parallel-item::before {content: \"\";position: absolute;border-left: 1px solid gray;box-sizing: border-box;top: 0;bottom: 0;left: 50%;z-index: -1;}#sk-container-id-1 div.sk-parallel-item {display: flex;flex-direction: column;z-index: 1;position: relative;background-color: white;}#sk-container-id-1 div.sk-parallel-item:first-child::after {align-self: flex-end;width: 50%;}#sk-container-id-1 div.sk-parallel-item:last-child::after {align-self: flex-start;width: 50%;}#sk-container-id-1 div.sk-parallel-item:only-child::after {width: 0;}#sk-container-id-1 div.sk-dashed-wrapped {border: 1px dashed gray;margin: 0 0.4em 0.5em 0.4em;box-sizing: border-box;padding-bottom: 0.4em;background-color: white;}#sk-container-id-1 div.sk-label label {font-family: monospace;font-weight: bold;display: inline-block;line-height: 1.2em;}#sk-container-id-1 div.sk-label-container {text-align: center;}#sk-container-id-1 div.sk-container {/* jupyter's `normalize.less` sets `[hidden] { display: none; }` but bootstrap.min.css set `[hidden] { display: none !important; }` so we also need the `!important` here to be able to override the default hidden behavior on the sphinx rendered scikit-learn.org. See: https://github.com/scikit-learn/scikit-learn/issues/21755 */display: inline-block !important;position: relative;}#sk-container-id-1 div.sk-text-repr-fallback {display: none;}</style><div id=\"sk-container-id-1\" class=\"sk-top-container\"><div class=\"sk-text-repr-fallback\"><pre>RandomForestRegressor()</pre><b>In a Jupyter environment, please rerun this cell to show the HTML representation or trust the notebook. <br />On GitHub, the HTML representation is unable to render, please try loading this page with nbviewer.org.</b></div><div class=\"sk-container\" hidden><div class=\"sk-item\"><div class=\"sk-estimator sk-toggleable\"><input class=\"sk-toggleable__control sk-hidden--visually\" id=\"sk-estimator-id-1\" type=\"checkbox\" checked><label for=\"sk-estimator-id-1\" class=\"sk-toggleable__label sk-toggleable__label-arrow\">RandomForestRegressor</label><div class=\"sk-toggleable__content\"><pre>RandomForestRegressor()</pre></div></div></div></div></div>"
      ],
      "text/plain": [
       "RandomForestRegressor()"
      ]
     },
     "execution_count": 22,
     "metadata": {},
     "output_type": "execute_result"
    }
   ],
   "source": [
    "from sklearn.ensemble import RandomForestRegressor\n",
    "rf_regressor=RandomForestRegressor()\n",
    "rf_regressor.fit(X_train,y_train)"
   ]
  },
  {
   "cell_type": "code",
   "execution_count": 23,
   "id": "c4e61861",
   "metadata": {},
   "outputs": [
    {
     "data": {
      "text/plain": [
       "0.8706789311336324"
      ]
     },
     "execution_count": 23,
     "metadata": {},
     "output_type": "execute_result"
    }
   ],
   "source": [
    "prediction=rf_regressor.predict(X_test)\n",
    "from sklearn.metrics import r2_score\n",
    "score=r2_score(prediction,y_test)\n",
    "score"
   ]
  },
  {
   "cell_type": "markdown",
   "id": "3f6964bf",
   "metadata": {},
   "source": [
    "# Hyper parameter tuning"
   ]
  },
  {
   "cell_type": "markdown",
   "id": "c0baa238",
   "metadata": {},
   "source": [
    "### (i) RandomizedSearchCV"
   ]
  },
  {
   "cell_type": "code",
   "execution_count": 24,
   "id": "0f8f340d",
   "metadata": {},
   "outputs": [
    {
     "name": "stdout",
     "output_type": "stream",
     "text": [
      "{'n_estimators': [100, 200, 300, 400, 500, 600, 700, 800, 900, 1000], 'max_features': ['auto', 'sqrt', 'log2'], 'max_depth': [10, 120, 230, 340, 450, 560, 670, 780, 890, 1000], 'min_samples_split': [2, 5, 10, 14], 'min_samples_leaf': [1, 2, 4, 6, 8], 'criterion': ['squared_error', 'absolute_error', 'friedman_mse', 'poisson']}\n"
     ]
    }
   ],
   "source": [
    "from sklearn.model_selection import RandomizedSearchCV\n",
    "n_estimators = [int(x) for x in np.linspace(100,1000,10)]\n",
    "max_features = ['auto', 'sqrt','log2']\n",
    "max_depth = [int(x) for x in np.linspace(10, 1000,10)]\n",
    "min_samples_split = [2, 5, 10,14]\n",
    "min_samples_leaf = [1, 2, 4,6,8]\n",
    "criterion=['squared_error', 'absolute_error', 'friedman_mse', 'poisson']\n",
    "random_grid = {'n_estimators': n_estimators,\n",
    "               'max_features': max_features,\n",
    "               'max_depth': max_depth,\n",
    "               'min_samples_split': min_samples_split,\n",
    "               'min_samples_leaf': min_samples_leaf,\n",
    "              'criterion':criterion}\n",
    "print(random_grid)"
   ]
  },
  {
   "cell_type": "code",
   "execution_count": 25,
   "id": "5fe17479",
   "metadata": {
    "scrolled": true
   },
   "outputs": [
    {
     "name": "stdout",
     "output_type": "stream",
     "text": [
      "Fitting 3 folds for each of 10 candidates, totalling 30 fits\n",
      "[CV] END criterion=squared_error, max_depth=340, max_features=log2, min_samples_leaf=1, min_samples_split=14, n_estimators=700; total time=  36.8s\n",
      "[CV] END criterion=squared_error, max_depth=340, max_features=log2, min_samples_leaf=1, min_samples_split=14, n_estimators=700; total time=  37.3s\n",
      "[CV] END criterion=squared_error, max_depth=340, max_features=log2, min_samples_leaf=1, min_samples_split=14, n_estimators=700; total time=  36.9s\n",
      "[CV] END criterion=squared_error, max_depth=890, max_features=auto, min_samples_leaf=4, min_samples_split=14, n_estimators=100; total time=  17.8s\n",
      "[CV] END criterion=squared_error, max_depth=890, max_features=auto, min_samples_leaf=4, min_samples_split=14, n_estimators=100; total time=  18.5s\n",
      "[CV] END criterion=squared_error, max_depth=890, max_features=auto, min_samples_leaf=4, min_samples_split=14, n_estimators=100; total time=  18.6s\n",
      "[CV] END criterion=squared_error, max_depth=230, max_features=sqrt, min_samples_leaf=1, min_samples_split=2, n_estimators=700; total time=  42.9s\n",
      "[CV] END criterion=squared_error, max_depth=230, max_features=sqrt, min_samples_leaf=1, min_samples_split=2, n_estimators=700; total time=  42.1s\n",
      "[CV] END criterion=squared_error, max_depth=230, max_features=sqrt, min_samples_leaf=1, min_samples_split=2, n_estimators=700; total time=  41.3s\n",
      "[CV] END criterion=poisson, max_depth=120, max_features=auto, min_samples_leaf=1, min_samples_split=5, n_estimators=500; total time= 1.9min\n",
      "[CV] END criterion=poisson, max_depth=120, max_features=auto, min_samples_leaf=1, min_samples_split=5, n_estimators=500; total time= 2.1min\n",
      "[CV] END criterion=poisson, max_depth=120, max_features=auto, min_samples_leaf=1, min_samples_split=5, n_estimators=500; total time= 1.9min\n",
      "[CV] END criterion=friedman_mse, max_depth=10, max_features=auto, min_samples_leaf=8, min_samples_split=10, n_estimators=300; total time=  30.0s\n",
      "[CV] END criterion=friedman_mse, max_depth=10, max_features=auto, min_samples_leaf=8, min_samples_split=10, n_estimators=300; total time=  30.8s\n",
      "[CV] END criterion=friedman_mse, max_depth=10, max_features=auto, min_samples_leaf=8, min_samples_split=10, n_estimators=300; total time=  30.4s\n",
      "[CV] END criterion=friedman_mse, max_depth=340, max_features=auto, min_samples_leaf=4, min_samples_split=2, n_estimators=700; total time= 1.9min\n",
      "[CV] END criterion=friedman_mse, max_depth=340, max_features=auto, min_samples_leaf=4, min_samples_split=2, n_estimators=700; total time= 1.9min\n",
      "[CV] END criterion=friedman_mse, max_depth=340, max_features=auto, min_samples_leaf=4, min_samples_split=2, n_estimators=700; total time= 1.9min\n",
      "[CV] END criterion=squared_error, max_depth=230, max_features=sqrt, min_samples_leaf=4, min_samples_split=14, n_estimators=400; total time=  16.6s\n",
      "[CV] END criterion=squared_error, max_depth=230, max_features=sqrt, min_samples_leaf=4, min_samples_split=14, n_estimators=400; total time=  16.5s\n",
      "[CV] END criterion=squared_error, max_depth=230, max_features=sqrt, min_samples_leaf=4, min_samples_split=14, n_estimators=400; total time=  16.8s\n",
      "[CV] END criterion=poisson, max_depth=670, max_features=log2, min_samples_leaf=4, min_samples_split=10, n_estimators=1000; total time=  49.7s\n",
      "[CV] END criterion=poisson, max_depth=670, max_features=log2, min_samples_leaf=4, min_samples_split=10, n_estimators=1000; total time=  49.5s\n",
      "[CV] END criterion=poisson, max_depth=670, max_features=log2, min_samples_leaf=4, min_samples_split=10, n_estimators=1000; total time=  50.1s\n",
      "[CV] END criterion=poisson, max_depth=230, max_features=log2, min_samples_leaf=4, min_samples_split=10, n_estimators=100; total time=   5.1s\n",
      "[CV] END criterion=poisson, max_depth=230, max_features=log2, min_samples_leaf=4, min_samples_split=10, n_estimators=100; total time=   4.8s\n",
      "[CV] END criterion=poisson, max_depth=230, max_features=log2, min_samples_leaf=4, min_samples_split=10, n_estimators=100; total time=   4.8s\n",
      "[CV] END criterion=squared_error, max_depth=670, max_features=log2, min_samples_leaf=1, min_samples_split=10, n_estimators=100; total time=   4.8s\n",
      "[CV] END criterion=squared_error, max_depth=670, max_features=log2, min_samples_leaf=1, min_samples_split=10, n_estimators=100; total time=   4.9s\n",
      "[CV] END criterion=squared_error, max_depth=670, max_features=log2, min_samples_leaf=1, min_samples_split=10, n_estimators=100; total time=   4.7s\n"
     ]
    },
    {
     "data": {
      "text/html": [
       "<style>#sk-container-id-2 {color: black;background-color: white;}#sk-container-id-2 pre{padding: 0;}#sk-container-id-2 div.sk-toggleable {background-color: white;}#sk-container-id-2 label.sk-toggleable__label {cursor: pointer;display: block;width: 100%;margin-bottom: 0;padding: 0.3em;box-sizing: border-box;text-align: center;}#sk-container-id-2 label.sk-toggleable__label-arrow:before {content: \"▸\";float: left;margin-right: 0.25em;color: #696969;}#sk-container-id-2 label.sk-toggleable__label-arrow:hover:before {color: black;}#sk-container-id-2 div.sk-estimator:hover label.sk-toggleable__label-arrow:before {color: black;}#sk-container-id-2 div.sk-toggleable__content {max-height: 0;max-width: 0;overflow: hidden;text-align: left;background-color: #f0f8ff;}#sk-container-id-2 div.sk-toggleable__content pre {margin: 0.2em;color: black;border-radius: 0.25em;background-color: #f0f8ff;}#sk-container-id-2 input.sk-toggleable__control:checked~div.sk-toggleable__content {max-height: 200px;max-width: 100%;overflow: auto;}#sk-container-id-2 input.sk-toggleable__control:checked~label.sk-toggleable__label-arrow:before {content: \"▾\";}#sk-container-id-2 div.sk-estimator input.sk-toggleable__control:checked~label.sk-toggleable__label {background-color: #d4ebff;}#sk-container-id-2 div.sk-label input.sk-toggleable__control:checked~label.sk-toggleable__label {background-color: #d4ebff;}#sk-container-id-2 input.sk-hidden--visually {border: 0;clip: rect(1px 1px 1px 1px);clip: rect(1px, 1px, 1px, 1px);height: 1px;margin: -1px;overflow: hidden;padding: 0;position: absolute;width: 1px;}#sk-container-id-2 div.sk-estimator {font-family: monospace;background-color: #f0f8ff;border: 1px dotted black;border-radius: 0.25em;box-sizing: border-box;margin-bottom: 0.5em;}#sk-container-id-2 div.sk-estimator:hover {background-color: #d4ebff;}#sk-container-id-2 div.sk-parallel-item::after {content: \"\";width: 100%;border-bottom: 1px solid gray;flex-grow: 1;}#sk-container-id-2 div.sk-label:hover label.sk-toggleable__label {background-color: #d4ebff;}#sk-container-id-2 div.sk-serial::before {content: \"\";position: absolute;border-left: 1px solid gray;box-sizing: border-box;top: 0;bottom: 0;left: 50%;z-index: 0;}#sk-container-id-2 div.sk-serial {display: flex;flex-direction: column;align-items: center;background-color: white;padding-right: 0.2em;padding-left: 0.2em;position: relative;}#sk-container-id-2 div.sk-item {position: relative;z-index: 1;}#sk-container-id-2 div.sk-parallel {display: flex;align-items: stretch;justify-content: center;background-color: white;position: relative;}#sk-container-id-2 div.sk-item::before, #sk-container-id-2 div.sk-parallel-item::before {content: \"\";position: absolute;border-left: 1px solid gray;box-sizing: border-box;top: 0;bottom: 0;left: 50%;z-index: -1;}#sk-container-id-2 div.sk-parallel-item {display: flex;flex-direction: column;z-index: 1;position: relative;background-color: white;}#sk-container-id-2 div.sk-parallel-item:first-child::after {align-self: flex-end;width: 50%;}#sk-container-id-2 div.sk-parallel-item:last-child::after {align-self: flex-start;width: 50%;}#sk-container-id-2 div.sk-parallel-item:only-child::after {width: 0;}#sk-container-id-2 div.sk-dashed-wrapped {border: 1px dashed gray;margin: 0 0.4em 0.5em 0.4em;box-sizing: border-box;padding-bottom: 0.4em;background-color: white;}#sk-container-id-2 div.sk-label label {font-family: monospace;font-weight: bold;display: inline-block;line-height: 1.2em;}#sk-container-id-2 div.sk-label-container {text-align: center;}#sk-container-id-2 div.sk-container {/* jupyter's `normalize.less` sets `[hidden] { display: none; }` but bootstrap.min.css set `[hidden] { display: none !important; }` so we also need the `!important` here to be able to override the default hidden behavior on the sphinx rendered scikit-learn.org. See: https://github.com/scikit-learn/scikit-learn/issues/21755 */display: inline-block !important;position: relative;}#sk-container-id-2 div.sk-text-repr-fallback {display: none;}</style><div id=\"sk-container-id-2\" class=\"sk-top-container\"><div class=\"sk-text-repr-fallback\"><pre>RandomizedSearchCV(cv=3, estimator=RandomForestRegressor(),\n",
       "                   param_distributions={&#x27;criterion&#x27;: [&#x27;squared_error&#x27;,\n",
       "                                                      &#x27;absolute_error&#x27;,\n",
       "                                                      &#x27;friedman_mse&#x27;,\n",
       "                                                      &#x27;poisson&#x27;],\n",
       "                                        &#x27;max_depth&#x27;: [10, 120, 230, 340, 450,\n",
       "                                                      560, 670, 780, 890,\n",
       "                                                      1000],\n",
       "                                        &#x27;max_features&#x27;: [&#x27;auto&#x27;, &#x27;sqrt&#x27;,\n",
       "                                                         &#x27;log2&#x27;],\n",
       "                                        &#x27;min_samples_leaf&#x27;: [1, 2, 4, 6, 8],\n",
       "                                        &#x27;min_samples_split&#x27;: [2, 5, 10, 14],\n",
       "                                        &#x27;n_estimators&#x27;: [100, 200, 300, 400,\n",
       "                                                         500, 600, 700, 800,\n",
       "                                                         900, 1000]},\n",
       "                   scoring=&#x27;neg_mean_squared_error&#x27;, verbose=2)</pre><b>In a Jupyter environment, please rerun this cell to show the HTML representation or trust the notebook. <br />On GitHub, the HTML representation is unable to render, please try loading this page with nbviewer.org.</b></div><div class=\"sk-container\" hidden><div class=\"sk-item sk-dashed-wrapped\"><div class=\"sk-label-container\"><div class=\"sk-label sk-toggleable\"><input class=\"sk-toggleable__control sk-hidden--visually\" id=\"sk-estimator-id-2\" type=\"checkbox\" ><label for=\"sk-estimator-id-2\" class=\"sk-toggleable__label sk-toggleable__label-arrow\">RandomizedSearchCV</label><div class=\"sk-toggleable__content\"><pre>RandomizedSearchCV(cv=3, estimator=RandomForestRegressor(),\n",
       "                   param_distributions={&#x27;criterion&#x27;: [&#x27;squared_error&#x27;,\n",
       "                                                      &#x27;absolute_error&#x27;,\n",
       "                                                      &#x27;friedman_mse&#x27;,\n",
       "                                                      &#x27;poisson&#x27;],\n",
       "                                        &#x27;max_depth&#x27;: [10, 120, 230, 340, 450,\n",
       "                                                      560, 670, 780, 890,\n",
       "                                                      1000],\n",
       "                                        &#x27;max_features&#x27;: [&#x27;auto&#x27;, &#x27;sqrt&#x27;,\n",
       "                                                         &#x27;log2&#x27;],\n",
       "                                        &#x27;min_samples_leaf&#x27;: [1, 2, 4, 6, 8],\n",
       "                                        &#x27;min_samples_split&#x27;: [2, 5, 10, 14],\n",
       "                                        &#x27;n_estimators&#x27;: [100, 200, 300, 400,\n",
       "                                                         500, 600, 700, 800,\n",
       "                                                         900, 1000]},\n",
       "                   scoring=&#x27;neg_mean_squared_error&#x27;, verbose=2)</pre></div></div></div><div class=\"sk-parallel\"><div class=\"sk-parallel-item\"><div class=\"sk-item\"><div class=\"sk-label-container\"><div class=\"sk-label sk-toggleable\"><input class=\"sk-toggleable__control sk-hidden--visually\" id=\"sk-estimator-id-3\" type=\"checkbox\" ><label for=\"sk-estimator-id-3\" class=\"sk-toggleable__label sk-toggleable__label-arrow\">estimator: RandomForestRegressor</label><div class=\"sk-toggleable__content\"><pre>RandomForestRegressor()</pre></div></div></div><div class=\"sk-serial\"><div class=\"sk-item\"><div class=\"sk-estimator sk-toggleable\"><input class=\"sk-toggleable__control sk-hidden--visually\" id=\"sk-estimator-id-4\" type=\"checkbox\" ><label for=\"sk-estimator-id-4\" class=\"sk-toggleable__label sk-toggleable__label-arrow\">RandomForestRegressor</label><div class=\"sk-toggleable__content\"><pre>RandomForestRegressor()</pre></div></div></div></div></div></div></div></div></div></div>"
      ],
      "text/plain": [
       "RandomizedSearchCV(cv=3, estimator=RandomForestRegressor(),\n",
       "                   param_distributions={'criterion': ['squared_error',\n",
       "                                                      'absolute_error',\n",
       "                                                      'friedman_mse',\n",
       "                                                      'poisson'],\n",
       "                                        'max_depth': [10, 120, 230, 340, 450,\n",
       "                                                      560, 670, 780, 890,\n",
       "                                                      1000],\n",
       "                                        'max_features': ['auto', 'sqrt',\n",
       "                                                         'log2'],\n",
       "                                        'min_samples_leaf': [1, 2, 4, 6, 8],\n",
       "                                        'min_samples_split': [2, 5, 10, 14],\n",
       "                                        'n_estimators': [100, 200, 300, 400,\n",
       "                                                         500, 600, 700, 800,\n",
       "                                                         900, 1000]},\n",
       "                   scoring='neg_mean_squared_error', verbose=2)"
      ]
     },
     "execution_count": 25,
     "metadata": {},
     "output_type": "execute_result"
    }
   ],
   "source": [
    "rf=RandomForestRegressor()\n",
    "rf_randomcv=RandomizedSearchCV(rf,param_distributions=random_grid,scoring='neg_mean_squared_error',cv=3,verbose=2)\n",
    "rf_randomcv.fit(X_train,y_train)"
   ]
  },
  {
   "cell_type": "code",
   "execution_count": 26,
   "id": "324d0ab8",
   "metadata": {},
   "outputs": [
    {
     "data": {
      "text/plain": [
       "{'n_estimators': 700,\n",
       " 'min_samples_split': 2,\n",
       " 'min_samples_leaf': 1,\n",
       " 'max_features': 'sqrt',\n",
       " 'max_depth': 230,\n",
       " 'criterion': 'squared_error'}"
      ]
     },
     "execution_count": 26,
     "metadata": {},
     "output_type": "execute_result"
    }
   ],
   "source": [
    "rf_randomcv.best_params_"
   ]
  },
  {
   "cell_type": "code",
   "execution_count": 27,
   "id": "65d46ad4",
   "metadata": {},
   "outputs": [
    {
     "data": {
      "text/plain": [
       "0.8420208949690009"
      ]
     },
     "execution_count": 27,
     "metadata": {},
     "output_type": "execute_result"
    }
   ],
   "source": [
    "best_random_grid=rf_randomcv.best_estimator_\n",
    "y_pred=best_random_grid.predict(X_test)\n",
    "from sklearn.metrics import r2_score\n",
    "score=r2_score(y_pred,y_test)\n",
    "score"
   ]
  },
  {
   "cell_type": "markdown",
   "id": "be04d475",
   "metadata": {},
   "source": [
    "### (ii) GridSearch CV"
   ]
  },
  {
   "cell_type": "code",
   "execution_count": 32,
   "id": "4047f874",
   "metadata": {},
   "outputs": [
    {
     "name": "stdout",
     "output_type": "stream",
     "text": [
      "{'criterion': ['squared_error'], 'max_depth': [230], 'max_features': ['sqrt'], 'min_samples_leaf': [1, 3, 5], 'min_samples_split': [0, 1, 2, 3, 4], 'n_estimators': [500, 600, 700, 800, 900]}\n"
     ]
    }
   ],
   "source": [
    "from sklearn.model_selection import GridSearchCV\n",
    "\n",
    "param_grid = {\n",
    "    'criterion': [rf_randomcv.best_params_['criterion']],\n",
    "    'max_depth': [rf_randomcv.best_params_['max_depth']],\n",
    "    'max_features': [rf_randomcv.best_params_['max_features']],\n",
    "    'min_samples_leaf': [rf_randomcv.best_params_['min_samples_leaf'], \n",
    "                         rf_randomcv.best_params_['min_samples_leaf']+2, \n",
    "                         rf_randomcv.best_params_['min_samples_leaf'] + 4],\n",
    "    'min_samples_split': [rf_randomcv.best_params_['min_samples_split'] - 2,\n",
    "                          rf_randomcv.best_params_['min_samples_split'] - 1,\n",
    "                          rf_randomcv.best_params_['min_samples_split'], \n",
    "                          rf_randomcv.best_params_['min_samples_split'] +1,\n",
    "                          rf_randomcv.best_params_['min_samples_split'] + 2],\n",
    "    'n_estimators': [rf_randomcv.best_params_['n_estimators'] - 200, rf_randomcv.best_params_['n_estimators'] - 100, \n",
    "                     rf_randomcv.best_params_['n_estimators'], \n",
    "                     rf_randomcv.best_params_['n_estimators'] + 100, rf_randomcv.best_params_['n_estimators'] + 200]\n",
    "}\n",
    "\n",
    "print(param_grid)"
   ]
  },
  {
   "cell_type": "code",
   "execution_count": 36,
   "id": "3571ce09",
   "metadata": {
    "scrolled": true
   },
   "outputs": [
    {
     "name": "stdout",
     "output_type": "stream",
     "text": [
      "Fitting 3 folds for each of 75 candidates, totalling 225 fits\n",
      "[CV] END criterion=squared_error, max_depth=230, max_features=sqrt, min_samples_leaf=1, min_samples_split=0, n_estimators=500; total time=   0.0s\n",
      "[CV] END criterion=squared_error, max_depth=230, max_features=sqrt, min_samples_leaf=1, min_samples_split=0, n_estimators=500; total time=   0.0s\n",
      "[CV] END criterion=squared_error, max_depth=230, max_features=sqrt, min_samples_leaf=1, min_samples_split=0, n_estimators=500; total time=   0.0s\n",
      "[CV] END criterion=squared_error, max_depth=230, max_features=sqrt, min_samples_leaf=1, min_samples_split=0, n_estimators=600; total time=   0.0s\n",
      "[CV] END criterion=squared_error, max_depth=230, max_features=sqrt, min_samples_leaf=1, min_samples_split=0, n_estimators=600; total time=   0.0s\n",
      "[CV] END criterion=squared_error, max_depth=230, max_features=sqrt, min_samples_leaf=1, min_samples_split=0, n_estimators=600; total time=   0.0s\n",
      "[CV] END criterion=squared_error, max_depth=230, max_features=sqrt, min_samples_leaf=1, min_samples_split=0, n_estimators=700; total time=   0.0s\n",
      "[CV] END criterion=squared_error, max_depth=230, max_features=sqrt, min_samples_leaf=1, min_samples_split=0, n_estimators=700; total time=   0.0s\n",
      "[CV] END criterion=squared_error, max_depth=230, max_features=sqrt, min_samples_leaf=1, min_samples_split=0, n_estimators=700; total time=   0.0s\n",
      "[CV] END criterion=squared_error, max_depth=230, max_features=sqrt, min_samples_leaf=1, min_samples_split=0, n_estimators=800; total time=   0.0s\n",
      "[CV] END criterion=squared_error, max_depth=230, max_features=sqrt, min_samples_leaf=1, min_samples_split=0, n_estimators=800; total time=   0.0s\n",
      "[CV] END criterion=squared_error, max_depth=230, max_features=sqrt, min_samples_leaf=1, min_samples_split=0, n_estimators=800; total time=   0.0s\n",
      "[CV] END criterion=squared_error, max_depth=230, max_features=sqrt, min_samples_leaf=1, min_samples_split=0, n_estimators=900; total time=   0.0s\n",
      "[CV] END criterion=squared_error, max_depth=230, max_features=sqrt, min_samples_leaf=1, min_samples_split=0, n_estimators=900; total time=   0.0s\n",
      "[CV] END criterion=squared_error, max_depth=230, max_features=sqrt, min_samples_leaf=1, min_samples_split=0, n_estimators=900; total time=   0.0s\n",
      "[CV] END criterion=squared_error, max_depth=230, max_features=sqrt, min_samples_leaf=1, min_samples_split=1, n_estimators=500; total time=   0.0s\n",
      "[CV] END criterion=squared_error, max_depth=230, max_features=sqrt, min_samples_leaf=1, min_samples_split=1, n_estimators=500; total time=   0.0s\n",
      "[CV] END criterion=squared_error, max_depth=230, max_features=sqrt, min_samples_leaf=1, min_samples_split=1, n_estimators=500; total time=   0.0s\n",
      "[CV] END criterion=squared_error, max_depth=230, max_features=sqrt, min_samples_leaf=1, min_samples_split=1, n_estimators=600; total time=   0.0s\n",
      "[CV] END criterion=squared_error, max_depth=230, max_features=sqrt, min_samples_leaf=1, min_samples_split=1, n_estimators=600; total time=   0.0s\n",
      "[CV] END criterion=squared_error, max_depth=230, max_features=sqrt, min_samples_leaf=1, min_samples_split=1, n_estimators=600; total time=   0.0s\n",
      "[CV] END criterion=squared_error, max_depth=230, max_features=sqrt, min_samples_leaf=1, min_samples_split=1, n_estimators=700; total time=   0.0s\n",
      "[CV] END criterion=squared_error, max_depth=230, max_features=sqrt, min_samples_leaf=1, min_samples_split=1, n_estimators=700; total time=   0.0s\n",
      "[CV] END criterion=squared_error, max_depth=230, max_features=sqrt, min_samples_leaf=1, min_samples_split=1, n_estimators=700; total time=   0.0s\n",
      "[CV] END criterion=squared_error, max_depth=230, max_features=sqrt, min_samples_leaf=1, min_samples_split=1, n_estimators=800; total time=   0.0s\n",
      "[CV] END criterion=squared_error, max_depth=230, max_features=sqrt, min_samples_leaf=1, min_samples_split=1, n_estimators=800; total time=   0.0s\n",
      "[CV] END criterion=squared_error, max_depth=230, max_features=sqrt, min_samples_leaf=1, min_samples_split=1, n_estimators=800; total time=   0.0s\n",
      "[CV] END criterion=squared_error, max_depth=230, max_features=sqrt, min_samples_leaf=1, min_samples_split=1, n_estimators=900; total time=   0.0s\n",
      "[CV] END criterion=squared_error, max_depth=230, max_features=sqrt, min_samples_leaf=1, min_samples_split=1, n_estimators=900; total time=   0.0s\n",
      "[CV] END criterion=squared_error, max_depth=230, max_features=sqrt, min_samples_leaf=1, min_samples_split=1, n_estimators=900; total time=   0.0s\n",
      "[CV] END criterion=squared_error, max_depth=230, max_features=sqrt, min_samples_leaf=1, min_samples_split=2, n_estimators=500; total time=  33.4s\n",
      "[CV] END criterion=squared_error, max_depth=230, max_features=sqrt, min_samples_leaf=1, min_samples_split=2, n_estimators=500; total time=  32.0s\n",
      "[CV] END criterion=squared_error, max_depth=230, max_features=sqrt, min_samples_leaf=1, min_samples_split=2, n_estimators=500; total time=  31.0s\n",
      "[CV] END criterion=squared_error, max_depth=230, max_features=sqrt, min_samples_leaf=1, min_samples_split=2, n_estimators=600; total time=  37.5s\n",
      "[CV] END criterion=squared_error, max_depth=230, max_features=sqrt, min_samples_leaf=1, min_samples_split=2, n_estimators=600; total time=  36.9s\n",
      "[CV] END criterion=squared_error, max_depth=230, max_features=sqrt, min_samples_leaf=1, min_samples_split=2, n_estimators=600; total time=  37.2s\n",
      "[CV] END criterion=squared_error, max_depth=230, max_features=sqrt, min_samples_leaf=1, min_samples_split=2, n_estimators=700; total time=  43.8s\n",
      "[CV] END criterion=squared_error, max_depth=230, max_features=sqrt, min_samples_leaf=1, min_samples_split=2, n_estimators=700; total time=  43.0s\n",
      "[CV] END criterion=squared_error, max_depth=230, max_features=sqrt, min_samples_leaf=1, min_samples_split=2, n_estimators=700; total time=  43.4s\n",
      "[CV] END criterion=squared_error, max_depth=230, max_features=sqrt, min_samples_leaf=1, min_samples_split=2, n_estimators=800; total time=  49.4s\n",
      "[CV] END criterion=squared_error, max_depth=230, max_features=sqrt, min_samples_leaf=1, min_samples_split=2, n_estimators=800; total time=  48.9s\n",
      "[CV] END criterion=squared_error, max_depth=230, max_features=sqrt, min_samples_leaf=1, min_samples_split=2, n_estimators=800; total time=  49.2s\n",
      "[CV] END criterion=squared_error, max_depth=230, max_features=sqrt, min_samples_leaf=1, min_samples_split=2, n_estimators=900; total time=  55.1s\n",
      "[CV] END criterion=squared_error, max_depth=230, max_features=sqrt, min_samples_leaf=1, min_samples_split=2, n_estimators=900; total time=  55.4s\n",
      "[CV] END criterion=squared_error, max_depth=230, max_features=sqrt, min_samples_leaf=1, min_samples_split=2, n_estimators=900; total time=  55.9s\n",
      "[CV] END criterion=squared_error, max_depth=230, max_features=sqrt, min_samples_leaf=1, min_samples_split=3, n_estimators=500; total time=  29.9s\n",
      "[CV] END criterion=squared_error, max_depth=230, max_features=sqrt, min_samples_leaf=1, min_samples_split=3, n_estimators=500; total time=  29.5s\n",
      "[CV] END criterion=squared_error, max_depth=230, max_features=sqrt, min_samples_leaf=1, min_samples_split=3, n_estimators=500; total time=  29.4s\n",
      "[CV] END criterion=squared_error, max_depth=230, max_features=sqrt, min_samples_leaf=1, min_samples_split=3, n_estimators=600; total time=  36.1s\n",
      "[CV] END criterion=squared_error, max_depth=230, max_features=sqrt, min_samples_leaf=1, min_samples_split=3, n_estimators=600; total time=  35.0s\n",
      "[CV] END criterion=squared_error, max_depth=230, max_features=sqrt, min_samples_leaf=1, min_samples_split=3, n_estimators=600; total time=  35.2s\n",
      "[CV] END criterion=squared_error, max_depth=230, max_features=sqrt, min_samples_leaf=1, min_samples_split=3, n_estimators=700; total time=  41.2s\n",
      "[CV] END criterion=squared_error, max_depth=230, max_features=sqrt, min_samples_leaf=1, min_samples_split=3, n_estimators=700; total time=  40.9s\n",
      "[CV] END criterion=squared_error, max_depth=230, max_features=sqrt, min_samples_leaf=1, min_samples_split=3, n_estimators=700; total time=  42.0s\n",
      "[CV] END criterion=squared_error, max_depth=230, max_features=sqrt, min_samples_leaf=1, min_samples_split=3, n_estimators=800; total time=  47.0s\n",
      "[CV] END criterion=squared_error, max_depth=230, max_features=sqrt, min_samples_leaf=1, min_samples_split=3, n_estimators=800; total time=  46.9s\n"
     ]
    },
    {
     "name": "stdout",
     "output_type": "stream",
     "text": [
      "[CV] END criterion=squared_error, max_depth=230, max_features=sqrt, min_samples_leaf=1, min_samples_split=3, n_estimators=800; total time=  47.1s\n",
      "[CV] END criterion=squared_error, max_depth=230, max_features=sqrt, min_samples_leaf=1, min_samples_split=3, n_estimators=900; total time=  52.7s\n",
      "[CV] END criterion=squared_error, max_depth=230, max_features=sqrt, min_samples_leaf=1, min_samples_split=3, n_estimators=900; total time=  52.7s\n",
      "[CV] END criterion=squared_error, max_depth=230, max_features=sqrt, min_samples_leaf=1, min_samples_split=3, n_estimators=900; total time=  56.6s\n",
      "[CV] END criterion=squared_error, max_depth=230, max_features=sqrt, min_samples_leaf=1, min_samples_split=4, n_estimators=500; total time=  29.0s\n",
      "[CV] END criterion=squared_error, max_depth=230, max_features=sqrt, min_samples_leaf=1, min_samples_split=4, n_estimators=500; total time=  30.0s\n",
      "[CV] END criterion=squared_error, max_depth=230, max_features=sqrt, min_samples_leaf=1, min_samples_split=4, n_estimators=500; total time=  29.1s\n",
      "[CV] END criterion=squared_error, max_depth=230, max_features=sqrt, min_samples_leaf=1, min_samples_split=4, n_estimators=600; total time=  38.4s\n",
      "[CV] END criterion=squared_error, max_depth=230, max_features=sqrt, min_samples_leaf=1, min_samples_split=4, n_estimators=600; total time=  37.6s\n",
      "[CV] END criterion=squared_error, max_depth=230, max_features=sqrt, min_samples_leaf=1, min_samples_split=4, n_estimators=600; total time=  37.7s\n",
      "[CV] END criterion=squared_error, max_depth=230, max_features=sqrt, min_samples_leaf=1, min_samples_split=4, n_estimators=700; total time=  46.3s\n",
      "[CV] END criterion=squared_error, max_depth=230, max_features=sqrt, min_samples_leaf=1, min_samples_split=4, n_estimators=700; total time=  43.6s\n",
      "[CV] END criterion=squared_error, max_depth=230, max_features=sqrt, min_samples_leaf=1, min_samples_split=4, n_estimators=700; total time=  43.2s\n",
      "[CV] END criterion=squared_error, max_depth=230, max_features=sqrt, min_samples_leaf=1, min_samples_split=4, n_estimators=800; total time=  48.9s\n",
      "[CV] END criterion=squared_error, max_depth=230, max_features=sqrt, min_samples_leaf=1, min_samples_split=4, n_estimators=800; total time=  48.6s\n",
      "[CV] END criterion=squared_error, max_depth=230, max_features=sqrt, min_samples_leaf=1, min_samples_split=4, n_estimators=800; total time=  48.0s\n",
      "[CV] END criterion=squared_error, max_depth=230, max_features=sqrt, min_samples_leaf=1, min_samples_split=4, n_estimators=900; total time=  54.9s\n",
      "[CV] END criterion=squared_error, max_depth=230, max_features=sqrt, min_samples_leaf=1, min_samples_split=4, n_estimators=900; total time=  56.0s\n",
      "[CV] END criterion=squared_error, max_depth=230, max_features=sqrt, min_samples_leaf=1, min_samples_split=4, n_estimators=900; total time=  58.3s\n",
      "[CV] END criterion=squared_error, max_depth=230, max_features=sqrt, min_samples_leaf=3, min_samples_split=0, n_estimators=500; total time=   0.0s\n",
      "[CV] END criterion=squared_error, max_depth=230, max_features=sqrt, min_samples_leaf=3, min_samples_split=0, n_estimators=500; total time=   0.0s\n",
      "[CV] END criterion=squared_error, max_depth=230, max_features=sqrt, min_samples_leaf=3, min_samples_split=0, n_estimators=500; total time=   0.0s\n",
      "[CV] END criterion=squared_error, max_depth=230, max_features=sqrt, min_samples_leaf=3, min_samples_split=0, n_estimators=600; total time=   0.0s\n",
      "[CV] END criterion=squared_error, max_depth=230, max_features=sqrt, min_samples_leaf=3, min_samples_split=0, n_estimators=600; total time=   0.0s\n",
      "[CV] END criterion=squared_error, max_depth=230, max_features=sqrt, min_samples_leaf=3, min_samples_split=0, n_estimators=600; total time=   0.0s\n",
      "[CV] END criterion=squared_error, max_depth=230, max_features=sqrt, min_samples_leaf=3, min_samples_split=0, n_estimators=700; total time=   0.0s\n",
      "[CV] END criterion=squared_error, max_depth=230, max_features=sqrt, min_samples_leaf=3, min_samples_split=0, n_estimators=700; total time=   0.0s\n",
      "[CV] END criterion=squared_error, max_depth=230, max_features=sqrt, min_samples_leaf=3, min_samples_split=0, n_estimators=700; total time=   0.0s\n",
      "[CV] END criterion=squared_error, max_depth=230, max_features=sqrt, min_samples_leaf=3, min_samples_split=0, n_estimators=800; total time=   0.0s\n",
      "[CV] END criterion=squared_error, max_depth=230, max_features=sqrt, min_samples_leaf=3, min_samples_split=0, n_estimators=800; total time=   0.0s\n",
      "[CV] END criterion=squared_error, max_depth=230, max_features=sqrt, min_samples_leaf=3, min_samples_split=0, n_estimators=800; total time=   0.0s\n",
      "[CV] END criterion=squared_error, max_depth=230, max_features=sqrt, min_samples_leaf=3, min_samples_split=0, n_estimators=900; total time=   0.0s\n",
      "[CV] END criterion=squared_error, max_depth=230, max_features=sqrt, min_samples_leaf=3, min_samples_split=0, n_estimators=900; total time=   0.0s\n",
      "[CV] END criterion=squared_error, max_depth=230, max_features=sqrt, min_samples_leaf=3, min_samples_split=0, n_estimators=900; total time=   0.0s\n",
      "[CV] END criterion=squared_error, max_depth=230, max_features=sqrt, min_samples_leaf=3, min_samples_split=1, n_estimators=500; total time=   0.0s\n",
      "[CV] END criterion=squared_error, max_depth=230, max_features=sqrt, min_samples_leaf=3, min_samples_split=1, n_estimators=500; total time=   0.0s\n",
      "[CV] END criterion=squared_error, max_depth=230, max_features=sqrt, min_samples_leaf=3, min_samples_split=1, n_estimators=500; total time=   0.0s\n",
      "[CV] END criterion=squared_error, max_depth=230, max_features=sqrt, min_samples_leaf=3, min_samples_split=1, n_estimators=600; total time=   0.0s\n",
      "[CV] END criterion=squared_error, max_depth=230, max_features=sqrt, min_samples_leaf=3, min_samples_split=1, n_estimators=600; total time=   0.0s\n",
      "[CV] END criterion=squared_error, max_depth=230, max_features=sqrt, min_samples_leaf=3, min_samples_split=1, n_estimators=600; total time=   0.0s\n",
      "[CV] END criterion=squared_error, max_depth=230, max_features=sqrt, min_samples_leaf=3, min_samples_split=1, n_estimators=700; total time=   0.0s\n",
      "[CV] END criterion=squared_error, max_depth=230, max_features=sqrt, min_samples_leaf=3, min_samples_split=1, n_estimators=700; total time=   0.0s\n",
      "[CV] END criterion=squared_error, max_depth=230, max_features=sqrt, min_samples_leaf=3, min_samples_split=1, n_estimators=700; total time=   0.0s\n",
      "[CV] END criterion=squared_error, max_depth=230, max_features=sqrt, min_samples_leaf=3, min_samples_split=1, n_estimators=800; total time=   0.0s\n",
      "[CV] END criterion=squared_error, max_depth=230, max_features=sqrt, min_samples_leaf=3, min_samples_split=1, n_estimators=800; total time=   0.0s\n",
      "[CV] END criterion=squared_error, max_depth=230, max_features=sqrt, min_samples_leaf=3, min_samples_split=1, n_estimators=800; total time=   0.0s\n",
      "[CV] END criterion=squared_error, max_depth=230, max_features=sqrt, min_samples_leaf=3, min_samples_split=1, n_estimators=900; total time=   0.0s\n",
      "[CV] END criterion=squared_error, max_depth=230, max_features=sqrt, min_samples_leaf=3, min_samples_split=1, n_estimators=900; total time=   0.0s\n",
      "[CV] END criterion=squared_error, max_depth=230, max_features=sqrt, min_samples_leaf=3, min_samples_split=1, n_estimators=900; total time=   0.0s\n",
      "[CV] END criterion=squared_error, max_depth=230, max_features=sqrt, min_samples_leaf=3, min_samples_split=2, n_estimators=500; total time=  27.6s\n",
      "[CV] END criterion=squared_error, max_depth=230, max_features=sqrt, min_samples_leaf=3, min_samples_split=2, n_estimators=500; total time=  26.0s\n",
      "[CV] END criterion=squared_error, max_depth=230, max_features=sqrt, min_samples_leaf=3, min_samples_split=2, n_estimators=500; total time=  26.5s\n",
      "[CV] END criterion=squared_error, max_depth=230, max_features=sqrt, min_samples_leaf=3, min_samples_split=2, n_estimators=600; total time=  31.8s\n",
      "[CV] END criterion=squared_error, max_depth=230, max_features=sqrt, min_samples_leaf=3, min_samples_split=2, n_estimators=600; total time=  32.9s\n",
      "[CV] END criterion=squared_error, max_depth=230, max_features=sqrt, min_samples_leaf=3, min_samples_split=2, n_estimators=600; total time=  31.7s\n",
      "[CV] END criterion=squared_error, max_depth=230, max_features=sqrt, min_samples_leaf=3, min_samples_split=2, n_estimators=700; total time=  39.3s\n",
      "[CV] END criterion=squared_error, max_depth=230, max_features=sqrt, min_samples_leaf=3, min_samples_split=2, n_estimators=700; total time=  38.5s\n"
     ]
    },
    {
     "name": "stdout",
     "output_type": "stream",
     "text": [
      "[CV] END criterion=squared_error, max_depth=230, max_features=sqrt, min_samples_leaf=3, min_samples_split=2, n_estimators=700; total time=  37.1s\n",
      "[CV] END criterion=squared_error, max_depth=230, max_features=sqrt, min_samples_leaf=3, min_samples_split=2, n_estimators=800; total time=  40.4s\n",
      "[CV] END criterion=squared_error, max_depth=230, max_features=sqrt, min_samples_leaf=3, min_samples_split=2, n_estimators=800; total time=  41.4s\n",
      "[CV] END criterion=squared_error, max_depth=230, max_features=sqrt, min_samples_leaf=3, min_samples_split=2, n_estimators=800; total time=  42.9s\n",
      "[CV] END criterion=squared_error, max_depth=230, max_features=sqrt, min_samples_leaf=3, min_samples_split=2, n_estimators=900; total time=  47.2s\n",
      "[CV] END criterion=squared_error, max_depth=230, max_features=sqrt, min_samples_leaf=3, min_samples_split=2, n_estimators=900; total time=  49.1s\n",
      "[CV] END criterion=squared_error, max_depth=230, max_features=sqrt, min_samples_leaf=3, min_samples_split=2, n_estimators=900; total time=  51.4s\n",
      "[CV] END criterion=squared_error, max_depth=230, max_features=sqrt, min_samples_leaf=3, min_samples_split=3, n_estimators=500; total time=  30.0s\n",
      "[CV] END criterion=squared_error, max_depth=230, max_features=sqrt, min_samples_leaf=3, min_samples_split=3, n_estimators=500; total time=  28.9s\n",
      "[CV] END criterion=squared_error, max_depth=230, max_features=sqrt, min_samples_leaf=3, min_samples_split=3, n_estimators=500; total time=  31.2s\n",
      "[CV] END criterion=squared_error, max_depth=230, max_features=sqrt, min_samples_leaf=3, min_samples_split=3, n_estimators=600; total time=  37.4s\n",
      "[CV] END criterion=squared_error, max_depth=230, max_features=sqrt, min_samples_leaf=3, min_samples_split=3, n_estimators=600; total time=  35.6s\n",
      "[CV] END criterion=squared_error, max_depth=230, max_features=sqrt, min_samples_leaf=3, min_samples_split=3, n_estimators=600; total time=  34.0s\n",
      "[CV] END criterion=squared_error, max_depth=230, max_features=sqrt, min_samples_leaf=3, min_samples_split=3, n_estimators=700; total time=  39.1s\n",
      "[CV] END criterion=squared_error, max_depth=230, max_features=sqrt, min_samples_leaf=3, min_samples_split=3, n_estimators=700; total time=  38.3s\n",
      "[CV] END criterion=squared_error, max_depth=230, max_features=sqrt, min_samples_leaf=3, min_samples_split=3, n_estimators=700; total time=  38.0s\n",
      "[CV] END criterion=squared_error, max_depth=230, max_features=sqrt, min_samples_leaf=3, min_samples_split=3, n_estimators=800; total time=  43.0s\n",
      "[CV] END criterion=squared_error, max_depth=230, max_features=sqrt, min_samples_leaf=3, min_samples_split=3, n_estimators=800; total time=  45.8s\n",
      "[CV] END criterion=squared_error, max_depth=230, max_features=sqrt, min_samples_leaf=3, min_samples_split=3, n_estimators=800; total time=  46.7s\n",
      "[CV] END criterion=squared_error, max_depth=230, max_features=sqrt, min_samples_leaf=3, min_samples_split=3, n_estimators=900; total time=  48.4s\n",
      "[CV] END criterion=squared_error, max_depth=230, max_features=sqrt, min_samples_leaf=3, min_samples_split=3, n_estimators=900; total time=  51.9s\n",
      "[CV] END criterion=squared_error, max_depth=230, max_features=sqrt, min_samples_leaf=3, min_samples_split=3, n_estimators=900; total time=  49.0s\n",
      "[CV] END criterion=squared_error, max_depth=230, max_features=sqrt, min_samples_leaf=3, min_samples_split=4, n_estimators=500; total time=  27.0s\n",
      "[CV] END criterion=squared_error, max_depth=230, max_features=sqrt, min_samples_leaf=3, min_samples_split=4, n_estimators=500; total time=  24.9s\n",
      "[CV] END criterion=squared_error, max_depth=230, max_features=sqrt, min_samples_leaf=3, min_samples_split=4, n_estimators=500; total time=  23.4s\n",
      "[CV] END criterion=squared_error, max_depth=230, max_features=sqrt, min_samples_leaf=3, min_samples_split=4, n_estimators=600; total time=  29.3s\n",
      "[CV] END criterion=squared_error, max_depth=230, max_features=sqrt, min_samples_leaf=3, min_samples_split=4, n_estimators=600; total time=  28.6s\n",
      "[CV] END criterion=squared_error, max_depth=230, max_features=sqrt, min_samples_leaf=3, min_samples_split=4, n_estimators=600; total time=  28.2s\n",
      "[CV] END criterion=squared_error, max_depth=230, max_features=sqrt, min_samples_leaf=3, min_samples_split=4, n_estimators=700; total time=  32.7s\n",
      "[CV] END criterion=squared_error, max_depth=230, max_features=sqrt, min_samples_leaf=3, min_samples_split=4, n_estimators=700; total time=  32.6s\n",
      "[CV] END criterion=squared_error, max_depth=230, max_features=sqrt, min_samples_leaf=3, min_samples_split=4, n_estimators=700; total time=  32.7s\n",
      "[CV] END criterion=squared_error, max_depth=230, max_features=sqrt, min_samples_leaf=3, min_samples_split=4, n_estimators=800; total time=  37.2s\n",
      "[CV] END criterion=squared_error, max_depth=230, max_features=sqrt, min_samples_leaf=3, min_samples_split=4, n_estimators=800; total time=  37.2s\n",
      "[CV] END criterion=squared_error, max_depth=230, max_features=sqrt, min_samples_leaf=3, min_samples_split=4, n_estimators=800; total time=  37.4s\n",
      "[CV] END criterion=squared_error, max_depth=230, max_features=sqrt, min_samples_leaf=3, min_samples_split=4, n_estimators=900; total time=  42.2s\n",
      "[CV] END criterion=squared_error, max_depth=230, max_features=sqrt, min_samples_leaf=3, min_samples_split=4, n_estimators=900; total time=  42.2s\n",
      "[CV] END criterion=squared_error, max_depth=230, max_features=sqrt, min_samples_leaf=3, min_samples_split=4, n_estimators=900; total time=  42.0s\n",
      "[CV] END criterion=squared_error, max_depth=230, max_features=sqrt, min_samples_leaf=5, min_samples_split=0, n_estimators=500; total time=   0.0s\n",
      "[CV] END criterion=squared_error, max_depth=230, max_features=sqrt, min_samples_leaf=5, min_samples_split=0, n_estimators=500; total time=   0.0s\n",
      "[CV] END criterion=squared_error, max_depth=230, max_features=sqrt, min_samples_leaf=5, min_samples_split=0, n_estimators=500; total time=   0.0s\n",
      "[CV] END criterion=squared_error, max_depth=230, max_features=sqrt, min_samples_leaf=5, min_samples_split=0, n_estimators=600; total time=   0.0s\n",
      "[CV] END criterion=squared_error, max_depth=230, max_features=sqrt, min_samples_leaf=5, min_samples_split=0, n_estimators=600; total time=   0.0s\n",
      "[CV] END criterion=squared_error, max_depth=230, max_features=sqrt, min_samples_leaf=5, min_samples_split=0, n_estimators=600; total time=   0.0s\n",
      "[CV] END criterion=squared_error, max_depth=230, max_features=sqrt, min_samples_leaf=5, min_samples_split=0, n_estimators=700; total time=   0.0s\n",
      "[CV] END criterion=squared_error, max_depth=230, max_features=sqrt, min_samples_leaf=5, min_samples_split=0, n_estimators=700; total time=   0.0s\n",
      "[CV] END criterion=squared_error, max_depth=230, max_features=sqrt, min_samples_leaf=5, min_samples_split=0, n_estimators=700; total time=   0.0s\n",
      "[CV] END criterion=squared_error, max_depth=230, max_features=sqrt, min_samples_leaf=5, min_samples_split=0, n_estimators=800; total time=   0.0s\n",
      "[CV] END criterion=squared_error, max_depth=230, max_features=sqrt, min_samples_leaf=5, min_samples_split=0, n_estimators=800; total time=   0.0s\n",
      "[CV] END criterion=squared_error, max_depth=230, max_features=sqrt, min_samples_leaf=5, min_samples_split=0, n_estimators=800; total time=   0.0s\n",
      "[CV] END criterion=squared_error, max_depth=230, max_features=sqrt, min_samples_leaf=5, min_samples_split=0, n_estimators=900; total time=   0.0s\n",
      "[CV] END criterion=squared_error, max_depth=230, max_features=sqrt, min_samples_leaf=5, min_samples_split=0, n_estimators=900; total time=   0.0s\n",
      "[CV] END criterion=squared_error, max_depth=230, max_features=sqrt, min_samples_leaf=5, min_samples_split=0, n_estimators=900; total time=   0.0s\n",
      "[CV] END criterion=squared_error, max_depth=230, max_features=sqrt, min_samples_leaf=5, min_samples_split=1, n_estimators=500; total time=   0.0s\n",
      "[CV] END criterion=squared_error, max_depth=230, max_features=sqrt, min_samples_leaf=5, min_samples_split=1, n_estimators=500; total time=   0.0s\n",
      "[CV] END criterion=squared_error, max_depth=230, max_features=sqrt, min_samples_leaf=5, min_samples_split=1, n_estimators=500; total time=   0.0s\n",
      "[CV] END criterion=squared_error, max_depth=230, max_features=sqrt, min_samples_leaf=5, min_samples_split=1, n_estimators=600; total time=   0.0s\n",
      "[CV] END criterion=squared_error, max_depth=230, max_features=sqrt, min_samples_leaf=5, min_samples_split=1, n_estimators=600; total time=   0.0s\n",
      "[CV] END criterion=squared_error, max_depth=230, max_features=sqrt, min_samples_leaf=5, min_samples_split=1, n_estimators=600; total time=   0.0s\n",
      "[CV] END criterion=squared_error, max_depth=230, max_features=sqrt, min_samples_leaf=5, min_samples_split=1, n_estimators=700; total time=   0.0s\n",
      "[CV] END criterion=squared_error, max_depth=230, max_features=sqrt, min_samples_leaf=5, min_samples_split=1, n_estimators=700; total time=   0.0s\n",
      "[CV] END criterion=squared_error, max_depth=230, max_features=sqrt, min_samples_leaf=5, min_samples_split=1, n_estimators=700; total time=   0.0s\n",
      "[CV] END criterion=squared_error, max_depth=230, max_features=sqrt, min_samples_leaf=5, min_samples_split=1, n_estimators=800; total time=   0.0s\n",
      "[CV] END criterion=squared_error, max_depth=230, max_features=sqrt, min_samples_leaf=5, min_samples_split=1, n_estimators=800; total time=   0.0s\n",
      "[CV] END criterion=squared_error, max_depth=230, max_features=sqrt, min_samples_leaf=5, min_samples_split=1, n_estimators=800; total time=   0.0s\n",
      "[CV] END criterion=squared_error, max_depth=230, max_features=sqrt, min_samples_leaf=5, min_samples_split=1, n_estimators=900; total time=   0.0s\n",
      "[CV] END criterion=squared_error, max_depth=230, max_features=sqrt, min_samples_leaf=5, min_samples_split=1, n_estimators=900; total time=   0.0s\n",
      "[CV] END criterion=squared_error, max_depth=230, max_features=sqrt, min_samples_leaf=5, min_samples_split=1, n_estimators=900; total time=   0.0s\n"
     ]
    },
    {
     "name": "stdout",
     "output_type": "stream",
     "text": [
      "[CV] END criterion=squared_error, max_depth=230, max_features=sqrt, min_samples_leaf=5, min_samples_split=2, n_estimators=500; total time=  20.8s\n",
      "[CV] END criterion=squared_error, max_depth=230, max_features=sqrt, min_samples_leaf=5, min_samples_split=2, n_estimators=500; total time=  20.7s\n",
      "[CV] END criterion=squared_error, max_depth=230, max_features=sqrt, min_samples_leaf=5, min_samples_split=2, n_estimators=500; total time=  21.0s\n",
      "[CV] END criterion=squared_error, max_depth=230, max_features=sqrt, min_samples_leaf=5, min_samples_split=2, n_estimators=600; total time=  24.8s\n",
      "[CV] END criterion=squared_error, max_depth=230, max_features=sqrt, min_samples_leaf=5, min_samples_split=2, n_estimators=600; total time=  25.0s\n",
      "[CV] END criterion=squared_error, max_depth=230, max_features=sqrt, min_samples_leaf=5, min_samples_split=2, n_estimators=600; total time=  24.8s\n",
      "[CV] END criterion=squared_error, max_depth=230, max_features=sqrt, min_samples_leaf=5, min_samples_split=2, n_estimators=700; total time=  29.0s\n",
      "[CV] END criterion=squared_error, max_depth=230, max_features=sqrt, min_samples_leaf=5, min_samples_split=2, n_estimators=700; total time=  29.0s\n",
      "[CV] END criterion=squared_error, max_depth=230, max_features=sqrt, min_samples_leaf=5, min_samples_split=2, n_estimators=700; total time=  29.4s\n",
      "[CV] END criterion=squared_error, max_depth=230, max_features=sqrt, min_samples_leaf=5, min_samples_split=2, n_estimators=800; total time=  33.8s\n",
      "[CV] END criterion=squared_error, max_depth=230, max_features=sqrt, min_samples_leaf=5, min_samples_split=2, n_estimators=800; total time=  33.5s\n",
      "[CV] END criterion=squared_error, max_depth=230, max_features=sqrt, min_samples_leaf=5, min_samples_split=2, n_estimators=800; total time=  34.1s\n",
      "[CV] END criterion=squared_error, max_depth=230, max_features=sqrt, min_samples_leaf=5, min_samples_split=2, n_estimators=900; total time=  38.0s\n",
      "[CV] END criterion=squared_error, max_depth=230, max_features=sqrt, min_samples_leaf=5, min_samples_split=2, n_estimators=900; total time=  38.0s\n",
      "[CV] END criterion=squared_error, max_depth=230, max_features=sqrt, min_samples_leaf=5, min_samples_split=2, n_estimators=900; total time=  37.8s\n",
      "[CV] END criterion=squared_error, max_depth=230, max_features=sqrt, min_samples_leaf=5, min_samples_split=3, n_estimators=500; total time=  21.0s\n",
      "[CV] END criterion=squared_error, max_depth=230, max_features=sqrt, min_samples_leaf=5, min_samples_split=3, n_estimators=500; total time=  21.5s\n",
      "[CV] END criterion=squared_error, max_depth=230, max_features=sqrt, min_samples_leaf=5, min_samples_split=3, n_estimators=500; total time=  21.0s\n",
      "[CV] END criterion=squared_error, max_depth=230, max_features=sqrt, min_samples_leaf=5, min_samples_split=3, n_estimators=600; total time=  25.3s\n",
      "[CV] END criterion=squared_error, max_depth=230, max_features=sqrt, min_samples_leaf=5, min_samples_split=3, n_estimators=600; total time=  25.0s\n",
      "[CV] END criterion=squared_error, max_depth=230, max_features=sqrt, min_samples_leaf=5, min_samples_split=3, n_estimators=600; total time=  25.4s\n",
      "[CV] END criterion=squared_error, max_depth=230, max_features=sqrt, min_samples_leaf=5, min_samples_split=3, n_estimators=700; total time=  29.8s\n",
      "[CV] END criterion=squared_error, max_depth=230, max_features=sqrt, min_samples_leaf=5, min_samples_split=3, n_estimators=700; total time=  29.4s\n",
      "[CV] END criterion=squared_error, max_depth=230, max_features=sqrt, min_samples_leaf=5, min_samples_split=3, n_estimators=700; total time=  29.5s\n",
      "[CV] END criterion=squared_error, max_depth=230, max_features=sqrt, min_samples_leaf=5, min_samples_split=3, n_estimators=800; total time=  33.6s\n",
      "[CV] END criterion=squared_error, max_depth=230, max_features=sqrt, min_samples_leaf=5, min_samples_split=3, n_estimators=800; total time=  33.6s\n",
      "[CV] END criterion=squared_error, max_depth=230, max_features=sqrt, min_samples_leaf=5, min_samples_split=3, n_estimators=800; total time=  33.8s\n",
      "[CV] END criterion=squared_error, max_depth=230, max_features=sqrt, min_samples_leaf=5, min_samples_split=3, n_estimators=900; total time=  37.9s\n",
      "[CV] END criterion=squared_error, max_depth=230, max_features=sqrt, min_samples_leaf=5, min_samples_split=3, n_estimators=900; total time=  38.1s\n",
      "[CV] END criterion=squared_error, max_depth=230, max_features=sqrt, min_samples_leaf=5, min_samples_split=3, n_estimators=900; total time=  38.1s\n",
      "[CV] END criterion=squared_error, max_depth=230, max_features=sqrt, min_samples_leaf=5, min_samples_split=4, n_estimators=500; total time=  21.7s\n",
      "[CV] END criterion=squared_error, max_depth=230, max_features=sqrt, min_samples_leaf=5, min_samples_split=4, n_estimators=500; total time=  21.3s\n",
      "[CV] END criterion=squared_error, max_depth=230, max_features=sqrt, min_samples_leaf=5, min_samples_split=4, n_estimators=500; total time=  36.3s\n",
      "[CV] END criterion=squared_error, max_depth=230, max_features=sqrt, min_samples_leaf=5, min_samples_split=4, n_estimators=600; total time=  57.6s\n",
      "[CV] END criterion=squared_error, max_depth=230, max_features=sqrt, min_samples_leaf=5, min_samples_split=4, n_estimators=600; total time=  56.7s\n",
      "[CV] END criterion=squared_error, max_depth=230, max_features=sqrt, min_samples_leaf=5, min_samples_split=4, n_estimators=600; total time=  57.1s\n",
      "[CV] END criterion=squared_error, max_depth=230, max_features=sqrt, min_samples_leaf=5, min_samples_split=4, n_estimators=700; total time= 1.1min\n",
      "[CV] END criterion=squared_error, max_depth=230, max_features=sqrt, min_samples_leaf=5, min_samples_split=4, n_estimators=700; total time= 1.1min\n",
      "[CV] END criterion=squared_error, max_depth=230, max_features=sqrt, min_samples_leaf=5, min_samples_split=4, n_estimators=700; total time= 1.1min\n",
      "[CV] END criterion=squared_error, max_depth=230, max_features=sqrt, min_samples_leaf=5, min_samples_split=4, n_estimators=800; total time= 1.3min\n",
      "[CV] END criterion=squared_error, max_depth=230, max_features=sqrt, min_samples_leaf=5, min_samples_split=4, n_estimators=800; total time= 1.3min\n",
      "[CV] END criterion=squared_error, max_depth=230, max_features=sqrt, min_samples_leaf=5, min_samples_split=4, n_estimators=800; total time= 1.3min\n",
      "[CV] END criterion=squared_error, max_depth=230, max_features=sqrt, min_samples_leaf=5, min_samples_split=4, n_estimators=900; total time= 1.4min\n",
      "[CV] END criterion=squared_error, max_depth=230, max_features=sqrt, min_samples_leaf=5, min_samples_split=4, n_estimators=900; total time= 1.4min\n",
      "[CV] END criterion=squared_error, max_depth=230, max_features=sqrt, min_samples_leaf=5, min_samples_split=4, n_estimators=900; total time= 1.4min\n"
     ]
    },
    {
     "data": {
      "text/html": [
       "<style>#sk-container-id-3 {color: black;background-color: white;}#sk-container-id-3 pre{padding: 0;}#sk-container-id-3 div.sk-toggleable {background-color: white;}#sk-container-id-3 label.sk-toggleable__label {cursor: pointer;display: block;width: 100%;margin-bottom: 0;padding: 0.3em;box-sizing: border-box;text-align: center;}#sk-container-id-3 label.sk-toggleable__label-arrow:before {content: \"▸\";float: left;margin-right: 0.25em;color: #696969;}#sk-container-id-3 label.sk-toggleable__label-arrow:hover:before {color: black;}#sk-container-id-3 div.sk-estimator:hover label.sk-toggleable__label-arrow:before {color: black;}#sk-container-id-3 div.sk-toggleable__content {max-height: 0;max-width: 0;overflow: hidden;text-align: left;background-color: #f0f8ff;}#sk-container-id-3 div.sk-toggleable__content pre {margin: 0.2em;color: black;border-radius: 0.25em;background-color: #f0f8ff;}#sk-container-id-3 input.sk-toggleable__control:checked~div.sk-toggleable__content {max-height: 200px;max-width: 100%;overflow: auto;}#sk-container-id-3 input.sk-toggleable__control:checked~label.sk-toggleable__label-arrow:before {content: \"▾\";}#sk-container-id-3 div.sk-estimator input.sk-toggleable__control:checked~label.sk-toggleable__label {background-color: #d4ebff;}#sk-container-id-3 div.sk-label input.sk-toggleable__control:checked~label.sk-toggleable__label {background-color: #d4ebff;}#sk-container-id-3 input.sk-hidden--visually {border: 0;clip: rect(1px 1px 1px 1px);clip: rect(1px, 1px, 1px, 1px);height: 1px;margin: -1px;overflow: hidden;padding: 0;position: absolute;width: 1px;}#sk-container-id-3 div.sk-estimator {font-family: monospace;background-color: #f0f8ff;border: 1px dotted black;border-radius: 0.25em;box-sizing: border-box;margin-bottom: 0.5em;}#sk-container-id-3 div.sk-estimator:hover {background-color: #d4ebff;}#sk-container-id-3 div.sk-parallel-item::after {content: \"\";width: 100%;border-bottom: 1px solid gray;flex-grow: 1;}#sk-container-id-3 div.sk-label:hover label.sk-toggleable__label {background-color: #d4ebff;}#sk-container-id-3 div.sk-serial::before {content: \"\";position: absolute;border-left: 1px solid gray;box-sizing: border-box;top: 0;bottom: 0;left: 50%;z-index: 0;}#sk-container-id-3 div.sk-serial {display: flex;flex-direction: column;align-items: center;background-color: white;padding-right: 0.2em;padding-left: 0.2em;position: relative;}#sk-container-id-3 div.sk-item {position: relative;z-index: 1;}#sk-container-id-3 div.sk-parallel {display: flex;align-items: stretch;justify-content: center;background-color: white;position: relative;}#sk-container-id-3 div.sk-item::before, #sk-container-id-3 div.sk-parallel-item::before {content: \"\";position: absolute;border-left: 1px solid gray;box-sizing: border-box;top: 0;bottom: 0;left: 50%;z-index: -1;}#sk-container-id-3 div.sk-parallel-item {display: flex;flex-direction: column;z-index: 1;position: relative;background-color: white;}#sk-container-id-3 div.sk-parallel-item:first-child::after {align-self: flex-end;width: 50%;}#sk-container-id-3 div.sk-parallel-item:last-child::after {align-self: flex-start;width: 50%;}#sk-container-id-3 div.sk-parallel-item:only-child::after {width: 0;}#sk-container-id-3 div.sk-dashed-wrapped {border: 1px dashed gray;margin: 0 0.4em 0.5em 0.4em;box-sizing: border-box;padding-bottom: 0.4em;background-color: white;}#sk-container-id-3 div.sk-label label {font-family: monospace;font-weight: bold;display: inline-block;line-height: 1.2em;}#sk-container-id-3 div.sk-label-container {text-align: center;}#sk-container-id-3 div.sk-container {/* jupyter's `normalize.less` sets `[hidden] { display: none; }` but bootstrap.min.css set `[hidden] { display: none !important; }` so we also need the `!important` here to be able to override the default hidden behavior on the sphinx rendered scikit-learn.org. See: https://github.com/scikit-learn/scikit-learn/issues/21755 */display: inline-block !important;position: relative;}#sk-container-id-3 div.sk-text-repr-fallback {display: none;}</style><div id=\"sk-container-id-3\" class=\"sk-top-container\"><div class=\"sk-text-repr-fallback\"><pre>GridSearchCV(cv=3, estimator=RandomForestRegressor(),\n",
       "             param_grid={&#x27;criterion&#x27;: [&#x27;squared_error&#x27;], &#x27;max_depth&#x27;: [230],\n",
       "                         &#x27;max_features&#x27;: [&#x27;sqrt&#x27;],\n",
       "                         &#x27;min_samples_leaf&#x27;: [1, 3, 5],\n",
       "                         &#x27;min_samples_split&#x27;: [0, 1, 2, 3, 4],\n",
       "                         &#x27;n_estimators&#x27;: [500, 600, 700, 800, 900]},\n",
       "             scoring=&#x27;neg_mean_squared_error&#x27;, verbose=2)</pre><b>In a Jupyter environment, please rerun this cell to show the HTML representation or trust the notebook. <br />On GitHub, the HTML representation is unable to render, please try loading this page with nbviewer.org.</b></div><div class=\"sk-container\" hidden><div class=\"sk-item sk-dashed-wrapped\"><div class=\"sk-label-container\"><div class=\"sk-label sk-toggleable\"><input class=\"sk-toggleable__control sk-hidden--visually\" id=\"sk-estimator-id-5\" type=\"checkbox\" ><label for=\"sk-estimator-id-5\" class=\"sk-toggleable__label sk-toggleable__label-arrow\">GridSearchCV</label><div class=\"sk-toggleable__content\"><pre>GridSearchCV(cv=3, estimator=RandomForestRegressor(),\n",
       "             param_grid={&#x27;criterion&#x27;: [&#x27;squared_error&#x27;], &#x27;max_depth&#x27;: [230],\n",
       "                         &#x27;max_features&#x27;: [&#x27;sqrt&#x27;],\n",
       "                         &#x27;min_samples_leaf&#x27;: [1, 3, 5],\n",
       "                         &#x27;min_samples_split&#x27;: [0, 1, 2, 3, 4],\n",
       "                         &#x27;n_estimators&#x27;: [500, 600, 700, 800, 900]},\n",
       "             scoring=&#x27;neg_mean_squared_error&#x27;, verbose=2)</pre></div></div></div><div class=\"sk-parallel\"><div class=\"sk-parallel-item\"><div class=\"sk-item\"><div class=\"sk-label-container\"><div class=\"sk-label sk-toggleable\"><input class=\"sk-toggleable__control sk-hidden--visually\" id=\"sk-estimator-id-6\" type=\"checkbox\" ><label for=\"sk-estimator-id-6\" class=\"sk-toggleable__label sk-toggleable__label-arrow\">estimator: RandomForestRegressor</label><div class=\"sk-toggleable__content\"><pre>RandomForestRegressor()</pre></div></div></div><div class=\"sk-serial\"><div class=\"sk-item\"><div class=\"sk-estimator sk-toggleable\"><input class=\"sk-toggleable__control sk-hidden--visually\" id=\"sk-estimator-id-7\" type=\"checkbox\" ><label for=\"sk-estimator-id-7\" class=\"sk-toggleable__label sk-toggleable__label-arrow\">RandomForestRegressor</label><div class=\"sk-toggleable__content\"><pre>RandomForestRegressor()</pre></div></div></div></div></div></div></div></div></div></div>"
      ],
      "text/plain": [
       "GridSearchCV(cv=3, estimator=RandomForestRegressor(),\n",
       "             param_grid={'criterion': ['squared_error'], 'max_depth': [230],\n",
       "                         'max_features': ['sqrt'],\n",
       "                         'min_samples_leaf': [1, 3, 5],\n",
       "                         'min_samples_split': [0, 1, 2, 3, 4],\n",
       "                         'n_estimators': [500, 600, 700, 800, 900]},\n",
       "             scoring='neg_mean_squared_error', verbose=2)"
      ]
     },
     "execution_count": 36,
     "metadata": {},
     "output_type": "execute_result"
    }
   ],
   "source": [
    "rf=RandomForestRegressor()\n",
    "grid_search=GridSearchCV(rf,param_grid=param_grid,scoring='neg_mean_squared_error',cv=3,verbose=2)\n",
    "grid_search.fit(X_train,y_train)"
   ]
  },
  {
   "cell_type": "code",
   "execution_count": 37,
   "id": "7bb75da4",
   "metadata": {},
   "outputs": [
    {
     "data": {
      "text/plain": [
       "{'criterion': 'squared_error',\n",
       " 'max_depth': 230,\n",
       " 'max_features': 'sqrt',\n",
       " 'min_samples_leaf': 1,\n",
       " 'min_samples_split': 3,\n",
       " 'n_estimators': 800}"
      ]
     },
     "execution_count": 37,
     "metadata": {},
     "output_type": "execute_result"
    }
   ],
   "source": [
    "grid_search.best_params_"
   ]
  },
  {
   "cell_type": "code",
   "execution_count": 38,
   "id": "2bdac207",
   "metadata": {},
   "outputs": [
    {
     "data": {
      "text/plain": [
       "0.8424137243854217"
      ]
     },
     "execution_count": 38,
     "metadata": {},
     "output_type": "execute_result"
    }
   ],
   "source": [
    "best_grid=grid_search.best_estimator_\n",
    "y_pred=best_grid.predict(X_test)\n",
    "from sklearn.metrics import r2_score\n",
    "score=r2_score(y_pred,y_test)\n",
    "score"
   ]
  },
  {
   "cell_type": "markdown",
   "id": "b1a69ced",
   "metadata": {},
   "source": [
    "- Do the prediction process for AQI_bucket index"
   ]
  },
  {
   "cell_type": "code",
   "execution_count": 40,
   "id": "07be1232",
   "metadata": {},
   "outputs": [
    {
     "name": "stdout",
     "output_type": "stream",
     "text": [
      "(24850, 12) (18637, 12) (6213, 12)\n"
     ]
    }
   ],
   "source": [
    "# train test split\n",
    "from sklearn.model_selection import train_test_split\n",
    "X_train, X_test, y1_train, y1_test = train_test_split(X, y1, test_size=0.25, random_state=4)    ## random state controll the suffling of data so mention it carefully it often effect the accuracy score or r2 score of the model \n",
    "print(X.shape, X_train.shape, X_test.shape)"
   ]
  },
  {
   "cell_type": "code",
   "execution_count": 41,
   "id": "ed267272",
   "metadata": {},
   "outputs": [
    {
     "name": "stdout",
     "output_type": "stream",
     "text": [
      "[[ 2.46650417 -0.21426982  1.04111332 ... -0.17785218 -0.36580427\n",
      "  -0.22431852]\n",
      " [-0.2212035   0.10545581 -0.01305286 ...  0.21834919 -0.38858139\n",
      "   0.03933242]\n",
      " [ 0.25505999 -0.21426982 -0.18406002 ... -0.20011068 -0.23483587\n",
      "  -0.22431852]\n",
      " ...\n",
      " [ 2.09291313  3.0609204   2.42958263 ...  0.20647799  0.11308454\n",
      "  -0.22431852]\n",
      " [-0.6177372  -0.7654396  -0.54966154 ... -0.16375513 -0.44951017\n",
      "  -0.22431852]\n",
      " [-0.82942794 -1.10140693 -0.61497993 ... -0.10514107 -0.14429684\n",
      "  -0.37276065]]\n",
      "[[-0.65940126 -1.03362308 -0.45935623 ... -0.18028188 -0.38981715\n",
      "  -0.24419412]\n",
      " [-0.85030082 -0.21007407 -0.58374615 ... -0.03385195 -0.30216171\n",
      "  -0.24419412]\n",
      " [-0.01266138 -0.21007407 -0.54839322 ... -0.17323155 -0.38600604\n",
      "  -0.24419412]\n",
      " ...\n",
      " [-0.55877323 -0.21007407 -0.51042157 ... -0.17540089 -0.38219494\n",
      "  -0.24419412]\n",
      " [-0.29568736  1.31041474  0.42577618 ...  0.92065426 -0.31026031\n",
      "   3.3520522 ]\n",
      " [-0.42800317 -0.21007407 -0.51478612 ... -0.18028188 -0.32455196\n",
      "  -0.24419412]]\n"
     ]
    }
   ],
   "source": [
    "# Feature Scaling \n",
    "from sklearn.preprocessing import StandardScaler\n",
    "scaler = StandardScaler()\n",
    "scaler.fit(X_train)\n",
    "X_train = scaler.transform(X_train)\n",
    "print(X_train)\n",
    "scaler.fit(X_test)\n",
    "X_test= scaler.transform(X_test)\n",
    "print(X_test)"
   ]
  },
  {
   "cell_type": "markdown",
   "id": "7b351e0d",
   "metadata": {},
   "source": [
    "# Random Forest Classification(to distinguish  AQI_Bucket catagory)"
   ]
  },
  {
   "cell_type": "code",
   "execution_count": 42,
   "id": "4f02b4a3",
   "metadata": {},
   "outputs": [
    {
     "data": {
      "text/html": [
       "<style>#sk-container-id-4 {color: black;background-color: white;}#sk-container-id-4 pre{padding: 0;}#sk-container-id-4 div.sk-toggleable {background-color: white;}#sk-container-id-4 label.sk-toggleable__label {cursor: pointer;display: block;width: 100%;margin-bottom: 0;padding: 0.3em;box-sizing: border-box;text-align: center;}#sk-container-id-4 label.sk-toggleable__label-arrow:before {content: \"▸\";float: left;margin-right: 0.25em;color: #696969;}#sk-container-id-4 label.sk-toggleable__label-arrow:hover:before {color: black;}#sk-container-id-4 div.sk-estimator:hover label.sk-toggleable__label-arrow:before {color: black;}#sk-container-id-4 div.sk-toggleable__content {max-height: 0;max-width: 0;overflow: hidden;text-align: left;background-color: #f0f8ff;}#sk-container-id-4 div.sk-toggleable__content pre {margin: 0.2em;color: black;border-radius: 0.25em;background-color: #f0f8ff;}#sk-container-id-4 input.sk-toggleable__control:checked~div.sk-toggleable__content {max-height: 200px;max-width: 100%;overflow: auto;}#sk-container-id-4 input.sk-toggleable__control:checked~label.sk-toggleable__label-arrow:before {content: \"▾\";}#sk-container-id-4 div.sk-estimator input.sk-toggleable__control:checked~label.sk-toggleable__label {background-color: #d4ebff;}#sk-container-id-4 div.sk-label input.sk-toggleable__control:checked~label.sk-toggleable__label {background-color: #d4ebff;}#sk-container-id-4 input.sk-hidden--visually {border: 0;clip: rect(1px 1px 1px 1px);clip: rect(1px, 1px, 1px, 1px);height: 1px;margin: -1px;overflow: hidden;padding: 0;position: absolute;width: 1px;}#sk-container-id-4 div.sk-estimator {font-family: monospace;background-color: #f0f8ff;border: 1px dotted black;border-radius: 0.25em;box-sizing: border-box;margin-bottom: 0.5em;}#sk-container-id-4 div.sk-estimator:hover {background-color: #d4ebff;}#sk-container-id-4 div.sk-parallel-item::after {content: \"\";width: 100%;border-bottom: 1px solid gray;flex-grow: 1;}#sk-container-id-4 div.sk-label:hover label.sk-toggleable__label {background-color: #d4ebff;}#sk-container-id-4 div.sk-serial::before {content: \"\";position: absolute;border-left: 1px solid gray;box-sizing: border-box;top: 0;bottom: 0;left: 50%;z-index: 0;}#sk-container-id-4 div.sk-serial {display: flex;flex-direction: column;align-items: center;background-color: white;padding-right: 0.2em;padding-left: 0.2em;position: relative;}#sk-container-id-4 div.sk-item {position: relative;z-index: 1;}#sk-container-id-4 div.sk-parallel {display: flex;align-items: stretch;justify-content: center;background-color: white;position: relative;}#sk-container-id-4 div.sk-item::before, #sk-container-id-4 div.sk-parallel-item::before {content: \"\";position: absolute;border-left: 1px solid gray;box-sizing: border-box;top: 0;bottom: 0;left: 50%;z-index: -1;}#sk-container-id-4 div.sk-parallel-item {display: flex;flex-direction: column;z-index: 1;position: relative;background-color: white;}#sk-container-id-4 div.sk-parallel-item:first-child::after {align-self: flex-end;width: 50%;}#sk-container-id-4 div.sk-parallel-item:last-child::after {align-self: flex-start;width: 50%;}#sk-container-id-4 div.sk-parallel-item:only-child::after {width: 0;}#sk-container-id-4 div.sk-dashed-wrapped {border: 1px dashed gray;margin: 0 0.4em 0.5em 0.4em;box-sizing: border-box;padding-bottom: 0.4em;background-color: white;}#sk-container-id-4 div.sk-label label {font-family: monospace;font-weight: bold;display: inline-block;line-height: 1.2em;}#sk-container-id-4 div.sk-label-container {text-align: center;}#sk-container-id-4 div.sk-container {/* jupyter's `normalize.less` sets `[hidden] { display: none; }` but bootstrap.min.css set `[hidden] { display: none !important; }` so we also need the `!important` here to be able to override the default hidden behavior on the sphinx rendered scikit-learn.org. See: https://github.com/scikit-learn/scikit-learn/issues/21755 */display: inline-block !important;position: relative;}#sk-container-id-4 div.sk-text-repr-fallback {display: none;}</style><div id=\"sk-container-id-4\" class=\"sk-top-container\"><div class=\"sk-text-repr-fallback\"><pre>RandomForestClassifier()</pre><b>In a Jupyter environment, please rerun this cell to show the HTML representation or trust the notebook. <br />On GitHub, the HTML representation is unable to render, please try loading this page with nbviewer.org.</b></div><div class=\"sk-container\" hidden><div class=\"sk-item\"><div class=\"sk-estimator sk-toggleable\"><input class=\"sk-toggleable__control sk-hidden--visually\" id=\"sk-estimator-id-8\" type=\"checkbox\" checked><label for=\"sk-estimator-id-8\" class=\"sk-toggleable__label sk-toggleable__label-arrow\">RandomForestClassifier</label><div class=\"sk-toggleable__content\"><pre>RandomForestClassifier()</pre></div></div></div></div></div>"
      ],
      "text/plain": [
       "RandomForestClassifier()"
      ]
     },
     "execution_count": 42,
     "metadata": {},
     "output_type": "execute_result"
    }
   ],
   "source": [
    "from sklearn.ensemble import RandomForestClassifier\n",
    "rf_classifier=RandomForestClassifier()\n",
    "rf_classifier.fit(X_train,y1_train)"
   ]
  },
  {
   "cell_type": "code",
   "execution_count": 43,
   "id": "d6987eb5",
   "metadata": {},
   "outputs": [
    {
     "name": "stdout",
     "output_type": "stream",
     "text": [
      "[[ 138    8    0  157    0    0]\n",
      " [   1 1874   66  191    2    4]\n",
      " [   0  207  429    3    1   53]\n",
      " [  27  342    2 1762    0    1]\n",
      " [   0    1   14    1  276   80]\n",
      " [   0    4  123    0   22  424]]\n",
      "0.7891517785288911\n",
      "              precision    recall  f1-score   support\n",
      "\n",
      "           0       0.83      0.46      0.59       303\n",
      "           1       0.77      0.88      0.82      2138\n",
      "           2       0.68      0.62      0.65       693\n",
      "           3       0.83      0.83      0.83      2134\n",
      "           4       0.92      0.74      0.82       372\n",
      "           5       0.75      0.74      0.75       573\n",
      "\n",
      "    accuracy                           0.79      6213\n",
      "   macro avg       0.80      0.71      0.74      6213\n",
      "weighted avg       0.79      0.79      0.79      6213\n",
      "\n"
     ]
    }
   ],
   "source": [
    "prediction1=rf_classifier.predict(X_test)\n",
    "from sklearn.metrics import confusion_matrix,classification_report,accuracy_score\n",
    "print(confusion_matrix(y1_test,prediction1))\n",
    "print(accuracy_score(y1_test,prediction1))\n",
    "print(classification_report(y1_test,prediction1))"
   ]
  },
  {
   "cell_type": "markdown",
   "id": "3a14b41e",
   "metadata": {},
   "source": [
    "# Hyper parameter tuning\n",
    "### (i) RandomizedSearchCV"
   ]
  },
  {
   "cell_type": "code",
   "execution_count": 44,
   "id": "eded15c3",
   "metadata": {},
   "outputs": [
    {
     "name": "stdout",
     "output_type": "stream",
     "text": [
      "{'n_estimators': [100, 200, 300, 400, 500, 600, 700, 800, 900, 1000], 'max_features': ['auto', 'sqrt', 'log2'], 'max_depth': [10, 120, 230, 340, 450, 560, 670, 780, 890, 1000], 'min_samples_split': [2, 5, 10, 14], 'min_samples_leaf': [1, 2, 4, 6, 8], 'criterion': ['entropy', 'gini']}\n"
     ]
    }
   ],
   "source": [
    "from sklearn.model_selection import RandomizedSearchCV\n",
    "n_estimators = [int(x) for x in np.linspace(100,1000,10)]\n",
    "max_features = ['auto', 'sqrt','log2']\n",
    "max_depth = [int(x) for x in np.linspace(10, 1000,10)]\n",
    "min_samples_split = [2, 5, 10,14]\n",
    "min_samples_leaf = [1, 2, 4,6,8]\n",
    "criterion = ['entropy','gini']\n",
    "random_grid1 = {'n_estimators': n_estimators,\n",
    "               'max_features': max_features,\n",
    "               'max_depth': max_depth,\n",
    "               'min_samples_split': min_samples_split,\n",
    "               'min_samples_leaf': min_samples_leaf,\n",
    "              'criterion':criterion}\n",
    "print(random_grid1)"
   ]
  },
  {
   "cell_type": "code",
   "execution_count": 47,
   "id": "feef186e",
   "metadata": {
    "scrolled": true
   },
   "outputs": [
    {
     "name": "stdout",
     "output_type": "stream",
     "text": [
      "Fitting 3 folds for each of 10 candidates, totalling 30 fits\n",
      "[CV] END criterion=entropy, max_depth=230, max_features=auto, min_samples_leaf=6, min_samples_split=2, n_estimators=600; total time=  32.3s\n",
      "[CV] END criterion=entropy, max_depth=230, max_features=auto, min_samples_leaf=6, min_samples_split=2, n_estimators=600; total time=  32.7s\n",
      "[CV] END criterion=entropy, max_depth=230, max_features=auto, min_samples_leaf=6, min_samples_split=2, n_estimators=600; total time=  32.3s\n",
      "[CV] END criterion=entropy, max_depth=450, max_features=sqrt, min_samples_leaf=8, min_samples_split=2, n_estimators=100; total time=   5.1s\n",
      "[CV] END criterion=entropy, max_depth=450, max_features=sqrt, min_samples_leaf=8, min_samples_split=2, n_estimators=100; total time=   5.1s\n",
      "[CV] END criterion=entropy, max_depth=450, max_features=sqrt, min_samples_leaf=8, min_samples_split=2, n_estimators=100; total time=   5.0s\n",
      "[CV] END criterion=entropy, max_depth=670, max_features=sqrt, min_samples_leaf=8, min_samples_split=14, n_estimators=300; total time=  15.7s\n",
      "[CV] END criterion=entropy, max_depth=670, max_features=sqrt, min_samples_leaf=8, min_samples_split=14, n_estimators=300; total time=  15.6s\n",
      "[CV] END criterion=entropy, max_depth=670, max_features=sqrt, min_samples_leaf=8, min_samples_split=14, n_estimators=300; total time=  15.5s\n",
      "[CV] END criterion=gini, max_depth=670, max_features=sqrt, min_samples_leaf=8, min_samples_split=2, n_estimators=300; total time=  10.4s\n",
      "[CV] END criterion=gini, max_depth=670, max_features=sqrt, min_samples_leaf=8, min_samples_split=2, n_estimators=300; total time=  10.5s\n",
      "[CV] END criterion=gini, max_depth=670, max_features=sqrt, min_samples_leaf=8, min_samples_split=2, n_estimators=300; total time=  10.6s\n",
      "[CV] END criterion=entropy, max_depth=10, max_features=log2, min_samples_leaf=1, min_samples_split=2, n_estimators=800; total time=  39.4s\n",
      "[CV] END criterion=entropy, max_depth=10, max_features=log2, min_samples_leaf=1, min_samples_split=2, n_estimators=800; total time=  39.5s\n",
      "[CV] END criterion=entropy, max_depth=10, max_features=log2, min_samples_leaf=1, min_samples_split=2, n_estimators=800; total time=  39.7s\n",
      "[CV] END criterion=gini, max_depth=890, max_features=auto, min_samples_leaf=6, min_samples_split=10, n_estimators=300; total time=  11.1s\n",
      "[CV] END criterion=gini, max_depth=890, max_features=auto, min_samples_leaf=6, min_samples_split=10, n_estimators=300; total time=  11.4s\n",
      "[CV] END criterion=gini, max_depth=890, max_features=auto, min_samples_leaf=6, min_samples_split=10, n_estimators=300; total time=  11.2s\n",
      "[CV] END criterion=gini, max_depth=670, max_features=sqrt, min_samples_leaf=4, min_samples_split=10, n_estimators=800; total time=  31.9s\n",
      "[CV] END criterion=gini, max_depth=670, max_features=sqrt, min_samples_leaf=4, min_samples_split=10, n_estimators=800; total time=  32.0s\n",
      "[CV] END criterion=gini, max_depth=670, max_features=sqrt, min_samples_leaf=4, min_samples_split=10, n_estimators=800; total time=  32.0s\n",
      "[CV] END criterion=gini, max_depth=120, max_features=sqrt, min_samples_leaf=1, min_samples_split=2, n_estimators=700; total time=  32.1s\n",
      "[CV] END criterion=gini, max_depth=120, max_features=sqrt, min_samples_leaf=1, min_samples_split=2, n_estimators=700; total time=  32.6s\n",
      "[CV] END criterion=gini, max_depth=120, max_features=sqrt, min_samples_leaf=1, min_samples_split=2, n_estimators=700; total time=  32.4s\n",
      "[CV] END criterion=gini, max_depth=670, max_features=sqrt, min_samples_leaf=1, min_samples_split=10, n_estimators=300; total time=  13.6s\n",
      "[CV] END criterion=gini, max_depth=670, max_features=sqrt, min_samples_leaf=1, min_samples_split=10, n_estimators=300; total time=  13.6s\n",
      "[CV] END criterion=gini, max_depth=670, max_features=sqrt, min_samples_leaf=1, min_samples_split=10, n_estimators=300; total time=  13.4s\n",
      "[CV] END criterion=gini, max_depth=670, max_features=sqrt, min_samples_leaf=4, min_samples_split=14, n_estimators=600; total time=  23.7s\n",
      "[CV] END criterion=gini, max_depth=670, max_features=sqrt, min_samples_leaf=4, min_samples_split=14, n_estimators=600; total time=  24.3s\n",
      "[CV] END criterion=gini, max_depth=670, max_features=sqrt, min_samples_leaf=4, min_samples_split=14, n_estimators=600; total time=  23.5s\n"
     ]
    },
    {
     "data": {
      "text/html": [
       "<style>#sk-container-id-5 {color: black;background-color: white;}#sk-container-id-5 pre{padding: 0;}#sk-container-id-5 div.sk-toggleable {background-color: white;}#sk-container-id-5 label.sk-toggleable__label {cursor: pointer;display: block;width: 100%;margin-bottom: 0;padding: 0.3em;box-sizing: border-box;text-align: center;}#sk-container-id-5 label.sk-toggleable__label-arrow:before {content: \"▸\";float: left;margin-right: 0.25em;color: #696969;}#sk-container-id-5 label.sk-toggleable__label-arrow:hover:before {color: black;}#sk-container-id-5 div.sk-estimator:hover label.sk-toggleable__label-arrow:before {color: black;}#sk-container-id-5 div.sk-toggleable__content {max-height: 0;max-width: 0;overflow: hidden;text-align: left;background-color: #f0f8ff;}#sk-container-id-5 div.sk-toggleable__content pre {margin: 0.2em;color: black;border-radius: 0.25em;background-color: #f0f8ff;}#sk-container-id-5 input.sk-toggleable__control:checked~div.sk-toggleable__content {max-height: 200px;max-width: 100%;overflow: auto;}#sk-container-id-5 input.sk-toggleable__control:checked~label.sk-toggleable__label-arrow:before {content: \"▾\";}#sk-container-id-5 div.sk-estimator input.sk-toggleable__control:checked~label.sk-toggleable__label {background-color: #d4ebff;}#sk-container-id-5 div.sk-label input.sk-toggleable__control:checked~label.sk-toggleable__label {background-color: #d4ebff;}#sk-container-id-5 input.sk-hidden--visually {border: 0;clip: rect(1px 1px 1px 1px);clip: rect(1px, 1px, 1px, 1px);height: 1px;margin: -1px;overflow: hidden;padding: 0;position: absolute;width: 1px;}#sk-container-id-5 div.sk-estimator {font-family: monospace;background-color: #f0f8ff;border: 1px dotted black;border-radius: 0.25em;box-sizing: border-box;margin-bottom: 0.5em;}#sk-container-id-5 div.sk-estimator:hover {background-color: #d4ebff;}#sk-container-id-5 div.sk-parallel-item::after {content: \"\";width: 100%;border-bottom: 1px solid gray;flex-grow: 1;}#sk-container-id-5 div.sk-label:hover label.sk-toggleable__label {background-color: #d4ebff;}#sk-container-id-5 div.sk-serial::before {content: \"\";position: absolute;border-left: 1px solid gray;box-sizing: border-box;top: 0;bottom: 0;left: 50%;z-index: 0;}#sk-container-id-5 div.sk-serial {display: flex;flex-direction: column;align-items: center;background-color: white;padding-right: 0.2em;padding-left: 0.2em;position: relative;}#sk-container-id-5 div.sk-item {position: relative;z-index: 1;}#sk-container-id-5 div.sk-parallel {display: flex;align-items: stretch;justify-content: center;background-color: white;position: relative;}#sk-container-id-5 div.sk-item::before, #sk-container-id-5 div.sk-parallel-item::before {content: \"\";position: absolute;border-left: 1px solid gray;box-sizing: border-box;top: 0;bottom: 0;left: 50%;z-index: -1;}#sk-container-id-5 div.sk-parallel-item {display: flex;flex-direction: column;z-index: 1;position: relative;background-color: white;}#sk-container-id-5 div.sk-parallel-item:first-child::after {align-self: flex-end;width: 50%;}#sk-container-id-5 div.sk-parallel-item:last-child::after {align-self: flex-start;width: 50%;}#sk-container-id-5 div.sk-parallel-item:only-child::after {width: 0;}#sk-container-id-5 div.sk-dashed-wrapped {border: 1px dashed gray;margin: 0 0.4em 0.5em 0.4em;box-sizing: border-box;padding-bottom: 0.4em;background-color: white;}#sk-container-id-5 div.sk-label label {font-family: monospace;font-weight: bold;display: inline-block;line-height: 1.2em;}#sk-container-id-5 div.sk-label-container {text-align: center;}#sk-container-id-5 div.sk-container {/* jupyter's `normalize.less` sets `[hidden] { display: none; }` but bootstrap.min.css set `[hidden] { display: none !important; }` so we also need the `!important` here to be able to override the default hidden behavior on the sphinx rendered scikit-learn.org. See: https://github.com/scikit-learn/scikit-learn/issues/21755 */display: inline-block !important;position: relative;}#sk-container-id-5 div.sk-text-repr-fallback {display: none;}</style><div id=\"sk-container-id-5\" class=\"sk-top-container\"><div class=\"sk-text-repr-fallback\"><pre>RandomizedSearchCV(cv=3, estimator=RandomForestClassifier(),\n",
       "                   param_distributions={&#x27;criterion&#x27;: [&#x27;entropy&#x27;, &#x27;gini&#x27;],\n",
       "                                        &#x27;max_depth&#x27;: [10, 120, 230, 340, 450,\n",
       "                                                      560, 670, 780, 890,\n",
       "                                                      1000],\n",
       "                                        &#x27;max_features&#x27;: [&#x27;auto&#x27;, &#x27;sqrt&#x27;,\n",
       "                                                         &#x27;log2&#x27;],\n",
       "                                        &#x27;min_samples_leaf&#x27;: [1, 2, 4, 6, 8],\n",
       "                                        &#x27;min_samples_split&#x27;: [2, 5, 10, 14],\n",
       "                                        &#x27;n_estimators&#x27;: [100, 200, 300, 400,\n",
       "                                                         500, 600, 700, 800,\n",
       "                                                         900, 1000]},\n",
       "                   scoring=&#x27;accuracy&#x27;, verbose=2)</pre><b>In a Jupyter environment, please rerun this cell to show the HTML representation or trust the notebook. <br />On GitHub, the HTML representation is unable to render, please try loading this page with nbviewer.org.</b></div><div class=\"sk-container\" hidden><div class=\"sk-item sk-dashed-wrapped\"><div class=\"sk-label-container\"><div class=\"sk-label sk-toggleable\"><input class=\"sk-toggleable__control sk-hidden--visually\" id=\"sk-estimator-id-9\" type=\"checkbox\" ><label for=\"sk-estimator-id-9\" class=\"sk-toggleable__label sk-toggleable__label-arrow\">RandomizedSearchCV</label><div class=\"sk-toggleable__content\"><pre>RandomizedSearchCV(cv=3, estimator=RandomForestClassifier(),\n",
       "                   param_distributions={&#x27;criterion&#x27;: [&#x27;entropy&#x27;, &#x27;gini&#x27;],\n",
       "                                        &#x27;max_depth&#x27;: [10, 120, 230, 340, 450,\n",
       "                                                      560, 670, 780, 890,\n",
       "                                                      1000],\n",
       "                                        &#x27;max_features&#x27;: [&#x27;auto&#x27;, &#x27;sqrt&#x27;,\n",
       "                                                         &#x27;log2&#x27;],\n",
       "                                        &#x27;min_samples_leaf&#x27;: [1, 2, 4, 6, 8],\n",
       "                                        &#x27;min_samples_split&#x27;: [2, 5, 10, 14],\n",
       "                                        &#x27;n_estimators&#x27;: [100, 200, 300, 400,\n",
       "                                                         500, 600, 700, 800,\n",
       "                                                         900, 1000]},\n",
       "                   scoring=&#x27;accuracy&#x27;, verbose=2)</pre></div></div></div><div class=\"sk-parallel\"><div class=\"sk-parallel-item\"><div class=\"sk-item\"><div class=\"sk-label-container\"><div class=\"sk-label sk-toggleable\"><input class=\"sk-toggleable__control sk-hidden--visually\" id=\"sk-estimator-id-10\" type=\"checkbox\" ><label for=\"sk-estimator-id-10\" class=\"sk-toggleable__label sk-toggleable__label-arrow\">estimator: RandomForestClassifier</label><div class=\"sk-toggleable__content\"><pre>RandomForestClassifier()</pre></div></div></div><div class=\"sk-serial\"><div class=\"sk-item\"><div class=\"sk-estimator sk-toggleable\"><input class=\"sk-toggleable__control sk-hidden--visually\" id=\"sk-estimator-id-11\" type=\"checkbox\" ><label for=\"sk-estimator-id-11\" class=\"sk-toggleable__label sk-toggleable__label-arrow\">RandomForestClassifier</label><div class=\"sk-toggleable__content\"><pre>RandomForestClassifier()</pre></div></div></div></div></div></div></div></div></div></div>"
      ],
      "text/plain": [
       "RandomizedSearchCV(cv=3, estimator=RandomForestClassifier(),\n",
       "                   param_distributions={'criterion': ['entropy', 'gini'],\n",
       "                                        'max_depth': [10, 120, 230, 340, 450,\n",
       "                                                      560, 670, 780, 890,\n",
       "                                                      1000],\n",
       "                                        'max_features': ['auto', 'sqrt',\n",
       "                                                         'log2'],\n",
       "                                        'min_samples_leaf': [1, 2, 4, 6, 8],\n",
       "                                        'min_samples_split': [2, 5, 10, 14],\n",
       "                                        'n_estimators': [100, 200, 300, 400,\n",
       "                                                         500, 600, 700, 800,\n",
       "                                                         900, 1000]},\n",
       "                   scoring='accuracy', verbose=2)"
      ]
     },
     "execution_count": 47,
     "metadata": {},
     "output_type": "execute_result"
    }
   ],
   "source": [
    "rf1=RandomForestClassifier()\n",
    "rf1_randomcv=RandomizedSearchCV(rf1,param_distributions=random_grid1,scoring='accuracy',cv=3,verbose=2)\n",
    "rf1_randomcv.fit(X_train,y1_train)"
   ]
  },
  {
   "cell_type": "code",
   "execution_count": 48,
   "id": "9699bc18",
   "metadata": {},
   "outputs": [
    {
     "data": {
      "text/plain": [
       "{'n_estimators': 700,\n",
       " 'min_samples_split': 2,\n",
       " 'min_samples_leaf': 1,\n",
       " 'max_features': 'sqrt',\n",
       " 'max_depth': 120,\n",
       " 'criterion': 'gini'}"
      ]
     },
     "execution_count": 48,
     "metadata": {},
     "output_type": "execute_result"
    }
   ],
   "source": [
    "rf1_randomcv.best_params_"
   ]
  },
  {
   "cell_type": "code",
   "execution_count": 49,
   "id": "a8ccf47d",
   "metadata": {},
   "outputs": [
    {
     "name": "stdout",
     "output_type": "stream",
     "text": [
      "[[ 140    8    0  155    0    0]\n",
      " [   1 1866   69  198    1    3]\n",
      " [   0  206  432    2    1   52]\n",
      " [  31  312    2 1788    0    1]\n",
      " [   0    3   13    1  272   83]\n",
      " [   0    3  114    0   21  435]]\n",
      "0.7939803637534203\n",
      "              precision    recall  f1-score   support\n",
      "\n",
      "           0       0.81      0.46      0.59       303\n",
      "           1       0.78      0.87      0.82      2138\n",
      "           2       0.69      0.62      0.65       693\n",
      "           3       0.83      0.84      0.84      2134\n",
      "           4       0.92      0.73      0.82       372\n",
      "           5       0.76      0.76      0.76       573\n",
      "\n",
      "    accuracy                           0.79      6213\n",
      "   macro avg       0.80      0.71      0.75      6213\n",
      "weighted avg       0.80      0.79      0.79      6213\n",
      "\n"
     ]
    }
   ],
   "source": [
    "best_random_grid1=rf1_randomcv.best_estimator_\n",
    "y1_pred=best_random_grid1.predict(X_test)\n",
    "from sklearn.metrics import confusion_matrix,classification_report,accuracy_score\n",
    "print(confusion_matrix(y1_test,y1_pred))\n",
    "print(accuracy_score(y1_test,y1_pred))\n",
    "print(classification_report(y1_test,y1_pred))"
   ]
  },
  {
   "cell_type": "markdown",
   "id": "6b004112",
   "metadata": {},
   "source": [
    "### (ii) GridSearch CV"
   ]
  },
  {
   "cell_type": "code",
   "execution_count": 53,
   "id": "e31d3ac6",
   "metadata": {},
   "outputs": [
    {
     "name": "stdout",
     "output_type": "stream",
     "text": [
      "{'criterion': ['gini'], 'max_depth': [120], 'max_features': ['sqrt'], 'min_samples_leaf': [1, 3, 5], 'min_samples_split': [0, 1, 2, 3, 4], 'n_estimators': [500, 600, 700, 800, 900]}\n"
     ]
    }
   ],
   "source": [
    "from sklearn.model_selection import GridSearchCV\n",
    "\n",
    "param_grid1 = {\n",
    "    'criterion': [rf1_randomcv.best_params_['criterion']],\n",
    "    'max_depth': [rf1_randomcv.best_params_['max_depth']],\n",
    "    'max_features': [rf1_randomcv.best_params_['max_features']],\n",
    "    'min_samples_leaf': [rf1_randomcv.best_params_['min_samples_leaf'], \n",
    "                         rf1_randomcv.best_params_['min_samples_leaf']+2, \n",
    "                         rf1_randomcv.best_params_['min_samples_leaf'] + 4],\n",
    "    'min_samples_split': [rf1_randomcv.best_params_['min_samples_split'] - 2,\n",
    "                          rf1_randomcv.best_params_['min_samples_split'] - 1,\n",
    "                          rf1_randomcv.best_params_['min_samples_split'], \n",
    "                          rf1_randomcv.best_params_['min_samples_split'] +1,\n",
    "                          rf1_randomcv.best_params_['min_samples_split'] + 2],\n",
    "    'n_estimators': [rf1_randomcv.best_params_['n_estimators'] - 200, \n",
    "                     rf1_randomcv.best_params_['n_estimators'] - 100, \n",
    "                     rf1_randomcv.best_params_['n_estimators'], \n",
    "                     rf1_randomcv.best_params_['n_estimators'] + 100, \n",
    "                     rf1_randomcv.best_params_['n_estimators'] + 200]\n",
    "}\n",
    "\n",
    "print(param_grid1)"
   ]
  },
  {
   "cell_type": "code",
   "execution_count": 54,
   "id": "3afbf583",
   "metadata": {
    "scrolled": true
   },
   "outputs": [
    {
     "name": "stdout",
     "output_type": "stream",
     "text": [
      "Fitting 3 folds for each of 75 candidates, totalling 225 fits\n",
      "[CV] END criterion=gini, max_depth=120, max_features=sqrt, min_samples_leaf=1, min_samples_split=0, n_estimators=500; total time=   0.0s\n",
      "[CV] END criterion=gini, max_depth=120, max_features=sqrt, min_samples_leaf=1, min_samples_split=0, n_estimators=500; total time=   0.0s\n",
      "[CV] END criterion=gini, max_depth=120, max_features=sqrt, min_samples_leaf=1, min_samples_split=0, n_estimators=500; total time=   0.0s\n",
      "[CV] END criterion=gini, max_depth=120, max_features=sqrt, min_samples_leaf=1, min_samples_split=0, n_estimators=600; total time=   0.0s\n",
      "[CV] END criterion=gini, max_depth=120, max_features=sqrt, min_samples_leaf=1, min_samples_split=0, n_estimators=600; total time=   0.0s\n",
      "[CV] END criterion=gini, max_depth=120, max_features=sqrt, min_samples_leaf=1, min_samples_split=0, n_estimators=600; total time=   0.0s\n",
      "[CV] END criterion=gini, max_depth=120, max_features=sqrt, min_samples_leaf=1, min_samples_split=0, n_estimators=700; total time=   0.0s\n",
      "[CV] END criterion=gini, max_depth=120, max_features=sqrt, min_samples_leaf=1, min_samples_split=0, n_estimators=700; total time=   0.0s\n",
      "[CV] END criterion=gini, max_depth=120, max_features=sqrt, min_samples_leaf=1, min_samples_split=0, n_estimators=700; total time=   0.0s\n",
      "[CV] END criterion=gini, max_depth=120, max_features=sqrt, min_samples_leaf=1, min_samples_split=0, n_estimators=800; total time=   0.0s\n",
      "[CV] END criterion=gini, max_depth=120, max_features=sqrt, min_samples_leaf=1, min_samples_split=0, n_estimators=800; total time=   0.0s\n",
      "[CV] END criterion=gini, max_depth=120, max_features=sqrt, min_samples_leaf=1, min_samples_split=0, n_estimators=800; total time=   0.0s\n",
      "[CV] END criterion=gini, max_depth=120, max_features=sqrt, min_samples_leaf=1, min_samples_split=0, n_estimators=900; total time=   0.0s\n",
      "[CV] END criterion=gini, max_depth=120, max_features=sqrt, min_samples_leaf=1, min_samples_split=0, n_estimators=900; total time=   0.0s\n",
      "[CV] END criterion=gini, max_depth=120, max_features=sqrt, min_samples_leaf=1, min_samples_split=0, n_estimators=900; total time=   0.0s\n",
      "[CV] END criterion=gini, max_depth=120, max_features=sqrt, min_samples_leaf=1, min_samples_split=1, n_estimators=500; total time=   0.0s\n",
      "[CV] END criterion=gini, max_depth=120, max_features=sqrt, min_samples_leaf=1, min_samples_split=1, n_estimators=500; total time=   0.0s\n",
      "[CV] END criterion=gini, max_depth=120, max_features=sqrt, min_samples_leaf=1, min_samples_split=1, n_estimators=500; total time=   0.0s\n",
      "[CV] END criterion=gini, max_depth=120, max_features=sqrt, min_samples_leaf=1, min_samples_split=1, n_estimators=600; total time=   0.0s\n",
      "[CV] END criterion=gini, max_depth=120, max_features=sqrt, min_samples_leaf=1, min_samples_split=1, n_estimators=600; total time=   0.0s\n",
      "[CV] END criterion=gini, max_depth=120, max_features=sqrt, min_samples_leaf=1, min_samples_split=1, n_estimators=600; total time=   0.0s\n",
      "[CV] END criterion=gini, max_depth=120, max_features=sqrt, min_samples_leaf=1, min_samples_split=1, n_estimators=700; total time=   0.0s\n",
      "[CV] END criterion=gini, max_depth=120, max_features=sqrt, min_samples_leaf=1, min_samples_split=1, n_estimators=700; total time=   0.0s\n",
      "[CV] END criterion=gini, max_depth=120, max_features=sqrt, min_samples_leaf=1, min_samples_split=1, n_estimators=700; total time=   0.0s\n",
      "[CV] END criterion=gini, max_depth=120, max_features=sqrt, min_samples_leaf=1, min_samples_split=1, n_estimators=800; total time=   0.0s\n",
      "[CV] END criterion=gini, max_depth=120, max_features=sqrt, min_samples_leaf=1, min_samples_split=1, n_estimators=800; total time=   0.0s\n",
      "[CV] END criterion=gini, max_depth=120, max_features=sqrt, min_samples_leaf=1, min_samples_split=1, n_estimators=800; total time=   0.0s\n",
      "[CV] END criterion=gini, max_depth=120, max_features=sqrt, min_samples_leaf=1, min_samples_split=1, n_estimators=900; total time=   0.0s\n",
      "[CV] END criterion=gini, max_depth=120, max_features=sqrt, min_samples_leaf=1, min_samples_split=1, n_estimators=900; total time=   0.0s\n",
      "[CV] END criterion=gini, max_depth=120, max_features=sqrt, min_samples_leaf=1, min_samples_split=1, n_estimators=900; total time=   0.0s\n",
      "[CV] END criterion=gini, max_depth=120, max_features=sqrt, min_samples_leaf=1, min_samples_split=2, n_estimators=500; total time=  24.8s\n",
      "[CV] END criterion=gini, max_depth=120, max_features=sqrt, min_samples_leaf=1, min_samples_split=2, n_estimators=500; total time=  23.1s\n",
      "[CV] END criterion=gini, max_depth=120, max_features=sqrt, min_samples_leaf=1, min_samples_split=2, n_estimators=500; total time=  22.6s\n",
      "[CV] END criterion=gini, max_depth=120, max_features=sqrt, min_samples_leaf=1, min_samples_split=2, n_estimators=600; total time=  27.3s\n",
      "[CV] END criterion=gini, max_depth=120, max_features=sqrt, min_samples_leaf=1, min_samples_split=2, n_estimators=600; total time=  27.0s\n",
      "[CV] END criterion=gini, max_depth=120, max_features=sqrt, min_samples_leaf=1, min_samples_split=2, n_estimators=600; total time=  27.6s\n",
      "[CV] END criterion=gini, max_depth=120, max_features=sqrt, min_samples_leaf=1, min_samples_split=2, n_estimators=700; total time=  32.2s\n",
      "[CV] END criterion=gini, max_depth=120, max_features=sqrt, min_samples_leaf=1, min_samples_split=2, n_estimators=700; total time=  32.7s\n",
      "[CV] END criterion=gini, max_depth=120, max_features=sqrt, min_samples_leaf=1, min_samples_split=2, n_estimators=700; total time=  33.0s\n",
      "[CV] END criterion=gini, max_depth=120, max_features=sqrt, min_samples_leaf=1, min_samples_split=2, n_estimators=800; total time=  37.3s\n",
      "[CV] END criterion=gini, max_depth=120, max_features=sqrt, min_samples_leaf=1, min_samples_split=2, n_estimators=800; total time=  36.8s\n",
      "[CV] END criterion=gini, max_depth=120, max_features=sqrt, min_samples_leaf=1, min_samples_split=2, n_estimators=800; total time=  37.5s\n",
      "[CV] END criterion=gini, max_depth=120, max_features=sqrt, min_samples_leaf=1, min_samples_split=2, n_estimators=900; total time=  42.3s\n",
      "[CV] END criterion=gini, max_depth=120, max_features=sqrt, min_samples_leaf=1, min_samples_split=2, n_estimators=900; total time=  41.4s\n",
      "[CV] END criterion=gini, max_depth=120, max_features=sqrt, min_samples_leaf=1, min_samples_split=2, n_estimators=900; total time=  42.5s\n",
      "[CV] END criterion=gini, max_depth=120, max_features=sqrt, min_samples_leaf=1, min_samples_split=3, n_estimators=500; total time=  22.9s\n",
      "[CV] END criterion=gini, max_depth=120, max_features=sqrt, min_samples_leaf=1, min_samples_split=3, n_estimators=500; total time=  22.7s\n",
      "[CV] END criterion=gini, max_depth=120, max_features=sqrt, min_samples_leaf=1, min_samples_split=3, n_estimators=500; total time=  23.4s\n",
      "[CV] END criterion=gini, max_depth=120, max_features=sqrt, min_samples_leaf=1, min_samples_split=3, n_estimators=600; total time=  27.6s\n",
      "[CV] END criterion=gini, max_depth=120, max_features=sqrt, min_samples_leaf=1, min_samples_split=3, n_estimators=600; total time=  27.8s\n",
      "[CV] END criterion=gini, max_depth=120, max_features=sqrt, min_samples_leaf=1, min_samples_split=3, n_estimators=600; total time=  27.9s\n",
      "[CV] END criterion=gini, max_depth=120, max_features=sqrt, min_samples_leaf=1, min_samples_split=3, n_estimators=700; total time=  32.7s\n",
      "[CV] END criterion=gini, max_depth=120, max_features=sqrt, min_samples_leaf=1, min_samples_split=3, n_estimators=700; total time=  32.9s\n",
      "[CV] END criterion=gini, max_depth=120, max_features=sqrt, min_samples_leaf=1, min_samples_split=3, n_estimators=700; total time=  33.1s\n",
      "[CV] END criterion=gini, max_depth=120, max_features=sqrt, min_samples_leaf=1, min_samples_split=3, n_estimators=800; total time=  37.4s\n",
      "[CV] END criterion=gini, max_depth=120, max_features=sqrt, min_samples_leaf=1, min_samples_split=3, n_estimators=800; total time=  38.0s\n",
      "[CV] END criterion=gini, max_depth=120, max_features=sqrt, min_samples_leaf=1, min_samples_split=3, n_estimators=800; total time=  37.6s\n",
      "[CV] END criterion=gini, max_depth=120, max_features=sqrt, min_samples_leaf=1, min_samples_split=3, n_estimators=900; total time=  42.5s\n",
      "[CV] END criterion=gini, max_depth=120, max_features=sqrt, min_samples_leaf=1, min_samples_split=3, n_estimators=900; total time=  43.1s\n",
      "[CV] END criterion=gini, max_depth=120, max_features=sqrt, min_samples_leaf=1, min_samples_split=3, n_estimators=900; total time=  42.4s\n"
     ]
    },
    {
     "name": "stdout",
     "output_type": "stream",
     "text": [
      "[CV] END criterion=gini, max_depth=120, max_features=sqrt, min_samples_leaf=1, min_samples_split=4, n_estimators=500; total time=  23.2s\n",
      "[CV] END criterion=gini, max_depth=120, max_features=sqrt, min_samples_leaf=1, min_samples_split=4, n_estimators=500; total time=  23.7s\n",
      "[CV] END criterion=gini, max_depth=120, max_features=sqrt, min_samples_leaf=1, min_samples_split=4, n_estimators=500; total time=  24.0s\n",
      "[CV] END criterion=gini, max_depth=120, max_features=sqrt, min_samples_leaf=1, min_samples_split=4, n_estimators=600; total time=  27.4s\n",
      "[CV] END criterion=gini, max_depth=120, max_features=sqrt, min_samples_leaf=1, min_samples_split=4, n_estimators=600; total time=  28.0s\n",
      "[CV] END criterion=gini, max_depth=120, max_features=sqrt, min_samples_leaf=1, min_samples_split=4, n_estimators=600; total time=  27.8s\n",
      "[CV] END criterion=gini, max_depth=120, max_features=sqrt, min_samples_leaf=1, min_samples_split=4, n_estimators=700; total time=  32.7s\n",
      "[CV] END criterion=gini, max_depth=120, max_features=sqrt, min_samples_leaf=1, min_samples_split=4, n_estimators=700; total time=  33.0s\n",
      "[CV] END criterion=gini, max_depth=120, max_features=sqrt, min_samples_leaf=1, min_samples_split=4, n_estimators=700; total time=  32.4s\n",
      "[CV] END criterion=gini, max_depth=120, max_features=sqrt, min_samples_leaf=1, min_samples_split=4, n_estimators=800; total time=  36.7s\n",
      "[CV] END criterion=gini, max_depth=120, max_features=sqrt, min_samples_leaf=1, min_samples_split=4, n_estimators=800; total time=  37.8s\n",
      "[CV] END criterion=gini, max_depth=120, max_features=sqrt, min_samples_leaf=1, min_samples_split=4, n_estimators=800; total time=  37.7s\n",
      "[CV] END criterion=gini, max_depth=120, max_features=sqrt, min_samples_leaf=1, min_samples_split=4, n_estimators=900; total time=  41.5s\n",
      "[CV] END criterion=gini, max_depth=120, max_features=sqrt, min_samples_leaf=1, min_samples_split=4, n_estimators=900; total time=  41.9s\n",
      "[CV] END criterion=gini, max_depth=120, max_features=sqrt, min_samples_leaf=1, min_samples_split=4, n_estimators=900; total time=  42.1s\n",
      "[CV] END criterion=gini, max_depth=120, max_features=sqrt, min_samples_leaf=3, min_samples_split=0, n_estimators=500; total time=   0.0s\n",
      "[CV] END criterion=gini, max_depth=120, max_features=sqrt, min_samples_leaf=3, min_samples_split=0, n_estimators=500; total time=   0.0s\n",
      "[CV] END criterion=gini, max_depth=120, max_features=sqrt, min_samples_leaf=3, min_samples_split=0, n_estimators=500; total time=   0.0s\n",
      "[CV] END criterion=gini, max_depth=120, max_features=sqrt, min_samples_leaf=3, min_samples_split=0, n_estimators=600; total time=   0.0s\n",
      "[CV] END criterion=gini, max_depth=120, max_features=sqrt, min_samples_leaf=3, min_samples_split=0, n_estimators=600; total time=   0.0s\n",
      "[CV] END criterion=gini, max_depth=120, max_features=sqrt, min_samples_leaf=3, min_samples_split=0, n_estimators=600; total time=   0.0s\n",
      "[CV] END criterion=gini, max_depth=120, max_features=sqrt, min_samples_leaf=3, min_samples_split=0, n_estimators=700; total time=   0.0s\n",
      "[CV] END criterion=gini, max_depth=120, max_features=sqrt, min_samples_leaf=3, min_samples_split=0, n_estimators=700; total time=   0.0s\n",
      "[CV] END criterion=gini, max_depth=120, max_features=sqrt, min_samples_leaf=3, min_samples_split=0, n_estimators=700; total time=   0.0s\n",
      "[CV] END criterion=gini, max_depth=120, max_features=sqrt, min_samples_leaf=3, min_samples_split=0, n_estimators=800; total time=   0.0s\n",
      "[CV] END criterion=gini, max_depth=120, max_features=sqrt, min_samples_leaf=3, min_samples_split=0, n_estimators=800; total time=   0.0s\n",
      "[CV] END criterion=gini, max_depth=120, max_features=sqrt, min_samples_leaf=3, min_samples_split=0, n_estimators=800; total time=   0.0s\n",
      "[CV] END criterion=gini, max_depth=120, max_features=sqrt, min_samples_leaf=3, min_samples_split=0, n_estimators=900; total time=   0.0s\n",
      "[CV] END criterion=gini, max_depth=120, max_features=sqrt, min_samples_leaf=3, min_samples_split=0, n_estimators=900; total time=   0.0s\n",
      "[CV] END criterion=gini, max_depth=120, max_features=sqrt, min_samples_leaf=3, min_samples_split=0, n_estimators=900; total time=   0.0s\n",
      "[CV] END criterion=gini, max_depth=120, max_features=sqrt, min_samples_leaf=3, min_samples_split=1, n_estimators=500; total time=   0.0s\n",
      "[CV] END criterion=gini, max_depth=120, max_features=sqrt, min_samples_leaf=3, min_samples_split=1, n_estimators=500; total time=   0.0s\n",
      "[CV] END criterion=gini, max_depth=120, max_features=sqrt, min_samples_leaf=3, min_samples_split=1, n_estimators=500; total time=   0.0s\n",
      "[CV] END criterion=gini, max_depth=120, max_features=sqrt, min_samples_leaf=3, min_samples_split=1, n_estimators=600; total time=   0.0s\n",
      "[CV] END criterion=gini, max_depth=120, max_features=sqrt, min_samples_leaf=3, min_samples_split=1, n_estimators=600; total time=   0.0s\n",
      "[CV] END criterion=gini, max_depth=120, max_features=sqrt, min_samples_leaf=3, min_samples_split=1, n_estimators=600; total time=   0.0s\n",
      "[CV] END criterion=gini, max_depth=120, max_features=sqrt, min_samples_leaf=3, min_samples_split=1, n_estimators=700; total time=   0.0s\n",
      "[CV] END criterion=gini, max_depth=120, max_features=sqrt, min_samples_leaf=3, min_samples_split=1, n_estimators=700; total time=   0.0s\n",
      "[CV] END criterion=gini, max_depth=120, max_features=sqrt, min_samples_leaf=3, min_samples_split=1, n_estimators=700; total time=   0.0s\n",
      "[CV] END criterion=gini, max_depth=120, max_features=sqrt, min_samples_leaf=3, min_samples_split=1, n_estimators=800; total time=   0.0s\n",
      "[CV] END criterion=gini, max_depth=120, max_features=sqrt, min_samples_leaf=3, min_samples_split=1, n_estimators=800; total time=   0.0s\n",
      "[CV] END criterion=gini, max_depth=120, max_features=sqrt, min_samples_leaf=3, min_samples_split=1, n_estimators=800; total time=   0.0s\n",
      "[CV] END criterion=gini, max_depth=120, max_features=sqrt, min_samples_leaf=3, min_samples_split=1, n_estimators=900; total time=   0.0s\n",
      "[CV] END criterion=gini, max_depth=120, max_features=sqrt, min_samples_leaf=3, min_samples_split=1, n_estimators=900; total time=   0.0s\n",
      "[CV] END criterion=gini, max_depth=120, max_features=sqrt, min_samples_leaf=3, min_samples_split=1, n_estimators=900; total time=   0.0s\n",
      "[CV] END criterion=gini, max_depth=120, max_features=sqrt, min_samples_leaf=3, min_samples_split=2, n_estimators=500; total time=  21.3s\n",
      "[CV] END criterion=gini, max_depth=120, max_features=sqrt, min_samples_leaf=3, min_samples_split=2, n_estimators=500; total time=  21.3s\n",
      "[CV] END criterion=gini, max_depth=120, max_features=sqrt, min_samples_leaf=3, min_samples_split=2, n_estimators=500; total time=  22.0s\n",
      "[CV] END criterion=gini, max_depth=120, max_features=sqrt, min_samples_leaf=3, min_samples_split=2, n_estimators=600; total time=  27.6s\n",
      "[CV] END criterion=gini, max_depth=120, max_features=sqrt, min_samples_leaf=3, min_samples_split=2, n_estimators=600; total time=  28.8s\n",
      "[CV] END criterion=gini, max_depth=120, max_features=sqrt, min_samples_leaf=3, min_samples_split=2, n_estimators=600; total time=  28.0s\n",
      "[CV] END criterion=gini, max_depth=120, max_features=sqrt, min_samples_leaf=3, min_samples_split=2, n_estimators=700; total time=  30.8s\n",
      "[CV] END criterion=gini, max_depth=120, max_features=sqrt, min_samples_leaf=3, min_samples_split=2, n_estimators=700; total time=  29.7s\n",
      "[CV] END criterion=gini, max_depth=120, max_features=sqrt, min_samples_leaf=3, min_samples_split=2, n_estimators=700; total time=  30.2s\n",
      "[CV] END criterion=gini, max_depth=120, max_features=sqrt, min_samples_leaf=3, min_samples_split=2, n_estimators=800; total time=  34.5s\n",
      "[CV] END criterion=gini, max_depth=120, max_features=sqrt, min_samples_leaf=3, min_samples_split=2, n_estimators=800; total time=  34.4s\n",
      "[CV] END criterion=gini, max_depth=120, max_features=sqrt, min_samples_leaf=3, min_samples_split=2, n_estimators=800; total time=  35.3s\n",
      "[CV] END criterion=gini, max_depth=120, max_features=sqrt, min_samples_leaf=3, min_samples_split=2, n_estimators=900; total time=  38.6s\n",
      "[CV] END criterion=gini, max_depth=120, max_features=sqrt, min_samples_leaf=3, min_samples_split=2, n_estimators=900; total time=  38.5s\n",
      "[CV] END criterion=gini, max_depth=120, max_features=sqrt, min_samples_leaf=3, min_samples_split=2, n_estimators=900; total time=  39.2s\n"
     ]
    },
    {
     "name": "stdout",
     "output_type": "stream",
     "text": [
      "[CV] END criterion=gini, max_depth=120, max_features=sqrt, min_samples_leaf=3, min_samples_split=3, n_estimators=500; total time=  21.2s\n",
      "[CV] END criterion=gini, max_depth=120, max_features=sqrt, min_samples_leaf=3, min_samples_split=3, n_estimators=500; total time=  21.1s\n",
      "[CV] END criterion=gini, max_depth=120, max_features=sqrt, min_samples_leaf=3, min_samples_split=3, n_estimators=500; total time=  21.4s\n",
      "[CV] END criterion=gini, max_depth=120, max_features=sqrt, min_samples_leaf=3, min_samples_split=3, n_estimators=600; total time=  25.9s\n",
      "[CV] END criterion=gini, max_depth=120, max_features=sqrt, min_samples_leaf=3, min_samples_split=3, n_estimators=600; total time=  25.9s\n",
      "[CV] END criterion=gini, max_depth=120, max_features=sqrt, min_samples_leaf=3, min_samples_split=3, n_estimators=600; total time=  26.0s\n",
      "[CV] END criterion=gini, max_depth=120, max_features=sqrt, min_samples_leaf=3, min_samples_split=3, n_estimators=700; total time=  30.6s\n",
      "[CV] END criterion=gini, max_depth=120, max_features=sqrt, min_samples_leaf=3, min_samples_split=3, n_estimators=700; total time=  30.1s\n",
      "[CV] END criterion=gini, max_depth=120, max_features=sqrt, min_samples_leaf=3, min_samples_split=3, n_estimators=700; total time=  29.4s\n",
      "[CV] END criterion=gini, max_depth=120, max_features=sqrt, min_samples_leaf=3, min_samples_split=3, n_estimators=800; total time=  34.0s\n",
      "[CV] END criterion=gini, max_depth=120, max_features=sqrt, min_samples_leaf=3, min_samples_split=3, n_estimators=800; total time=  34.6s\n",
      "[CV] END criterion=gini, max_depth=120, max_features=sqrt, min_samples_leaf=3, min_samples_split=3, n_estimators=800; total time=  34.6s\n",
      "[CV] END criterion=gini, max_depth=120, max_features=sqrt, min_samples_leaf=3, min_samples_split=3, n_estimators=900; total time=  39.0s\n",
      "[CV] END criterion=gini, max_depth=120, max_features=sqrt, min_samples_leaf=3, min_samples_split=3, n_estimators=900; total time=  39.5s\n",
      "[CV] END criterion=gini, max_depth=120, max_features=sqrt, min_samples_leaf=3, min_samples_split=3, n_estimators=900; total time=  39.2s\n",
      "[CV] END criterion=gini, max_depth=120, max_features=sqrt, min_samples_leaf=3, min_samples_split=4, n_estimators=500; total time=  21.3s\n",
      "[CV] END criterion=gini, max_depth=120, max_features=sqrt, min_samples_leaf=3, min_samples_split=4, n_estimators=500; total time=  21.9s\n",
      "[CV] END criterion=gini, max_depth=120, max_features=sqrt, min_samples_leaf=3, min_samples_split=4, n_estimators=500; total time=  22.1s\n",
      "[CV] END criterion=gini, max_depth=120, max_features=sqrt, min_samples_leaf=3, min_samples_split=4, n_estimators=600; total time=  25.8s\n",
      "[CV] END criterion=gini, max_depth=120, max_features=sqrt, min_samples_leaf=3, min_samples_split=4, n_estimators=600; total time=  25.8s\n",
      "[CV] END criterion=gini, max_depth=120, max_features=sqrt, min_samples_leaf=3, min_samples_split=4, n_estimators=600; total time=  26.1s\n",
      "[CV] END criterion=gini, max_depth=120, max_features=sqrt, min_samples_leaf=3, min_samples_split=4, n_estimators=700; total time=  30.1s\n",
      "[CV] END criterion=gini, max_depth=120, max_features=sqrt, min_samples_leaf=3, min_samples_split=4, n_estimators=700; total time=  29.7s\n",
      "[CV] END criterion=gini, max_depth=120, max_features=sqrt, min_samples_leaf=3, min_samples_split=4, n_estimators=700; total time=  30.5s\n",
      "[CV] END criterion=gini, max_depth=120, max_features=sqrt, min_samples_leaf=3, min_samples_split=4, n_estimators=800; total time=  34.5s\n",
      "[CV] END criterion=gini, max_depth=120, max_features=sqrt, min_samples_leaf=3, min_samples_split=4, n_estimators=800; total time=  34.4s\n",
      "[CV] END criterion=gini, max_depth=120, max_features=sqrt, min_samples_leaf=3, min_samples_split=4, n_estimators=800; total time=  33.9s\n",
      "[CV] END criterion=gini, max_depth=120, max_features=sqrt, min_samples_leaf=3, min_samples_split=4, n_estimators=900; total time=  38.9s\n",
      "[CV] END criterion=gini, max_depth=120, max_features=sqrt, min_samples_leaf=3, min_samples_split=4, n_estimators=900; total time=  39.4s\n",
      "[CV] END criterion=gini, max_depth=120, max_features=sqrt, min_samples_leaf=3, min_samples_split=4, n_estimators=900; total time=  39.3s\n",
      "[CV] END criterion=gini, max_depth=120, max_features=sqrt, min_samples_leaf=5, min_samples_split=0, n_estimators=500; total time=   0.0s\n",
      "[CV] END criterion=gini, max_depth=120, max_features=sqrt, min_samples_leaf=5, min_samples_split=0, n_estimators=500; total time=   0.0s\n",
      "[CV] END criterion=gini, max_depth=120, max_features=sqrt, min_samples_leaf=5, min_samples_split=0, n_estimators=500; total time=   0.0s\n",
      "[CV] END criterion=gini, max_depth=120, max_features=sqrt, min_samples_leaf=5, min_samples_split=0, n_estimators=600; total time=   0.0s\n",
      "[CV] END criterion=gini, max_depth=120, max_features=sqrt, min_samples_leaf=5, min_samples_split=0, n_estimators=600; total time=   0.0s\n",
      "[CV] END criterion=gini, max_depth=120, max_features=sqrt, min_samples_leaf=5, min_samples_split=0, n_estimators=600; total time=   0.0s\n",
      "[CV] END criterion=gini, max_depth=120, max_features=sqrt, min_samples_leaf=5, min_samples_split=0, n_estimators=700; total time=   0.0s\n",
      "[CV] END criterion=gini, max_depth=120, max_features=sqrt, min_samples_leaf=5, min_samples_split=0, n_estimators=700; total time=   0.0s\n",
      "[CV] END criterion=gini, max_depth=120, max_features=sqrt, min_samples_leaf=5, min_samples_split=0, n_estimators=700; total time=   0.0s\n",
      "[CV] END criterion=gini, max_depth=120, max_features=sqrt, min_samples_leaf=5, min_samples_split=0, n_estimators=800; total time=   0.0s\n",
      "[CV] END criterion=gini, max_depth=120, max_features=sqrt, min_samples_leaf=5, min_samples_split=0, n_estimators=800; total time=   0.0s\n",
      "[CV] END criterion=gini, max_depth=120, max_features=sqrt, min_samples_leaf=5, min_samples_split=0, n_estimators=800; total time=   0.0s\n",
      "[CV] END criterion=gini, max_depth=120, max_features=sqrt, min_samples_leaf=5, min_samples_split=0, n_estimators=900; total time=   0.0s\n",
      "[CV] END criterion=gini, max_depth=120, max_features=sqrt, min_samples_leaf=5, min_samples_split=0, n_estimators=900; total time=   0.0s\n",
      "[CV] END criterion=gini, max_depth=120, max_features=sqrt, min_samples_leaf=5, min_samples_split=0, n_estimators=900; total time=   0.0s\n",
      "[CV] END criterion=gini, max_depth=120, max_features=sqrt, min_samples_leaf=5, min_samples_split=1, n_estimators=500; total time=   0.0s\n",
      "[CV] END criterion=gini, max_depth=120, max_features=sqrt, min_samples_leaf=5, min_samples_split=1, n_estimators=500; total time=   0.0s\n",
      "[CV] END criterion=gini, max_depth=120, max_features=sqrt, min_samples_leaf=5, min_samples_split=1, n_estimators=500; total time=   0.0s\n",
      "[CV] END criterion=gini, max_depth=120, max_features=sqrt, min_samples_leaf=5, min_samples_split=1, n_estimators=600; total time=   0.0s\n",
      "[CV] END criterion=gini, max_depth=120, max_features=sqrt, min_samples_leaf=5, min_samples_split=1, n_estimators=600; total time=   0.0s\n",
      "[CV] END criterion=gini, max_depth=120, max_features=sqrt, min_samples_leaf=5, min_samples_split=1, n_estimators=600; total time=   0.0s\n",
      "[CV] END criterion=gini, max_depth=120, max_features=sqrt, min_samples_leaf=5, min_samples_split=1, n_estimators=700; total time=   0.0s\n",
      "[CV] END criterion=gini, max_depth=120, max_features=sqrt, min_samples_leaf=5, min_samples_split=1, n_estimators=700; total time=   0.0s\n",
      "[CV] END criterion=gini, max_depth=120, max_features=sqrt, min_samples_leaf=5, min_samples_split=1, n_estimators=700; total time=   0.0s\n",
      "[CV] END criterion=gini, max_depth=120, max_features=sqrt, min_samples_leaf=5, min_samples_split=1, n_estimators=800; total time=   0.0s\n",
      "[CV] END criterion=gini, max_depth=120, max_features=sqrt, min_samples_leaf=5, min_samples_split=1, n_estimators=800; total time=   0.0s\n",
      "[CV] END criterion=gini, max_depth=120, max_features=sqrt, min_samples_leaf=5, min_samples_split=1, n_estimators=800; total time=   0.0s\n",
      "[CV] END criterion=gini, max_depth=120, max_features=sqrt, min_samples_leaf=5, min_samples_split=1, n_estimators=900; total time=   0.0s\n",
      "[CV] END criterion=gini, max_depth=120, max_features=sqrt, min_samples_leaf=5, min_samples_split=1, n_estimators=900; total time=   0.0s\n",
      "[CV] END criterion=gini, max_depth=120, max_features=sqrt, min_samples_leaf=5, min_samples_split=1, n_estimators=900; total time=   0.0s\n"
     ]
    },
    {
     "name": "stdout",
     "output_type": "stream",
     "text": [
      "[CV] END criterion=gini, max_depth=120, max_features=sqrt, min_samples_leaf=5, min_samples_split=2, n_estimators=500; total time=  20.3s\n",
      "[CV] END criterion=gini, max_depth=120, max_features=sqrt, min_samples_leaf=5, min_samples_split=2, n_estimators=500; total time=  19.8s\n",
      "[CV] END criterion=gini, max_depth=120, max_features=sqrt, min_samples_leaf=5, min_samples_split=2, n_estimators=500; total time=  20.0s\n",
      "[CV] END criterion=gini, max_depth=120, max_features=sqrt, min_samples_leaf=5, min_samples_split=2, n_estimators=600; total time=  23.8s\n",
      "[CV] END criterion=gini, max_depth=120, max_features=sqrt, min_samples_leaf=5, min_samples_split=2, n_estimators=600; total time=  24.1s\n",
      "[CV] END criterion=gini, max_depth=120, max_features=sqrt, min_samples_leaf=5, min_samples_split=2, n_estimators=600; total time=  23.8s\n",
      "[CV] END criterion=gini, max_depth=120, max_features=sqrt, min_samples_leaf=5, min_samples_split=2, n_estimators=700; total time=  28.2s\n",
      "[CV] END criterion=gini, max_depth=120, max_features=sqrt, min_samples_leaf=5, min_samples_split=2, n_estimators=700; total time=  27.3s\n",
      "[CV] END criterion=gini, max_depth=120, max_features=sqrt, min_samples_leaf=5, min_samples_split=2, n_estimators=700; total time=  27.3s\n",
      "[CV] END criterion=gini, max_depth=120, max_features=sqrt, min_samples_leaf=5, min_samples_split=2, n_estimators=800; total time=  31.4s\n",
      "[CV] END criterion=gini, max_depth=120, max_features=sqrt, min_samples_leaf=5, min_samples_split=2, n_estimators=800; total time=  32.3s\n",
      "[CV] END criterion=gini, max_depth=120, max_features=sqrt, min_samples_leaf=5, min_samples_split=2, n_estimators=800; total time=  32.1s\n",
      "[CV] END criterion=gini, max_depth=120, max_features=sqrt, min_samples_leaf=5, min_samples_split=2, n_estimators=900; total time=  36.1s\n",
      "[CV] END criterion=gini, max_depth=120, max_features=sqrt, min_samples_leaf=5, min_samples_split=2, n_estimators=900; total time=  36.5s\n",
      "[CV] END criterion=gini, max_depth=120, max_features=sqrt, min_samples_leaf=5, min_samples_split=2, n_estimators=900; total time=  35.4s\n",
      "[CV] END criterion=gini, max_depth=120, max_features=sqrt, min_samples_leaf=5, min_samples_split=3, n_estimators=500; total time=  19.6s\n",
      "[CV] END criterion=gini, max_depth=120, max_features=sqrt, min_samples_leaf=5, min_samples_split=3, n_estimators=500; total time=  19.8s\n",
      "[CV] END criterion=gini, max_depth=120, max_features=sqrt, min_samples_leaf=5, min_samples_split=3, n_estimators=500; total time=  19.4s\n",
      "[CV] END criterion=gini, max_depth=120, max_features=sqrt, min_samples_leaf=5, min_samples_split=3, n_estimators=600; total time=  23.4s\n",
      "[CV] END criterion=gini, max_depth=120, max_features=sqrt, min_samples_leaf=5, min_samples_split=3, n_estimators=600; total time=  23.9s\n",
      "[CV] END criterion=gini, max_depth=120, max_features=sqrt, min_samples_leaf=5, min_samples_split=3, n_estimators=600; total time=  23.4s\n",
      "[CV] END criterion=gini, max_depth=120, max_features=sqrt, min_samples_leaf=5, min_samples_split=3, n_estimators=700; total time=  27.2s\n",
      "[CV] END criterion=gini, max_depth=120, max_features=sqrt, min_samples_leaf=5, min_samples_split=3, n_estimators=700; total time=  27.2s\n",
      "[CV] END criterion=gini, max_depth=120, max_features=sqrt, min_samples_leaf=5, min_samples_split=3, n_estimators=700; total time=  27.9s\n",
      "[CV] END criterion=gini, max_depth=120, max_features=sqrt, min_samples_leaf=5, min_samples_split=3, n_estimators=800; total time=  31.4s\n",
      "[CV] END criterion=gini, max_depth=120, max_features=sqrt, min_samples_leaf=5, min_samples_split=3, n_estimators=800; total time=  31.4s\n",
      "[CV] END criterion=gini, max_depth=120, max_features=sqrt, min_samples_leaf=5, min_samples_split=3, n_estimators=800; total time=  31.6s\n",
      "[CV] END criterion=gini, max_depth=120, max_features=sqrt, min_samples_leaf=5, min_samples_split=3, n_estimators=900; total time=  35.1s\n",
      "[CV] END criterion=gini, max_depth=120, max_features=sqrt, min_samples_leaf=5, min_samples_split=3, n_estimators=900; total time=  35.1s\n",
      "[CV] END criterion=gini, max_depth=120, max_features=sqrt, min_samples_leaf=5, min_samples_split=3, n_estimators=900; total time=  36.9s\n",
      "[CV] END criterion=gini, max_depth=120, max_features=sqrt, min_samples_leaf=5, min_samples_split=4, n_estimators=500; total time=  21.3s\n",
      "[CV] END criterion=gini, max_depth=120, max_features=sqrt, min_samples_leaf=5, min_samples_split=4, n_estimators=500; total time=  21.3s\n",
      "[CV] END criterion=gini, max_depth=120, max_features=sqrt, min_samples_leaf=5, min_samples_split=4, n_estimators=500; total time=  20.9s\n",
      "[CV] END criterion=gini, max_depth=120, max_features=sqrt, min_samples_leaf=5, min_samples_split=4, n_estimators=600; total time=  25.5s\n",
      "[CV] END criterion=gini, max_depth=120, max_features=sqrt, min_samples_leaf=5, min_samples_split=4, n_estimators=600; total time=  25.9s\n",
      "[CV] END criterion=gini, max_depth=120, max_features=sqrt, min_samples_leaf=5, min_samples_split=4, n_estimators=600; total time=  24.6s\n",
      "[CV] END criterion=gini, max_depth=120, max_features=sqrt, min_samples_leaf=5, min_samples_split=4, n_estimators=700; total time=  28.6s\n",
      "[CV] END criterion=gini, max_depth=120, max_features=sqrt, min_samples_leaf=5, min_samples_split=4, n_estimators=700; total time=  28.6s\n",
      "[CV] END criterion=gini, max_depth=120, max_features=sqrt, min_samples_leaf=5, min_samples_split=4, n_estimators=700; total time=  29.3s\n",
      "[CV] END criterion=gini, max_depth=120, max_features=sqrt, min_samples_leaf=5, min_samples_split=4, n_estimators=800; total time=  32.8s\n",
      "[CV] END criterion=gini, max_depth=120, max_features=sqrt, min_samples_leaf=5, min_samples_split=4, n_estimators=800; total time=  32.1s\n",
      "[CV] END criterion=gini, max_depth=120, max_features=sqrt, min_samples_leaf=5, min_samples_split=4, n_estimators=800; total time=  33.0s\n",
      "[CV] END criterion=gini, max_depth=120, max_features=sqrt, min_samples_leaf=5, min_samples_split=4, n_estimators=900; total time=  36.0s\n",
      "[CV] END criterion=gini, max_depth=120, max_features=sqrt, min_samples_leaf=5, min_samples_split=4, n_estimators=900; total time=  36.0s\n",
      "[CV] END criterion=gini, max_depth=120, max_features=sqrt, min_samples_leaf=5, min_samples_split=4, n_estimators=900; total time=  36.3s\n"
     ]
    },
    {
     "data": {
      "text/html": [
       "<style>#sk-container-id-6 {color: black;background-color: white;}#sk-container-id-6 pre{padding: 0;}#sk-container-id-6 div.sk-toggleable {background-color: white;}#sk-container-id-6 label.sk-toggleable__label {cursor: pointer;display: block;width: 100%;margin-bottom: 0;padding: 0.3em;box-sizing: border-box;text-align: center;}#sk-container-id-6 label.sk-toggleable__label-arrow:before {content: \"▸\";float: left;margin-right: 0.25em;color: #696969;}#sk-container-id-6 label.sk-toggleable__label-arrow:hover:before {color: black;}#sk-container-id-6 div.sk-estimator:hover label.sk-toggleable__label-arrow:before {color: black;}#sk-container-id-6 div.sk-toggleable__content {max-height: 0;max-width: 0;overflow: hidden;text-align: left;background-color: #f0f8ff;}#sk-container-id-6 div.sk-toggleable__content pre {margin: 0.2em;color: black;border-radius: 0.25em;background-color: #f0f8ff;}#sk-container-id-6 input.sk-toggleable__control:checked~div.sk-toggleable__content {max-height: 200px;max-width: 100%;overflow: auto;}#sk-container-id-6 input.sk-toggleable__control:checked~label.sk-toggleable__label-arrow:before {content: \"▾\";}#sk-container-id-6 div.sk-estimator input.sk-toggleable__control:checked~label.sk-toggleable__label {background-color: #d4ebff;}#sk-container-id-6 div.sk-label input.sk-toggleable__control:checked~label.sk-toggleable__label {background-color: #d4ebff;}#sk-container-id-6 input.sk-hidden--visually {border: 0;clip: rect(1px 1px 1px 1px);clip: rect(1px, 1px, 1px, 1px);height: 1px;margin: -1px;overflow: hidden;padding: 0;position: absolute;width: 1px;}#sk-container-id-6 div.sk-estimator {font-family: monospace;background-color: #f0f8ff;border: 1px dotted black;border-radius: 0.25em;box-sizing: border-box;margin-bottom: 0.5em;}#sk-container-id-6 div.sk-estimator:hover {background-color: #d4ebff;}#sk-container-id-6 div.sk-parallel-item::after {content: \"\";width: 100%;border-bottom: 1px solid gray;flex-grow: 1;}#sk-container-id-6 div.sk-label:hover label.sk-toggleable__label {background-color: #d4ebff;}#sk-container-id-6 div.sk-serial::before {content: \"\";position: absolute;border-left: 1px solid gray;box-sizing: border-box;top: 0;bottom: 0;left: 50%;z-index: 0;}#sk-container-id-6 div.sk-serial {display: flex;flex-direction: column;align-items: center;background-color: white;padding-right: 0.2em;padding-left: 0.2em;position: relative;}#sk-container-id-6 div.sk-item {position: relative;z-index: 1;}#sk-container-id-6 div.sk-parallel {display: flex;align-items: stretch;justify-content: center;background-color: white;position: relative;}#sk-container-id-6 div.sk-item::before, #sk-container-id-6 div.sk-parallel-item::before {content: \"\";position: absolute;border-left: 1px solid gray;box-sizing: border-box;top: 0;bottom: 0;left: 50%;z-index: -1;}#sk-container-id-6 div.sk-parallel-item {display: flex;flex-direction: column;z-index: 1;position: relative;background-color: white;}#sk-container-id-6 div.sk-parallel-item:first-child::after {align-self: flex-end;width: 50%;}#sk-container-id-6 div.sk-parallel-item:last-child::after {align-self: flex-start;width: 50%;}#sk-container-id-6 div.sk-parallel-item:only-child::after {width: 0;}#sk-container-id-6 div.sk-dashed-wrapped {border: 1px dashed gray;margin: 0 0.4em 0.5em 0.4em;box-sizing: border-box;padding-bottom: 0.4em;background-color: white;}#sk-container-id-6 div.sk-label label {font-family: monospace;font-weight: bold;display: inline-block;line-height: 1.2em;}#sk-container-id-6 div.sk-label-container {text-align: center;}#sk-container-id-6 div.sk-container {/* jupyter's `normalize.less` sets `[hidden] { display: none; }` but bootstrap.min.css set `[hidden] { display: none !important; }` so we also need the `!important` here to be able to override the default hidden behavior on the sphinx rendered scikit-learn.org. See: https://github.com/scikit-learn/scikit-learn/issues/21755 */display: inline-block !important;position: relative;}#sk-container-id-6 div.sk-text-repr-fallback {display: none;}</style><div id=\"sk-container-id-6\" class=\"sk-top-container\"><div class=\"sk-text-repr-fallback\"><pre>GridSearchCV(cv=3, estimator=RandomForestClassifier(),\n",
       "             param_grid={&#x27;criterion&#x27;: [&#x27;gini&#x27;], &#x27;max_depth&#x27;: [120],\n",
       "                         &#x27;max_features&#x27;: [&#x27;sqrt&#x27;],\n",
       "                         &#x27;min_samples_leaf&#x27;: [1, 3, 5],\n",
       "                         &#x27;min_samples_split&#x27;: [0, 1, 2, 3, 4],\n",
       "                         &#x27;n_estimators&#x27;: [500, 600, 700, 800, 900]},\n",
       "             scoring=&#x27;accuracy&#x27;, verbose=2)</pre><b>In a Jupyter environment, please rerun this cell to show the HTML representation or trust the notebook. <br />On GitHub, the HTML representation is unable to render, please try loading this page with nbviewer.org.</b></div><div class=\"sk-container\" hidden><div class=\"sk-item sk-dashed-wrapped\"><div class=\"sk-label-container\"><div class=\"sk-label sk-toggleable\"><input class=\"sk-toggleable__control sk-hidden--visually\" id=\"sk-estimator-id-12\" type=\"checkbox\" ><label for=\"sk-estimator-id-12\" class=\"sk-toggleable__label sk-toggleable__label-arrow\">GridSearchCV</label><div class=\"sk-toggleable__content\"><pre>GridSearchCV(cv=3, estimator=RandomForestClassifier(),\n",
       "             param_grid={&#x27;criterion&#x27;: [&#x27;gini&#x27;], &#x27;max_depth&#x27;: [120],\n",
       "                         &#x27;max_features&#x27;: [&#x27;sqrt&#x27;],\n",
       "                         &#x27;min_samples_leaf&#x27;: [1, 3, 5],\n",
       "                         &#x27;min_samples_split&#x27;: [0, 1, 2, 3, 4],\n",
       "                         &#x27;n_estimators&#x27;: [500, 600, 700, 800, 900]},\n",
       "             scoring=&#x27;accuracy&#x27;, verbose=2)</pre></div></div></div><div class=\"sk-parallel\"><div class=\"sk-parallel-item\"><div class=\"sk-item\"><div class=\"sk-label-container\"><div class=\"sk-label sk-toggleable\"><input class=\"sk-toggleable__control sk-hidden--visually\" id=\"sk-estimator-id-13\" type=\"checkbox\" ><label for=\"sk-estimator-id-13\" class=\"sk-toggleable__label sk-toggleable__label-arrow\">estimator: RandomForestClassifier</label><div class=\"sk-toggleable__content\"><pre>RandomForestClassifier()</pre></div></div></div><div class=\"sk-serial\"><div class=\"sk-item\"><div class=\"sk-estimator sk-toggleable\"><input class=\"sk-toggleable__control sk-hidden--visually\" id=\"sk-estimator-id-14\" type=\"checkbox\" ><label for=\"sk-estimator-id-14\" class=\"sk-toggleable__label sk-toggleable__label-arrow\">RandomForestClassifier</label><div class=\"sk-toggleable__content\"><pre>RandomForestClassifier()</pre></div></div></div></div></div></div></div></div></div></div>"
      ],
      "text/plain": [
       "GridSearchCV(cv=3, estimator=RandomForestClassifier(),\n",
       "             param_grid={'criterion': ['gini'], 'max_depth': [120],\n",
       "                         'max_features': ['sqrt'],\n",
       "                         'min_samples_leaf': [1, 3, 5],\n",
       "                         'min_samples_split': [0, 1, 2, 3, 4],\n",
       "                         'n_estimators': [500, 600, 700, 800, 900]},\n",
       "             scoring='accuracy', verbose=2)"
      ]
     },
     "execution_count": 54,
     "metadata": {},
     "output_type": "execute_result"
    }
   ],
   "source": [
    "rf1=RandomForestClassifier()\n",
    "grid_search1=GridSearchCV(rf1,param_grid=param_grid1,scoring='accuracy',cv=3,verbose=2)\n",
    "grid_search1.fit(X_train,y1_train)\n"
   ]
  },
  {
   "cell_type": "code",
   "execution_count": 55,
   "id": "69fab11f",
   "metadata": {},
   "outputs": [
    {
     "data": {
      "text/plain": [
       "{'criterion': 'gini',\n",
       " 'max_depth': 120,\n",
       " 'max_features': 'sqrt',\n",
       " 'min_samples_leaf': 1,\n",
       " 'min_samples_split': 2,\n",
       " 'n_estimators': 700}"
      ]
     },
     "execution_count": 55,
     "metadata": {},
     "output_type": "execute_result"
    }
   ],
   "source": [
    "grid_search1.best_params_"
   ]
  },
  {
   "cell_type": "code",
   "execution_count": 56,
   "id": "edc2e7c4",
   "metadata": {},
   "outputs": [
    {
     "name": "stdout",
     "output_type": "stream",
     "text": [
      "[[ 140    8    0  155    0    0]\n",
      " [   1 1866   66  200    2    3]\n",
      " [   0  208  430    2    1   52]\n",
      " [  29  308    2 1794    0    1]\n",
      " [   0    2   14    1  274   81]\n",
      " [   0    5  116    0   18  434]]\n",
      "0.7947851279575084\n",
      "              precision    recall  f1-score   support\n",
      "\n",
      "           0       0.82      0.46      0.59       303\n",
      "           1       0.78      0.87      0.82      2138\n",
      "           2       0.68      0.62      0.65       693\n",
      "           3       0.83      0.84      0.84      2134\n",
      "           4       0.93      0.74      0.82       372\n",
      "           5       0.76      0.76      0.76       573\n",
      "\n",
      "    accuracy                           0.79      6213\n",
      "   macro avg       0.80      0.71      0.75      6213\n",
      "weighted avg       0.80      0.79      0.79      6213\n",
      "\n"
     ]
    }
   ],
   "source": [
    "best_grid1=grid_search1.best_estimator_\n",
    "y1_pred=best_grid1.predict(X_test)\n",
    "from sklearn.metrics import confusion_matrix,classification_report,accuracy_score\n",
    "print(confusion_matrix(y1_test,y1_pred))\n",
    "print(accuracy_score(y1_test,y1_pred))\n",
    "print(classification_report(y1_test,y1_pred))"
   ]
  },
  {
   "cell_type": "markdown",
   "id": "3515dd33",
   "metadata": {},
   "source": [
    "## Building a predictive system"
   ]
  },
  {
   "cell_type": "code",
   "execution_count": 57,
   "id": "fb4f390b",
   "metadata": {},
   "outputs": [
    {
     "name": "stdout",
     "output_type": "stream",
     "text": [
      "<class 'pandas.core.frame.DataFrame'>\n",
      "Int64Index: 24850 entries, 28 to 29530\n",
      "Data columns (total 14 columns):\n",
      " #   Column      Non-Null Count  Dtype  \n",
      "---  ------      --------------  -----  \n",
      " 0   PM2.5       24850 non-null  float64\n",
      " 1   PM10        24850 non-null  float64\n",
      " 2   NO          24850 non-null  float64\n",
      " 3   NO2         24850 non-null  float64\n",
      " 4   NOx         24850 non-null  float64\n",
      " 5   NH3         24850 non-null  float64\n",
      " 6   CO          24850 non-null  float64\n",
      " 7   SO2         24850 non-null  float64\n",
      " 8   O3          24850 non-null  float64\n",
      " 9   Benzene     24850 non-null  float64\n",
      " 10  Toluene     24850 non-null  float64\n",
      " 11  Xylene      24850 non-null  float64\n",
      " 12  AQI         24850 non-null  float64\n",
      " 13  AQI_Bucket  24850 non-null  int32  \n",
      "dtypes: float64(13), int32(1)\n",
      "memory usage: 2.7 MB\n"
     ]
    }
   ],
   "source": [
    "df.info()"
   ]
  },
  {
   "cell_type": "code",
   "execution_count": 58,
   "id": "103a451d",
   "metadata": {},
   "outputs": [
    {
     "data": {
      "text/html": [
       "<div>\n",
       "<style scoped>\n",
       "    .dataframe tbody tr th:only-of-type {\n",
       "        vertical-align: middle;\n",
       "    }\n",
       "\n",
       "    .dataframe tbody tr th {\n",
       "        vertical-align: top;\n",
       "    }\n",
       "\n",
       "    .dataframe thead th {\n",
       "        text-align: right;\n",
       "    }\n",
       "</style>\n",
       "<table border=\"1\" class=\"dataframe\">\n",
       "  <thead>\n",
       "    <tr style=\"text-align: right;\">\n",
       "      <th></th>\n",
       "      <th>PM2.5</th>\n",
       "      <th>PM10</th>\n",
       "      <th>NO</th>\n",
       "      <th>NO2</th>\n",
       "      <th>NOx</th>\n",
       "      <th>NH3</th>\n",
       "      <th>CO</th>\n",
       "      <th>SO2</th>\n",
       "      <th>O3</th>\n",
       "      <th>Benzene</th>\n",
       "      <th>Toluene</th>\n",
       "      <th>Xylene</th>\n",
       "      <th>AQI</th>\n",
       "      <th>AQI_Bucket</th>\n",
       "    </tr>\n",
       "  </thead>\n",
       "  <tbody>\n",
       "    <tr>\n",
       "      <th>count</th>\n",
       "      <td>24850.000000</td>\n",
       "      <td>24850.000000</td>\n",
       "      <td>24850.000000</td>\n",
       "      <td>24850.000000</td>\n",
       "      <td>24850.000000</td>\n",
       "      <td>24850.000000</td>\n",
       "      <td>24850.000000</td>\n",
       "      <td>24850.000000</td>\n",
       "      <td>24850.000000</td>\n",
       "      <td>24850.000000</td>\n",
       "      <td>24850.000000</td>\n",
       "      <td>24850.000000</td>\n",
       "      <td>24850.000000</td>\n",
       "      <td>24850.000000</td>\n",
       "    </tr>\n",
       "    <tr>\n",
       "      <th>mean</th>\n",
       "      <td>66.960771</td>\n",
       "      <td>111.960285</td>\n",
       "      <td>17.502000</td>\n",
       "      <td>28.863712</td>\n",
       "      <td>31.633718</td>\n",
       "      <td>21.744651</td>\n",
       "      <td>2.319207</td>\n",
       "      <td>14.236262</td>\n",
       "      <td>34.780619</td>\n",
       "      <td>3.118872</td>\n",
       "      <td>7.988748</td>\n",
       "      <td>1.974974</td>\n",
       "      <td>166.463581</td>\n",
       "      <td>2.257545</td>\n",
       "    </tr>\n",
       "    <tr>\n",
       "      <th>std</th>\n",
       "      <td>62.285153</td>\n",
       "      <td>76.355881</td>\n",
       "      <td>22.266453</td>\n",
       "      <td>24.449363</td>\n",
       "      <td>29.632820</td>\n",
       "      <td>22.491163</td>\n",
       "      <td>7.014226</td>\n",
       "      <td>17.233884</td>\n",
       "      <td>21.381041</td>\n",
       "      <td>14.875067</td>\n",
       "      <td>18.479885</td>\n",
       "      <td>4.359440</td>\n",
       "      <td>140.696585</td>\n",
       "      <td>1.377538</td>\n",
       "    </tr>\n",
       "    <tr>\n",
       "      <th>min</th>\n",
       "      <td>0.040000</td>\n",
       "      <td>0.030000</td>\n",
       "      <td>0.030000</td>\n",
       "      <td>0.010000</td>\n",
       "      <td>0.000000</td>\n",
       "      <td>0.010000</td>\n",
       "      <td>0.000000</td>\n",
       "      <td>0.010000</td>\n",
       "      <td>0.010000</td>\n",
       "      <td>0.000000</td>\n",
       "      <td>0.000000</td>\n",
       "      <td>0.000000</td>\n",
       "      <td>13.000000</td>\n",
       "      <td>0.000000</td>\n",
       "    </tr>\n",
       "    <tr>\n",
       "      <th>25%</th>\n",
       "      <td>29.560000</td>\n",
       "      <td>71.780000</td>\n",
       "      <td>5.720000</td>\n",
       "      <td>12.090000</td>\n",
       "      <td>14.030000</td>\n",
       "      <td>11.280000</td>\n",
       "      <td>0.590000</td>\n",
       "      <td>5.790000</td>\n",
       "      <td>19.640000</td>\n",
       "      <td>0.340000</td>\n",
       "      <td>1.580000</td>\n",
       "      <td>0.980000</td>\n",
       "      <td>81.000000</td>\n",
       "      <td>1.000000</td>\n",
       "    </tr>\n",
       "    <tr>\n",
       "      <th>50%</th>\n",
       "      <td>48.570000</td>\n",
       "      <td>95.680000</td>\n",
       "      <td>9.890000</td>\n",
       "      <td>21.725000</td>\n",
       "      <td>23.520000</td>\n",
       "      <td>15.850000</td>\n",
       "      <td>0.920000</td>\n",
       "      <td>9.160000</td>\n",
       "      <td>30.840000</td>\n",
       "      <td>1.070000</td>\n",
       "      <td>2.970000</td>\n",
       "      <td>0.980000</td>\n",
       "      <td>118.000000</td>\n",
       "      <td>2.000000</td>\n",
       "    </tr>\n",
       "    <tr>\n",
       "      <th>75%</th>\n",
       "      <td>79.507500</td>\n",
       "      <td>122.957500</td>\n",
       "      <td>19.710000</td>\n",
       "      <td>37.910000</td>\n",
       "      <td>38.170000</td>\n",
       "      <td>24.710000</td>\n",
       "      <td>1.460000</td>\n",
       "      <td>14.890000</td>\n",
       "      <td>45.397500</td>\n",
       "      <td>2.850000</td>\n",
       "      <td>7.380000</td>\n",
       "      <td>0.980000</td>\n",
       "      <td>208.000000</td>\n",
       "      <td>3.000000</td>\n",
       "    </tr>\n",
       "    <tr>\n",
       "      <th>max</th>\n",
       "      <td>914.940000</td>\n",
       "      <td>917.080000</td>\n",
       "      <td>390.680000</td>\n",
       "      <td>362.210000</td>\n",
       "      <td>378.240000</td>\n",
       "      <td>352.890000</td>\n",
       "      <td>175.810000</td>\n",
       "      <td>186.080000</td>\n",
       "      <td>257.730000</td>\n",
       "      <td>455.030000</td>\n",
       "      <td>454.850000</td>\n",
       "      <td>170.370000</td>\n",
       "      <td>2049.000000</td>\n",
       "      <td>5.000000</td>\n",
       "    </tr>\n",
       "  </tbody>\n",
       "</table>\n",
       "</div>"
      ],
      "text/plain": [
       "              PM2.5          PM10            NO           NO2           NOx  \\\n",
       "count  24850.000000  24850.000000  24850.000000  24850.000000  24850.000000   \n",
       "mean      66.960771    111.960285     17.502000     28.863712     31.633718   \n",
       "std       62.285153     76.355881     22.266453     24.449363     29.632820   \n",
       "min        0.040000      0.030000      0.030000      0.010000      0.000000   \n",
       "25%       29.560000     71.780000      5.720000     12.090000     14.030000   \n",
       "50%       48.570000     95.680000      9.890000     21.725000     23.520000   \n",
       "75%       79.507500    122.957500     19.710000     37.910000     38.170000   \n",
       "max      914.940000    917.080000    390.680000    362.210000    378.240000   \n",
       "\n",
       "                NH3            CO           SO2            O3       Benzene  \\\n",
       "count  24850.000000  24850.000000  24850.000000  24850.000000  24850.000000   \n",
       "mean      21.744651      2.319207     14.236262     34.780619      3.118872   \n",
       "std       22.491163      7.014226     17.233884     21.381041     14.875067   \n",
       "min        0.010000      0.000000      0.010000      0.010000      0.000000   \n",
       "25%       11.280000      0.590000      5.790000     19.640000      0.340000   \n",
       "50%       15.850000      0.920000      9.160000     30.840000      1.070000   \n",
       "75%       24.710000      1.460000     14.890000     45.397500      2.850000   \n",
       "max      352.890000    175.810000    186.080000    257.730000    455.030000   \n",
       "\n",
       "            Toluene        Xylene           AQI    AQI_Bucket  \n",
       "count  24850.000000  24850.000000  24850.000000  24850.000000  \n",
       "mean       7.988748      1.974974    166.463581      2.257545  \n",
       "std       18.479885      4.359440    140.696585      1.377538  \n",
       "min        0.000000      0.000000     13.000000      0.000000  \n",
       "25%        1.580000      0.980000     81.000000      1.000000  \n",
       "50%        2.970000      0.980000    118.000000      2.000000  \n",
       "75%        7.380000      0.980000    208.000000      3.000000  \n",
       "max      454.850000    170.370000   2049.000000      5.000000  "
      ]
     },
     "execution_count": 58,
     "metadata": {},
     "output_type": "execute_result"
    }
   ],
   "source": [
    "df.describe()"
   ]
  },
  {
   "cell_type": "code",
   "execution_count": 62,
   "id": "afed7eb1",
   "metadata": {},
   "outputs": [
    {
     "name": "stdout",
     "output_type": "stream",
     "text": [
      "[147.06759722]\n",
      " The Quality of the air according to AQI_Bucket would be \n",
      "Satisfactory\n"
     ]
    }
   ],
   "source": [
    "# give input data as of the feature and corrospponding data \n",
    "input_data = (69.960,110.09,10.2,11.00,23.98,8.93,0.00,19.0348,67.892,23.00,12.29,2.343)\n",
    "\n",
    "\n",
    "# changing the input_data to numpy array\n",
    "input_data_as_numpy_array = np.asarray(input_data)\n",
    "\n",
    "# reshape the array as we are predicting for one instance\n",
    "input_data_reshaped = input_data_as_numpy_array.reshape(1,-1)\n",
    "\n",
    "# standardize the input data\n",
    "std_data = scaler.transform(input_data_reshaped)\n",
    "\n",
    "# predict the AQI value by the particular data\n",
    "y_predict = best_grid.predict(std_data)\n",
    "print(y_predict)\n",
    "\n",
    "## predict the AQI_Bucket by the particular data\n",
    "y1_predict = best_grid1.predict(std_data)\n",
    "## 0 -->Moderate ,1 -->Satisfactory ,2-->Poor,3-->Very Poor,4-->Good ,5-->Severe\n",
    "print(\" The Quality of the air according to AQI_Bucket would be \")\n",
    "if (y1_predict[0] == 0):\n",
    "    print('Moderate')\n",
    "elif(y1_predict[0] == 1):\n",
    "    print('Satisfactory')\n",
    "elif(y1_predict[0] == 2):\n",
    "    print('Poor')\n",
    "elif(y1_predict[0] == 3):\n",
    "    print('Very Poor')\n",
    "elif(y1_predict[0] == 4):\n",
    "    print('Good')\n",
    "else :\n",
    "    print('Severe')"
   ]
  },
  {
   "cell_type": "code",
   "execution_count": null,
   "id": "f482cb4a",
   "metadata": {},
   "outputs": [],
   "source": []
  }
 ],
 "metadata": {
  "kernelspec": {
   "display_name": "Python 3 (ipykernel)",
   "language": "python",
   "name": "python3"
  },
  "language_info": {
   "codemirror_mode": {
    "name": "ipython",
    "version": 3
   },
   "file_extension": ".py",
   "mimetype": "text/x-python",
   "name": "python",
   "nbconvert_exporter": "python",
   "pygments_lexer": "ipython3",
   "version": "3.11.3"
  },
  "varInspector": {
   "cols": {
    "lenName": 16,
    "lenType": 16,
    "lenVar": 40
   },
   "kernels_config": {
    "python": {
     "delete_cmd_postfix": "",
     "delete_cmd_prefix": "del ",
     "library": "var_list.py",
     "varRefreshCmd": "print(var_dic_list())"
    },
    "r": {
     "delete_cmd_postfix": ") ",
     "delete_cmd_prefix": "rm(",
     "library": "var_list.r",
     "varRefreshCmd": "cat(var_dic_list()) "
    }
   },
   "types_to_exclude": [
    "module",
    "function",
    "builtin_function_or_method",
    "instance",
    "_Feature"
   ],
   "window_display": false
  }
 },
 "nbformat": 4,
 "nbformat_minor": 5
}
